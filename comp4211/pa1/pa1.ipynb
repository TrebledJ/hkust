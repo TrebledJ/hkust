{
  "cells": [
    {
      "cell_type": "markdown",
      "metadata": {
        "id": "orrWDRyukp9o"
      },
      "source": [
        "# COMP4211 PA1\n",
        "\n",
        "Name: *redacted*  \n",
        "SID: *redacted*  \n"
      ]
    },
    {
      "cell_type": "markdown",
      "metadata": {
        "id": "uDWjynCOROcl"
      },
      "source": [
        "First, we'll import some common libraries and datasets."
      ]
    },
    {
      "cell_type": "code",
      "execution_count": 155,
      "metadata": {
        "id": "RY3qJEtCkp96"
      },
      "outputs": [],
      "source": [
        "import numpy as np\n",
        "import pandas as pd\n",
        "import seaborn as sns\n",
        "import matplotlib.pyplot as plt\n",
        "%matplotlib inline\n",
        "\n",
        "colab = True\n",
        "plotting = True\n",
        "plt.rcParams[\"figure.figsize\"] = (16, 16) # (w, h)"
      ]
    },
    {
      "cell_type": "code",
      "execution_count": 223,
      "metadata": {
        "colab": {
          "base_uri": "https://localhost:8080/",
          "height": 300
        },
        "id": "3LjF9yhPkp-C",
        "outputId": "d99952ae-afda-421a-dcc5-28ee352b8cdf"
      },
      "outputs": [
        {
          "data": {
            "text/html": [
              "\n",
              "  <div id=\"df-d9cbbd0a-363d-4dcb-8a4d-2b98a73808d1\">\n",
              "    <div class=\"colab-df-container\">\n",
              "      <div>\n",
              "<style scoped>\n",
              "    .dataframe tbody tr th:only-of-type {\n",
              "        vertical-align: middle;\n",
              "    }\n",
              "\n",
              "    .dataframe tbody tr th {\n",
              "        vertical-align: top;\n",
              "    }\n",
              "\n",
              "    .dataframe thead th {\n",
              "        text-align: right;\n",
              "    }\n",
              "</style>\n",
              "<table border=\"1\" class=\"dataframe\">\n",
              "  <thead>\n",
              "    <tr style=\"text-align: right;\">\n",
              "      <th></th>\n",
              "      <th>MSSubClass</th>\n",
              "      <th>MSZoning</th>\n",
              "      <th>LotFrontage</th>\n",
              "      <th>LotArea</th>\n",
              "      <th>Street</th>\n",
              "      <th>LotShape</th>\n",
              "      <th>LandContour</th>\n",
              "      <th>Utilities</th>\n",
              "      <th>LotConfig</th>\n",
              "      <th>LandSlope</th>\n",
              "      <th>...</th>\n",
              "      <th>3SsnPorch</th>\n",
              "      <th>ScreenPorch</th>\n",
              "      <th>PoolArea</th>\n",
              "      <th>MiscVal</th>\n",
              "      <th>MoSold</th>\n",
              "      <th>YrSold</th>\n",
              "      <th>SaleType</th>\n",
              "      <th>SaleCondition</th>\n",
              "      <th>SalePrice</th>\n",
              "      <th>label</th>\n",
              "    </tr>\n",
              "  </thead>\n",
              "  <tbody>\n",
              "    <tr>\n",
              "      <th>0</th>\n",
              "      <td>120</td>\n",
              "      <td>RL</td>\n",
              "      <td>34.0</td>\n",
              "      <td>5381</td>\n",
              "      <td>Pave</td>\n",
              "      <td>IR1</td>\n",
              "      <td>Lvl</td>\n",
              "      <td>AllPub</td>\n",
              "      <td>Inside</td>\n",
              "      <td>Gtl</td>\n",
              "      <td>...</td>\n",
              "      <td>0</td>\n",
              "      <td>0</td>\n",
              "      <td>0</td>\n",
              "      <td>0</td>\n",
              "      <td>8</td>\n",
              "      <td>2009</td>\n",
              "      <td>WD</td>\n",
              "      <td>Normal</td>\n",
              "      <td>196000</td>\n",
              "      <td>1</td>\n",
              "    </tr>\n",
              "    <tr>\n",
              "      <th>1</th>\n",
              "      <td>20</td>\n",
              "      <td>RL</td>\n",
              "      <td>57.0</td>\n",
              "      <td>9764</td>\n",
              "      <td>Pave</td>\n",
              "      <td>IR1</td>\n",
              "      <td>Lvl</td>\n",
              "      <td>AllPub</td>\n",
              "      <td>FR2</td>\n",
              "      <td>Gtl</td>\n",
              "      <td>...</td>\n",
              "      <td>0</td>\n",
              "      <td>0</td>\n",
              "      <td>0</td>\n",
              "      <td>0</td>\n",
              "      <td>5</td>\n",
              "      <td>2008</td>\n",
              "      <td>WD</td>\n",
              "      <td>Normal</td>\n",
              "      <td>130000</td>\n",
              "      <td>0</td>\n",
              "    </tr>\n",
              "    <tr>\n",
              "      <th>2</th>\n",
              "      <td>60</td>\n",
              "      <td>RL</td>\n",
              "      <td>130.0</td>\n",
              "      <td>40094</td>\n",
              "      <td>Pave</td>\n",
              "      <td>IR1</td>\n",
              "      <td>Bnk</td>\n",
              "      <td>AllPub</td>\n",
              "      <td>Inside</td>\n",
              "      <td>Gtl</td>\n",
              "      <td>...</td>\n",
              "      <td>0</td>\n",
              "      <td>0</td>\n",
              "      <td>0</td>\n",
              "      <td>0</td>\n",
              "      <td>10</td>\n",
              "      <td>2007</td>\n",
              "      <td>New</td>\n",
              "      <td>Partial</td>\n",
              "      <td>184750</td>\n",
              "      <td>1</td>\n",
              "    </tr>\n",
              "    <tr>\n",
              "      <th>3</th>\n",
              "      <td>20</td>\n",
              "      <td>RL</td>\n",
              "      <td>NaN</td>\n",
              "      <td>8125</td>\n",
              "      <td>Pave</td>\n",
              "      <td>Reg</td>\n",
              "      <td>Lvl</td>\n",
              "      <td>AllPub</td>\n",
              "      <td>Inside</td>\n",
              "      <td>Gtl</td>\n",
              "      <td>...</td>\n",
              "      <td>0</td>\n",
              "      <td>0</td>\n",
              "      <td>0</td>\n",
              "      <td>0</td>\n",
              "      <td>2</td>\n",
              "      <td>2006</td>\n",
              "      <td>WD</td>\n",
              "      <td>Normal</td>\n",
              "      <td>230000</td>\n",
              "      <td>1</td>\n",
              "    </tr>\n",
              "    <tr>\n",
              "      <th>4</th>\n",
              "      <td>60</td>\n",
              "      <td>RL</td>\n",
              "      <td>NaN</td>\n",
              "      <td>10832</td>\n",
              "      <td>Pave</td>\n",
              "      <td>IR1</td>\n",
              "      <td>Lvl</td>\n",
              "      <td>AllPub</td>\n",
              "      <td>Corner</td>\n",
              "      <td>Gtl</td>\n",
              "      <td>...</td>\n",
              "      <td>0</td>\n",
              "      <td>0</td>\n",
              "      <td>0</td>\n",
              "      <td>500</td>\n",
              "      <td>10</td>\n",
              "      <td>2008</td>\n",
              "      <td>WD</td>\n",
              "      <td>Normal</td>\n",
              "      <td>194500</td>\n",
              "      <td>1</td>\n",
              "    </tr>\n",
              "  </tbody>\n",
              "</table>\n",
              "<p>5 rows × 76 columns</p>\n",
              "</div>\n",
              "      <button class=\"colab-df-convert\" onclick=\"convertToInteractive('df-d9cbbd0a-363d-4dcb-8a4d-2b98a73808d1')\"\n",
              "              title=\"Convert this dataframe to an interactive table.\"\n",
              "              style=\"display:none;\">\n",
              "        \n",
              "  <svg xmlns=\"http://www.w3.org/2000/svg\" height=\"24px\"viewBox=\"0 0 24 24\"\n",
              "       width=\"24px\">\n",
              "    <path d=\"M0 0h24v24H0V0z\" fill=\"none\"/>\n",
              "    <path d=\"M18.56 5.44l.94 2.06.94-2.06 2.06-.94-2.06-.94-.94-2.06-.94 2.06-2.06.94zm-11 1L8.5 8.5l.94-2.06 2.06-.94-2.06-.94L8.5 2.5l-.94 2.06-2.06.94zm10 10l.94 2.06.94-2.06 2.06-.94-2.06-.94-.94-2.06-.94 2.06-2.06.94z\"/><path d=\"M17.41 7.96l-1.37-1.37c-.4-.4-.92-.59-1.43-.59-.52 0-1.04.2-1.43.59L10.3 9.45l-7.72 7.72c-.78.78-.78 2.05 0 2.83L4 21.41c.39.39.9.59 1.41.59.51 0 1.02-.2 1.41-.59l7.78-7.78 2.81-2.81c.8-.78.8-2.07 0-2.86zM5.41 20L4 18.59l7.72-7.72 1.47 1.35L5.41 20z\"/>\n",
              "  </svg>\n",
              "      </button>\n",
              "      \n",
              "  <style>\n",
              "    .colab-df-container {\n",
              "      display:flex;\n",
              "      flex-wrap:wrap;\n",
              "      gap: 12px;\n",
              "    }\n",
              "\n",
              "    .colab-df-convert {\n",
              "      background-color: #E8F0FE;\n",
              "      border: none;\n",
              "      border-radius: 50%;\n",
              "      cursor: pointer;\n",
              "      display: none;\n",
              "      fill: #1967D2;\n",
              "      height: 32px;\n",
              "      padding: 0 0 0 0;\n",
              "      width: 32px;\n",
              "    }\n",
              "\n",
              "    .colab-df-convert:hover {\n",
              "      background-color: #E2EBFA;\n",
              "      box-shadow: 0px 1px 2px rgba(60, 64, 67, 0.3), 0px 1px 3px 1px rgba(60, 64, 67, 0.15);\n",
              "      fill: #174EA6;\n",
              "    }\n",
              "\n",
              "    [theme=dark] .colab-df-convert {\n",
              "      background-color: #3B4455;\n",
              "      fill: #D2E3FC;\n",
              "    }\n",
              "\n",
              "    [theme=dark] .colab-df-convert:hover {\n",
              "      background-color: #434B5C;\n",
              "      box-shadow: 0px 1px 3px 1px rgba(0, 0, 0, 0.15);\n",
              "      filter: drop-shadow(0px 1px 2px rgba(0, 0, 0, 0.3));\n",
              "      fill: #FFFFFF;\n",
              "    }\n",
              "  </style>\n",
              "\n",
              "      <script>\n",
              "        const buttonEl =\n",
              "          document.querySelector('#df-d9cbbd0a-363d-4dcb-8a4d-2b98a73808d1 button.colab-df-convert');\n",
              "        buttonEl.style.display =\n",
              "          google.colab.kernel.accessAllowed ? 'block' : 'none';\n",
              "\n",
              "        async function convertToInteractive(key) {\n",
              "          const element = document.querySelector('#df-d9cbbd0a-363d-4dcb-8a4d-2b98a73808d1');\n",
              "          const dataTable =\n",
              "            await google.colab.kernel.invokeFunction('convertToInteractive',\n",
              "                                                     [key], {});\n",
              "          if (!dataTable) return;\n",
              "\n",
              "          const docLinkHtml = 'Like what you see? Visit the ' +\n",
              "            '<a target=\"_blank\" href=https://colab.research.google.com/notebooks/data_table.ipynb>data table notebook</a>'\n",
              "            + ' to learn more about interactive tables.';\n",
              "          element.innerHTML = '';\n",
              "          dataTable['output_type'] = 'display_data';\n",
              "          await google.colab.output.renderOutput(dataTable, element);\n",
              "          const docLink = document.createElement('div');\n",
              "          docLink.innerHTML = docLinkHtml;\n",
              "          element.appendChild(docLink);\n",
              "        }\n",
              "      </script>\n",
              "    </div>\n",
              "  </div>\n",
              "  "
            ],
            "text/plain": [
              "   MSSubClass MSZoning  LotFrontage  LotArea Street LotShape LandContour  \\\n",
              "0         120       RL         34.0     5381   Pave      IR1         Lvl   \n",
              "1          20       RL         57.0     9764   Pave      IR1         Lvl   \n",
              "2          60       RL        130.0    40094   Pave      IR1         Bnk   \n",
              "3          20       RL          NaN     8125   Pave      Reg         Lvl   \n",
              "4          60       RL          NaN    10832   Pave      IR1         Lvl   \n",
              "\n",
              "  Utilities LotConfig LandSlope  ... 3SsnPorch ScreenPorch PoolArea MiscVal  \\\n",
              "0    AllPub    Inside       Gtl  ...         0           0        0       0   \n",
              "1    AllPub       FR2       Gtl  ...         0           0        0       0   \n",
              "2    AllPub    Inside       Gtl  ...         0           0        0       0   \n",
              "3    AllPub    Inside       Gtl  ...         0           0        0       0   \n",
              "4    AllPub    Corner       Gtl  ...         0           0        0     500   \n",
              "\n",
              "  MoSold  YrSold  SaleType  SaleCondition  SalePrice label  \n",
              "0      8    2009        WD         Normal     196000     1  \n",
              "1      5    2008        WD         Normal     130000     0  \n",
              "2     10    2007       New        Partial     184750     1  \n",
              "3      2    2006        WD         Normal     230000     1  \n",
              "4     10    2008        WD         Normal     194500     1  \n",
              "\n",
              "[5 rows x 76 columns]"
            ]
          },
          "execution_count": 223,
          "metadata": {},
          "output_type": "execute_result"
        }
      ],
      "source": [
        "# Load data.\n",
        "if colab:\n",
        "    # Import from online repo, since Google Colab keeps refreshing its filesystem.\n",
        "    df_train = pd.read_csv('https://raw.githubusercontent.com/TrebledJ/hkust/master/comp4211/pa1/data/train.csv')\n",
        "    df_test = pd.read_csv('https://raw.githubusercontent.com/TrebledJ/hkust/master/comp4211/pa1/data/test.csv')\n",
        "else:\n",
        "    df_train = pd.read_csv('data/train.csv')\n",
        "    df_test = pd.read_csv('data/test.csv')\n",
        "\n",
        "df_train.head()"
      ]
    },
    {
      "cell_type": "markdown",
      "metadata": {
        "id": "DFwVS6nXk9Vn"
      },
      "source": [
        "We'll define some helper functions so that future code is cleaner."
      ]
    },
    {
      "cell_type": "code",
      "execution_count": 186,
      "metadata": {
        "id": "jXOSKn45lDCI"
      },
      "outputs": [],
      "source": [
        "def print_metric(metric: str, data, *, dp=6, unit='', col=[20, 10]):\n",
        "    \"\"\"Helper function for pretty-printing a metric summary (mean / std).\"\"\"\n",
        "    if isinstance(data, (int, float)):\n",
        "        if unit == '%':\n",
        "            data *= 100\n",
        "        print(f' - {metric:{col[0]}} {data:.{dp}f}{unit}')\n",
        "    else:\n",
        "        mean = np.mean(np.array(data))\n",
        "        std = np.std(np.array(data))\n",
        "        if unit == '%':\n",
        "            mean *= 100\n",
        "            std *= 100\n",
        "        means = f'{mean:.{dp}f}{unit}'\n",
        "        print(f' - {metric:{col[0]}} µ={means:{col[1]}} / std={std:.{dp}f}{unit}')"
      ]
    },
    {
      "cell_type": "markdown",
      "metadata": {
        "id": "CMq7H3-sebIx"
      },
      "source": [
        "# Part 1: Data Processing"
      ]
    },
    {
      "cell_type": "markdown",
      "metadata": {
        "id": "CVyA43dFkp-E"
      },
      "source": [
        "## Q1: Preprocessing\n",
        "\n",
        "First, we'll clean up our messy data by filling NaN values with the median of a column (for numeric columns) and `\"None\"` (for non-numeric columns)."
      ]
    },
    {
      "cell_type": "code",
      "execution_count": 157,
      "metadata": {
        "id": "cU8IxQjAkp-F"
      },
      "outputs": [],
      "source": [
        "def preprocess(df):\n",
        "    df = df.drop_duplicates()\n",
        "    # Fill na in numeric columns with median.\n",
        "    df = df.fillna(df.median(numeric_only=True))\n",
        "    # Fill na in string columns with \"None\".\n",
        "    return df.fillna(\"None\")\n",
        "\n",
        "df_train = preprocess(df_train)\n",
        "df_test = preprocess(df_test)"
      ]
    },
    {
      "cell_type": "markdown",
      "metadata": {
        "id": "q3KFLw73kp-G"
      },
      "source": [
        "Once we've preprocessed our data, we combine the training and test data. This is done so that all enumerations are visible within a column, and so `pd.get_dummies` will create columns for all enumerations."
      ]
    },
    {
      "cell_type": "code",
      "execution_count": 158,
      "metadata": {
        "id": "SlcMCklakp-H"
      },
      "outputs": [],
      "source": [
        "df_all = pd.concat([df_train, df_test])\n",
        "\n",
        "# One-hot encoding.\n",
        "df_ohe = pd.get_dummies(df_all, drop_first=True) # TODO: Why use drop_first?\n",
        "assert len(df_ohe.columns) == 244 and 'label' in df_ohe and 'SalePrice' in df_ohe\n",
        "\n",
        "# Re-split training/test data for next stage.\n",
        "df_train2, df_test2 = df_ohe.iloc[:len(df_train)], df_ohe.iloc[len(df_train):]"
      ]
    },
    {
      "cell_type": "markdown",
      "metadata": {
        "id": "ky6gJ7KYkp-J"
      },
      "source": [
        "### Feature Scaling\n",
        "The purpose of **feature scaling** is to normalise data, so that one column doesn't \"weigh\" more than others due to their magnitude.\n",
        "\n",
        "We'll scale everything except SalePrice and label—which, for the purpose of this assignment, are considered output variables."
      ]
    },
    {
      "cell_type": "code",
      "execution_count": 222,
      "metadata": {
        "colab": {
          "base_uri": "https://localhost:8080/",
          "height": 300
        },
        "id": "Qx8oYzJIkp-L",
        "outputId": "65e97710-2c93-4e67-f35b-5e661bf43216"
      },
      "outputs": [
        {
          "data": {
            "text/html": [
              "\n",
              "  <div id=\"df-5f2cd33c-243a-4eb2-b388-8412405d06de\">\n",
              "    <div class=\"colab-df-container\">\n",
              "      <div>\n",
              "<style scoped>\n",
              "    .dataframe tbody tr th:only-of-type {\n",
              "        vertical-align: middle;\n",
              "    }\n",
              "\n",
              "    .dataframe tbody tr th {\n",
              "        vertical-align: top;\n",
              "    }\n",
              "\n",
              "    .dataframe thead th {\n",
              "        text-align: right;\n",
              "    }\n",
              "</style>\n",
              "<table border=\"1\" class=\"dataframe\">\n",
              "  <thead>\n",
              "    <tr style=\"text-align: right;\">\n",
              "      <th></th>\n",
              "      <th>MSSubClass</th>\n",
              "      <th>LotFrontage</th>\n",
              "      <th>LotArea</th>\n",
              "      <th>OverallQual</th>\n",
              "      <th>OverallCond</th>\n",
              "      <th>YearBuilt</th>\n",
              "      <th>YearRemodAdd</th>\n",
              "      <th>MasVnrArea</th>\n",
              "      <th>BsmtFinSF1</th>\n",
              "      <th>BsmtFinSF2</th>\n",
              "      <th>...</th>\n",
              "      <th>SaleType_ConLI</th>\n",
              "      <th>SaleType_ConLw</th>\n",
              "      <th>SaleType_New</th>\n",
              "      <th>SaleType_Oth</th>\n",
              "      <th>SaleType_WD</th>\n",
              "      <th>SaleCondition_AdjLand</th>\n",
              "      <th>SaleCondition_Alloca</th>\n",
              "      <th>SaleCondition_Family</th>\n",
              "      <th>SaleCondition_Normal</th>\n",
              "      <th>SaleCondition_Partial</th>\n",
              "    </tr>\n",
              "  </thead>\n",
              "  <tbody>\n",
              "    <tr>\n",
              "      <th>0</th>\n",
              "      <td>1.525294</td>\n",
              "      <td>-1.672075</td>\n",
              "      <td>-0.462368</td>\n",
              "      <td>-0.069658</td>\n",
              "      <td>-0.512573</td>\n",
              "      <td>1.122442</td>\n",
              "      <td>0.976786</td>\n",
              "      <td>0.197350</td>\n",
              "      <td>0.973572</td>\n",
              "      <td>-0.301983</td>\n",
              "      <td>...</td>\n",
              "      <td>-0.054855</td>\n",
              "      <td>-0.054855</td>\n",
              "      <td>-0.308691</td>\n",
              "      <td>-0.044766</td>\n",
              "      <td>0.398433</td>\n",
              "      <td>-0.044766</td>\n",
              "      <td>-0.089803</td>\n",
              "      <td>-0.114766</td>\n",
              "      <td>0.474858</td>\n",
              "      <td>-0.314485</td>\n",
              "    </tr>\n",
              "    <tr>\n",
              "      <th>1</th>\n",
              "      <td>-0.868638</td>\n",
              "      <td>-0.617428</td>\n",
              "      <td>-0.068822</td>\n",
              "      <td>-0.802898</td>\n",
              "      <td>1.311531</td>\n",
              "      <td>-0.146571</td>\n",
              "      <td>0.880456</td>\n",
              "      <td>-0.568299</td>\n",
              "      <td>0.551690</td>\n",
              "      <td>-0.301983</td>\n",
              "      <td>...</td>\n",
              "      <td>-0.054855</td>\n",
              "      <td>-0.054855</td>\n",
              "      <td>-0.308691</td>\n",
              "      <td>-0.044766</td>\n",
              "      <td>0.398433</td>\n",
              "      <td>-0.044766</td>\n",
              "      <td>-0.089803</td>\n",
              "      <td>-0.114766</td>\n",
              "      <td>0.474858</td>\n",
              "      <td>-0.314485</td>\n",
              "    </tr>\n",
              "    <tr>\n",
              "      <th>2</th>\n",
              "      <td>0.088935</td>\n",
              "      <td>2.729933</td>\n",
              "      <td>2.654482</td>\n",
              "      <td>2.863304</td>\n",
              "      <td>-0.512573</td>\n",
              "      <td>1.189232</td>\n",
              "      <td>1.121281</td>\n",
              "      <td>3.753364</td>\n",
              "      <td>3.871340</td>\n",
              "      <td>-0.301983</td>\n",
              "      <td>...</td>\n",
              "      <td>-0.054855</td>\n",
              "      <td>-0.054855</td>\n",
              "      <td>3.239483</td>\n",
              "      <td>-0.044766</td>\n",
              "      <td>-2.509835</td>\n",
              "      <td>-0.044766</td>\n",
              "      <td>-0.089803</td>\n",
              "      <td>-0.114766</td>\n",
              "      <td>-2.105892</td>\n",
              "      <td>3.179797</td>\n",
              "    </tr>\n",
              "    <tr>\n",
              "      <th>3</th>\n",
              "      <td>-0.868638</td>\n",
              "      <td>-0.021322</td>\n",
              "      <td>-0.215987</td>\n",
              "      <td>0.663583</td>\n",
              "      <td>-0.512573</td>\n",
              "      <td>1.022256</td>\n",
              "      <td>0.832291</td>\n",
              "      <td>1.104786</td>\n",
              "      <td>1.156813</td>\n",
              "      <td>-0.301983</td>\n",
              "      <td>...</td>\n",
              "      <td>-0.054855</td>\n",
              "      <td>-0.054855</td>\n",
              "      <td>-0.308691</td>\n",
              "      <td>-0.044766</td>\n",
              "      <td>0.398433</td>\n",
              "      <td>-0.044766</td>\n",
              "      <td>-0.089803</td>\n",
              "      <td>-0.114766</td>\n",
              "      <td>0.474858</td>\n",
              "      <td>-0.314485</td>\n",
              "    </tr>\n",
              "    <tr>\n",
              "      <th>4</th>\n",
              "      <td>0.088935</td>\n",
              "      <td>-0.021322</td>\n",
              "      <td>0.027073</td>\n",
              "      <td>0.663583</td>\n",
              "      <td>-0.512573</td>\n",
              "      <td>0.755096</td>\n",
              "      <td>0.543301</td>\n",
              "      <td>-0.568299</td>\n",
              "      <td>-0.944070</td>\n",
              "      <td>-0.301983</td>\n",
              "      <td>...</td>\n",
              "      <td>-0.054855</td>\n",
              "      <td>-0.054855</td>\n",
              "      <td>-0.308691</td>\n",
              "      <td>-0.044766</td>\n",
              "      <td>0.398433</td>\n",
              "      <td>-0.044766</td>\n",
              "      <td>-0.089803</td>\n",
              "      <td>-0.114766</td>\n",
              "      <td>0.474858</td>\n",
              "      <td>-0.314485</td>\n",
              "    </tr>\n",
              "  </tbody>\n",
              "</table>\n",
              "<p>5 rows × 242 columns</p>\n",
              "</div>\n",
              "      <button class=\"colab-df-convert\" onclick=\"convertToInteractive('df-5f2cd33c-243a-4eb2-b388-8412405d06de')\"\n",
              "              title=\"Convert this dataframe to an interactive table.\"\n",
              "              style=\"display:none;\">\n",
              "        \n",
              "  <svg xmlns=\"http://www.w3.org/2000/svg\" height=\"24px\"viewBox=\"0 0 24 24\"\n",
              "       width=\"24px\">\n",
              "    <path d=\"M0 0h24v24H0V0z\" fill=\"none\"/>\n",
              "    <path d=\"M18.56 5.44l.94 2.06.94-2.06 2.06-.94-2.06-.94-.94-2.06-.94 2.06-2.06.94zm-11 1L8.5 8.5l.94-2.06 2.06-.94-2.06-.94L8.5 2.5l-.94 2.06-2.06.94zm10 10l.94 2.06.94-2.06 2.06-.94-2.06-.94-.94-2.06-.94 2.06-2.06.94z\"/><path d=\"M17.41 7.96l-1.37-1.37c-.4-.4-.92-.59-1.43-.59-.52 0-1.04.2-1.43.59L10.3 9.45l-7.72 7.72c-.78.78-.78 2.05 0 2.83L4 21.41c.39.39.9.59 1.41.59.51 0 1.02-.2 1.41-.59l7.78-7.78 2.81-2.81c.8-.78.8-2.07 0-2.86zM5.41 20L4 18.59l7.72-7.72 1.47 1.35L5.41 20z\"/>\n",
              "  </svg>\n",
              "      </button>\n",
              "      \n",
              "  <style>\n",
              "    .colab-df-container {\n",
              "      display:flex;\n",
              "      flex-wrap:wrap;\n",
              "      gap: 12px;\n",
              "    }\n",
              "\n",
              "    .colab-df-convert {\n",
              "      background-color: #E8F0FE;\n",
              "      border: none;\n",
              "      border-radius: 50%;\n",
              "      cursor: pointer;\n",
              "      display: none;\n",
              "      fill: #1967D2;\n",
              "      height: 32px;\n",
              "      padding: 0 0 0 0;\n",
              "      width: 32px;\n",
              "    }\n",
              "\n",
              "    .colab-df-convert:hover {\n",
              "      background-color: #E2EBFA;\n",
              "      box-shadow: 0px 1px 2px rgba(60, 64, 67, 0.3), 0px 1px 3px 1px rgba(60, 64, 67, 0.15);\n",
              "      fill: #174EA6;\n",
              "    }\n",
              "\n",
              "    [theme=dark] .colab-df-convert {\n",
              "      background-color: #3B4455;\n",
              "      fill: #D2E3FC;\n",
              "    }\n",
              "\n",
              "    [theme=dark] .colab-df-convert:hover {\n",
              "      background-color: #434B5C;\n",
              "      box-shadow: 0px 1px 3px 1px rgba(0, 0, 0, 0.15);\n",
              "      filter: drop-shadow(0px 1px 2px rgba(0, 0, 0, 0.3));\n",
              "      fill: #FFFFFF;\n",
              "    }\n",
              "  </style>\n",
              "\n",
              "      <script>\n",
              "        const buttonEl =\n",
              "          document.querySelector('#df-5f2cd33c-243a-4eb2-b388-8412405d06de button.colab-df-convert');\n",
              "        buttonEl.style.display =\n",
              "          google.colab.kernel.accessAllowed ? 'block' : 'none';\n",
              "\n",
              "        async function convertToInteractive(key) {\n",
              "          const element = document.querySelector('#df-5f2cd33c-243a-4eb2-b388-8412405d06de');\n",
              "          const dataTable =\n",
              "            await google.colab.kernel.invokeFunction('convertToInteractive',\n",
              "                                                     [key], {});\n",
              "          if (!dataTable) return;\n",
              "\n",
              "          const docLinkHtml = 'Like what you see? Visit the ' +\n",
              "            '<a target=\"_blank\" href=https://colab.research.google.com/notebooks/data_table.ipynb>data table notebook</a>'\n",
              "            + ' to learn more about interactive tables.';\n",
              "          element.innerHTML = '';\n",
              "          dataTable['output_type'] = 'display_data';\n",
              "          await google.colab.output.renderOutput(dataTable, element);\n",
              "          const docLink = document.createElement('div');\n",
              "          docLink.innerHTML = docLinkHtml;\n",
              "          element.appendChild(docLink);\n",
              "        }\n",
              "      </script>\n",
              "    </div>\n",
              "  </div>\n",
              "  "
            ],
            "text/plain": [
              "   MSSubClass  LotFrontage   LotArea  OverallQual  OverallCond  YearBuilt  \\\n",
              "0    1.525294    -1.672075 -0.462368    -0.069658    -0.512573   1.122442   \n",
              "1   -0.868638    -0.617428 -0.068822    -0.802898     1.311531  -0.146571   \n",
              "2    0.088935     2.729933  2.654482     2.863304    -0.512573   1.189232   \n",
              "3   -0.868638    -0.021322 -0.215987     0.663583    -0.512573   1.022256   \n",
              "4    0.088935    -0.021322  0.027073     0.663583    -0.512573   0.755096   \n",
              "\n",
              "   YearRemodAdd  MasVnrArea  BsmtFinSF1  BsmtFinSF2  ...  SaleType_ConLI  \\\n",
              "0      0.976786    0.197350    0.973572   -0.301983  ...       -0.054855   \n",
              "1      0.880456   -0.568299    0.551690   -0.301983  ...       -0.054855   \n",
              "2      1.121281    3.753364    3.871340   -0.301983  ...       -0.054855   \n",
              "3      0.832291    1.104786    1.156813   -0.301983  ...       -0.054855   \n",
              "4      0.543301   -0.568299   -0.944070   -0.301983  ...       -0.054855   \n",
              "\n",
              "   SaleType_ConLw  SaleType_New  SaleType_Oth  SaleType_WD  \\\n",
              "0       -0.054855     -0.308691     -0.044766     0.398433   \n",
              "1       -0.054855     -0.308691     -0.044766     0.398433   \n",
              "2       -0.054855      3.239483     -0.044766    -2.509835   \n",
              "3       -0.054855     -0.308691     -0.044766     0.398433   \n",
              "4       -0.054855     -0.308691     -0.044766     0.398433   \n",
              "\n",
              "   SaleCondition_AdjLand  SaleCondition_Alloca  SaleCondition_Family  \\\n",
              "0              -0.044766             -0.089803             -0.114766   \n",
              "1              -0.044766             -0.089803             -0.114766   \n",
              "2              -0.044766             -0.089803             -0.114766   \n",
              "3              -0.044766             -0.089803             -0.114766   \n",
              "4              -0.044766             -0.089803             -0.114766   \n",
              "\n",
              "   SaleCondition_Normal  SaleCondition_Partial  \n",
              "0              0.474858              -0.314485  \n",
              "1              0.474858              -0.314485  \n",
              "2             -2.105892               3.179797  \n",
              "3              0.474858              -0.314485  \n",
              "4              0.474858              -0.314485  \n",
              "\n",
              "[5 rows x 242 columns]"
            ]
          },
          "execution_count": 222,
          "metadata": {},
          "output_type": "execute_result"
        }
      ],
      "source": [
        "from sklearn.preprocessing import StandardScaler\n",
        "\n",
        "# Feature scaling.\n",
        "X_train = df_train2.drop(['SalePrice', 'label'], axis=1)\n",
        "sc = StandardScaler()\n",
        "sc.fit(X_train)\n",
        "X_train = pd.DataFrame(sc.transform(X_train), columns=X_train.columns)\n",
        "y_train = df_train2[['SalePrice', 'label']]\n",
        "\n",
        "# Scale test data also.\n",
        "X_test = df_test2.drop(['SalePrice', 'label'], axis=1)\n",
        "X_test = pd.DataFrame(sc.transform(X_test), columns=X_test.columns)\n",
        "y_test = df_test2[['SalePrice', 'label']]\n",
        "\n",
        "X_train.head()"
      ]
    },
    {
      "cell_type": "markdown",
      "metadata": {
        "id": "rWQTbEnhkp-Q"
      },
      "source": [
        "## Q2: Heatmap Correlation\n",
        "A useful visual aid for checking correlations between columns is the heatmap."
      ]
    },
    {
      "cell_type": "code",
      "execution_count": 237,
      "metadata": {
        "colab": {
          "base_uri": "https://localhost:8080/",
          "height": 997
        },
        "id": "9iWQ-yDykp-R",
        "outputId": "05249d85-8784-4230-8788-5482c185ec0a"
      },
      "outputs": [
        {
          "data": {
            "image/png": "[encoded data removed]",
            "text/plain": [
              "<Figure size 1152x1152 with 2 Axes>"
            ]
          },
          "metadata": {},
          "output_type": "display_data"
        }
      ],
      "source": [
        "# Plot correlation among first ten features.\n",
        "if plotting:\n",
        "    sns.heatmap(X_train.iloc[:, :10].corr(), annot=True, cmap='Blues')\n",
        "    plt.show()"
      ]
    },
    {
      "cell_type": "markdown",
      "metadata": {
        "id": "iE_xpg6xen0L"
      },
      "source": [
        "# Part 2: Feature Selection"
      ]
    },
    {
      "cell_type": "markdown",
      "metadata": {
        "id": "vjk25C9Ikp-V"
      },
      "source": [
        "## Q3: Feature Selection with Linear Regression/Lasso\n",
        "\n",
        "To reduce the computational cost and remove irrelevant features, we would like to choose a subset of features for the subsequent tasks.\n",
        "\n",
        "We'll select the features that most correlate with SalePrice. To do this, we use `SelectFromModel` and provide an estimator. We'll try use two different selection strategies by using different estimators:\n",
        "\n",
        "1. `LinearRegression`\n",
        "2. `Lasso`, with `alpha=0.005` and `random_state=4211`.\n",
        "\n",
        "After selecting features, we'll train a LinearRegression model to fit those features against the SalePrice. Using the trained model, we verify the model using test data."
      ]
    },
    {
      "cell_type": "code",
      "execution_count": 225,
      "metadata": {
        "colab": {
          "base_uri": "https://localhost:8080/"
        },
        "id": "8ARSqUTnkp-Y",
        "outputId": "86d7ec10-543b-46b3-fddd-0bb15710b38e"
      },
      "outputs": [
        {
          "name": "stdout",
          "output_type": "stream",
          "text": [
            "--- Feature Selection ---\n",
            "estimator=LinearRegression(): 0.692034\n",
            "estimator=Lasso():            0.8857060189\n",
            "\n",
            "--- Selected Columns ---\n"
          ]
        },
        {
          "data": {
            "text/plain": [
              "Index(['MSSubClass', 'LotArea', 'OverallQual', 'OverallCond', 'YearBuilt',\n",
              "       'YearRemodAdd', 'MasVnrArea', '1stFlrSF', 'GrLivArea', 'BsmtFullBath',\n",
              "       'FullBath', 'HalfBath', 'TotRmsAbvGrd', 'Fireplaces', 'GarageCars',\n",
              "       'GarageArea', 'WoodDeckSF', 'ScreenPorch', 'MSZoning_RL',\n",
              "       'LotShape_IR2', 'LotShape_IR3', 'LotShape_Reg', 'LandContour_Lvl',\n",
              "       'Utilities_NoSeWa', 'LotConfig_CulDSac', 'LotConfig_Inside',\n",
              "       'LandSlope_Mod', 'Neighborhood_BrDale', 'Neighborhood_ClearCr',\n",
              "       'Neighborhood_Crawfor', 'Neighborhood_Edwards', 'Neighborhood_IDOTRR',\n",
              "       'Neighborhood_MeadowV', 'Neighborhood_NoRidge', 'Neighborhood_NridgHt',\n",
              "       'Neighborhood_OldTown', 'Neighborhood_Sawyer', 'Neighborhood_Somerst',\n",
              "       'Neighborhood_StoneBr', 'Neighborhood_Timber', 'Neighborhood_Veenker',\n",
              "       'Condition1_Feedr', 'Condition1_Norm', 'Condition1_PosA',\n",
              "       'Condition1_RRAe', 'Condition2_PosN', 'BldgType_2fmCon',\n",
              "       'BldgType_Twnhs', 'BldgType_TwnhsE', 'RoofMatl_CompShg',\n",
              "       'RoofMatl_WdShngl', 'Exterior1st_BrkFace', 'Exterior1st_HdBoard',\n",
              "       'Exterior1st_VinylSd', 'Exterior2nd_CmentBd', 'Exterior2nd_Stucco',\n",
              "       'Exterior2nd_Wd Shng', 'ExterQual_TA', 'ExterCond_TA',\n",
              "       'Foundation_PConc', 'Foundation_Slab', 'BsmtQual_None', 'BsmtQual_TA',\n",
              "       'BsmtCond_None', 'BsmtExposure_Gd', 'BsmtExposure_No',\n",
              "       'BsmtExposure_None', 'BsmtFinType1_GLQ', 'BsmtFinType1_None',\n",
              "       'BsmtFinType1_Unf', 'Heating_GasW', 'Heating_Grav', 'HeatingQC_Fa',\n",
              "       'HeatingQC_TA', 'CentralAir_Y', 'Electrical_Mix', 'KitchenQual_TA',\n",
              "       'Functional_Maj2', 'Functional_Sev', 'Functional_Typ',\n",
              "       'GarageType_Attchd', 'GarageType_CarPort', 'GarageType_None',\n",
              "       'GarageFinish_Unf', 'GarageQual_None', 'GarageCond_Fa',\n",
              "       'GarageCond_None', 'PavedDrive_Y', 'SaleType_CWD', 'SaleType_New',\n",
              "       'SaleCondition_AdjLand', 'SaleCondition_Family',\n",
              "       'SaleCondition_Normal'],\n",
              "      dtype='object')"
            ]
          },
          "execution_count": 225,
          "metadata": {},
          "output_type": "execute_result"
        }
      ],
      "source": [
        "from sklearn.linear_model import LinearRegression, Lasso\n",
        "from sklearn.feature_selection import SelectFromModel\n",
        "from sklearn.metrics import r2_score\n",
        "\n",
        "def q3_select_and_train(estimator):\n",
        "    \"\"\"\n",
        "    Filter strong features correlated against SalePrice.\n",
        "    Then train a model using those features to predict SalePrice.\n",
        "    \"\"\"\n",
        "    # Train all features against SalePrice.\n",
        "    selector = SelectFromModel(estimator).fit(X_train, np.log(y_train['SalePrice']))\n",
        "\n",
        "    # Select the \"most important\" features, discarding the rest.\n",
        "    X = selector.transform(X_train)\n",
        "\n",
        "    # Train selected features against SalePrice, to be able to predict SalePrice using said features.\n",
        "    model = LinearRegression().fit(X, y_train['SalePrice'])\n",
        "    \n",
        "    r2 = r2_score(y_test['SalePrice'], model.predict(selector.transform(X_test)))\n",
        "    return selector, model, r2\n",
        "\n",
        "sel_lr, model_lr, r2_lr = q3_select_and_train(LinearRegression())\n",
        "sel_las, model_las, r2_las = q3_select_and_train(Lasso(alpha=0.005, random_state=4211))\n",
        "\n",
        "print('--- Feature Selection ---')\n",
        "print(f'{\"estimator=LinearRegression():\":30}{r2_lr:.6f}')\n",
        "print(f'{\"estimator=Lasso():\":30}{r2_las:.10f}')\n",
        "print()\n",
        "if r2_lr > r2_las:\n",
        "    selector = sel_lr\n",
        "else:\n",
        "    selector = sel_las\n",
        "\n",
        "print('--- Selected Columns ---')\n",
        "X_train.columns[selector.get_support()]"
      ]
    },
    {
      "cell_type": "code",
      "execution_count": 226,
      "metadata": {
        "colab": {
          "base_uri": "https://localhost:8080/",
          "height": 300
        },
        "id": "FQyHw_lfkp-b",
        "outputId": "f1dd5bfc-4d69-4605-9788-aca2119f1fed"
      },
      "outputs": [
        {
          "data": {
            "text/html": [
              "\n",
              "  <div id=\"df-670b8d67-0e4a-4e5f-b973-b8f118588b08\">\n",
              "    <div class=\"colab-df-container\">\n",
              "      <div>\n",
              "<style scoped>\n",
              "    .dataframe tbody tr th:only-of-type {\n",
              "        vertical-align: middle;\n",
              "    }\n",
              "\n",
              "    .dataframe tbody tr th {\n",
              "        vertical-align: top;\n",
              "    }\n",
              "\n",
              "    .dataframe thead th {\n",
              "        text-align: right;\n",
              "    }\n",
              "</style>\n",
              "<table border=\"1\" class=\"dataframe\">\n",
              "  <thead>\n",
              "    <tr style=\"text-align: right;\">\n",
              "      <th></th>\n",
              "      <th>MSSubClass</th>\n",
              "      <th>LotArea</th>\n",
              "      <th>OverallQual</th>\n",
              "      <th>OverallCond</th>\n",
              "      <th>YearBuilt</th>\n",
              "      <th>YearRemodAdd</th>\n",
              "      <th>MasVnrArea</th>\n",
              "      <th>1stFlrSF</th>\n",
              "      <th>GrLivArea</th>\n",
              "      <th>BsmtFullBath</th>\n",
              "      <th>...</th>\n",
              "      <th>GarageFinish_Unf</th>\n",
              "      <th>GarageQual_None</th>\n",
              "      <th>GarageCond_Fa</th>\n",
              "      <th>GarageCond_None</th>\n",
              "      <th>PavedDrive_Y</th>\n",
              "      <th>SaleType_CWD</th>\n",
              "      <th>SaleType_New</th>\n",
              "      <th>SaleCondition_AdjLand</th>\n",
              "      <th>SaleCondition_Family</th>\n",
              "      <th>SaleCondition_Normal</th>\n",
              "    </tr>\n",
              "  </thead>\n",
              "  <tbody>\n",
              "    <tr>\n",
              "      <th>0</th>\n",
              "      <td>1.525294</td>\n",
              "      <td>-0.462368</td>\n",
              "      <td>-0.069658</td>\n",
              "      <td>-0.512573</td>\n",
              "      <td>1.122442</td>\n",
              "      <td>0.976786</td>\n",
              "      <td>0.197350</td>\n",
              "      <td>0.341039</td>\n",
              "      <td>-0.385992</td>\n",
              "      <td>1.143839</td>\n",
              "      <td>...</td>\n",
              "      <td>-0.831894</td>\n",
              "      <td>-0.245856</td>\n",
              "      <td>-0.160128</td>\n",
              "      <td>-0.245856</td>\n",
              "      <td>0.294884</td>\n",
              "      <td>-0.063372</td>\n",
              "      <td>-0.308691</td>\n",
              "      <td>-0.044766</td>\n",
              "      <td>-0.114766</td>\n",
              "      <td>0.474858</td>\n",
              "    </tr>\n",
              "    <tr>\n",
              "      <th>1</th>\n",
              "      <td>-0.868638</td>\n",
              "      <td>-0.068822</td>\n",
              "      <td>-0.802898</td>\n",
              "      <td>1.311531</td>\n",
              "      <td>-0.146571</td>\n",
              "      <td>0.880456</td>\n",
              "      <td>-0.568299</td>\n",
              "      <td>-0.699276</td>\n",
              "      <td>-1.164670</td>\n",
              "      <td>1.143839</td>\n",
              "      <td>...</td>\n",
              "      <td>-0.831894</td>\n",
              "      <td>-0.245856</td>\n",
              "      <td>-0.160128</td>\n",
              "      <td>-0.245856</td>\n",
              "      <td>0.294884</td>\n",
              "      <td>-0.063372</td>\n",
              "      <td>-0.308691</td>\n",
              "      <td>-0.044766</td>\n",
              "      <td>-0.114766</td>\n",
              "      <td>0.474858</td>\n",
              "    </tr>\n",
              "    <tr>\n",
              "      <th>2</th>\n",
              "      <td>0.088935</td>\n",
              "      <td>2.654482</td>\n",
              "      <td>2.863304</td>\n",
              "      <td>-0.512573</td>\n",
              "      <td>1.189232</td>\n",
              "      <td>1.121281</td>\n",
              "      <td>3.753364</td>\n",
              "      <td>4.966904</td>\n",
              "      <td>5.983292</td>\n",
              "      <td>1.143839</td>\n",
              "      <td>...</td>\n",
              "      <td>-0.831894</td>\n",
              "      <td>-0.245856</td>\n",
              "      <td>-0.160128</td>\n",
              "      <td>-0.245856</td>\n",
              "      <td>0.294884</td>\n",
              "      <td>-0.063372</td>\n",
              "      <td>3.239483</td>\n",
              "      <td>-0.044766</td>\n",
              "      <td>-0.114766</td>\n",
              "      <td>-2.105892</td>\n",
              "    </tr>\n",
              "    <tr>\n",
              "      <th>3</th>\n",
              "      <td>-0.868638</td>\n",
              "      <td>-0.215987</td>\n",
              "      <td>0.663583</td>\n",
              "      <td>-0.512573</td>\n",
              "      <td>1.022256</td>\n",
              "      <td>0.832291</td>\n",
              "      <td>1.104786</td>\n",
              "      <td>1.219751</td>\n",
              "      <td>0.271727</td>\n",
              "      <td>1.143839</td>\n",
              "      <td>...</td>\n",
              "      <td>1.202076</td>\n",
              "      <td>-0.245856</td>\n",
              "      <td>-0.160128</td>\n",
              "      <td>-0.245856</td>\n",
              "      <td>0.294884</td>\n",
              "      <td>-0.063372</td>\n",
              "      <td>-0.308691</td>\n",
              "      <td>-0.044766</td>\n",
              "      <td>-0.114766</td>\n",
              "      <td>0.474858</td>\n",
              "    </tr>\n",
              "    <tr>\n",
              "      <th>4</th>\n",
              "      <td>0.088935</td>\n",
              "      <td>0.027073</td>\n",
              "      <td>0.663583</td>\n",
              "      <td>-0.512573</td>\n",
              "      <td>0.755096</td>\n",
              "      <td>0.543301</td>\n",
              "      <td>-0.568299</td>\n",
              "      <td>-0.214469</td>\n",
              "      <td>0.727215</td>\n",
              "      <td>-0.801465</td>\n",
              "      <td>...</td>\n",
              "      <td>-0.831894</td>\n",
              "      <td>-0.245856</td>\n",
              "      <td>-0.160128</td>\n",
              "      <td>-0.245856</td>\n",
              "      <td>0.294884</td>\n",
              "      <td>-0.063372</td>\n",
              "      <td>-0.308691</td>\n",
              "      <td>-0.044766</td>\n",
              "      <td>-0.114766</td>\n",
              "      <td>0.474858</td>\n",
              "    </tr>\n",
              "  </tbody>\n",
              "</table>\n",
              "<p>5 rows × 93 columns</p>\n",
              "</div>\n",
              "      <button class=\"colab-df-convert\" onclick=\"convertToInteractive('df-670b8d67-0e4a-4e5f-b973-b8f118588b08')\"\n",
              "              title=\"Convert this dataframe to an interactive table.\"\n",
              "              style=\"display:none;\">\n",
              "        \n",
              "  <svg xmlns=\"http://www.w3.org/2000/svg\" height=\"24px\"viewBox=\"0 0 24 24\"\n",
              "       width=\"24px\">\n",
              "    <path d=\"M0 0h24v24H0V0z\" fill=\"none\"/>\n",
              "    <path d=\"M18.56 5.44l.94 2.06.94-2.06 2.06-.94-2.06-.94-.94-2.06-.94 2.06-2.06.94zm-11 1L8.5 8.5l.94-2.06 2.06-.94-2.06-.94L8.5 2.5l-.94 2.06-2.06.94zm10 10l.94 2.06.94-2.06 2.06-.94-2.06-.94-.94-2.06-.94 2.06-2.06.94z\"/><path d=\"M17.41 7.96l-1.37-1.37c-.4-.4-.92-.59-1.43-.59-.52 0-1.04.2-1.43.59L10.3 9.45l-7.72 7.72c-.78.78-.78 2.05 0 2.83L4 21.41c.39.39.9.59 1.41.59.51 0 1.02-.2 1.41-.59l7.78-7.78 2.81-2.81c.8-.78.8-2.07 0-2.86zM5.41 20L4 18.59l7.72-7.72 1.47 1.35L5.41 20z\"/>\n",
              "  </svg>\n",
              "      </button>\n",
              "      \n",
              "  <style>\n",
              "    .colab-df-container {\n",
              "      display:flex;\n",
              "      flex-wrap:wrap;\n",
              "      gap: 12px;\n",
              "    }\n",
              "\n",
              "    .colab-df-convert {\n",
              "      background-color: #E8F0FE;\n",
              "      border: none;\n",
              "      border-radius: 50%;\n",
              "      cursor: pointer;\n",
              "      display: none;\n",
              "      fill: #1967D2;\n",
              "      height: 32px;\n",
              "      padding: 0 0 0 0;\n",
              "      width: 32px;\n",
              "    }\n",
              "\n",
              "    .colab-df-convert:hover {\n",
              "      background-color: #E2EBFA;\n",
              "      box-shadow: 0px 1px 2px rgba(60, 64, 67, 0.3), 0px 1px 3px 1px rgba(60, 64, 67, 0.15);\n",
              "      fill: #174EA6;\n",
              "    }\n",
              "\n",
              "    [theme=dark] .colab-df-convert {\n",
              "      background-color: #3B4455;\n",
              "      fill: #D2E3FC;\n",
              "    }\n",
              "\n",
              "    [theme=dark] .colab-df-convert:hover {\n",
              "      background-color: #434B5C;\n",
              "      box-shadow: 0px 1px 3px 1px rgba(0, 0, 0, 0.15);\n",
              "      filter: drop-shadow(0px 1px 2px rgba(0, 0, 0, 0.3));\n",
              "      fill: #FFFFFF;\n",
              "    }\n",
              "  </style>\n",
              "\n",
              "      <script>\n",
              "        const buttonEl =\n",
              "          document.querySelector('#df-670b8d67-0e4a-4e5f-b973-b8f118588b08 button.colab-df-convert');\n",
              "        buttonEl.style.display =\n",
              "          google.colab.kernel.accessAllowed ? 'block' : 'none';\n",
              "\n",
              "        async function convertToInteractive(key) {\n",
              "          const element = document.querySelector('#df-670b8d67-0e4a-4e5f-b973-b8f118588b08');\n",
              "          const dataTable =\n",
              "            await google.colab.kernel.invokeFunction('convertToInteractive',\n",
              "                                                     [key], {});\n",
              "          if (!dataTable) return;\n",
              "\n",
              "          const docLinkHtml = 'Like what you see? Visit the ' +\n",
              "            '<a target=\"_blank\" href=https://colab.research.google.com/notebooks/data_table.ipynb>data table notebook</a>'\n",
              "            + ' to learn more about interactive tables.';\n",
              "          element.innerHTML = '';\n",
              "          dataTable['output_type'] = 'display_data';\n",
              "          await google.colab.output.renderOutput(dataTable, element);\n",
              "          const docLink = document.createElement('div');\n",
              "          docLink.innerHTML = docLinkHtml;\n",
              "          element.appendChild(docLink);\n",
              "        }\n",
              "      </script>\n",
              "    </div>\n",
              "  </div>\n",
              "  "
            ],
            "text/plain": [
              "   MSSubClass   LotArea  OverallQual  OverallCond  YearBuilt  YearRemodAdd  \\\n",
              "0    1.525294 -0.462368    -0.069658    -0.512573   1.122442      0.976786   \n",
              "1   -0.868638 -0.068822    -0.802898     1.311531  -0.146571      0.880456   \n",
              "2    0.088935  2.654482     2.863304    -0.512573   1.189232      1.121281   \n",
              "3   -0.868638 -0.215987     0.663583    -0.512573   1.022256      0.832291   \n",
              "4    0.088935  0.027073     0.663583    -0.512573   0.755096      0.543301   \n",
              "\n",
              "   MasVnrArea  1stFlrSF  GrLivArea  BsmtFullBath  ...  GarageFinish_Unf  \\\n",
              "0    0.197350  0.341039  -0.385992      1.143839  ...         -0.831894   \n",
              "1   -0.568299 -0.699276  -1.164670      1.143839  ...         -0.831894   \n",
              "2    3.753364  4.966904   5.983292      1.143839  ...         -0.831894   \n",
              "3    1.104786  1.219751   0.271727      1.143839  ...          1.202076   \n",
              "4   -0.568299 -0.214469   0.727215     -0.801465  ...         -0.831894   \n",
              "\n",
              "   GarageQual_None  GarageCond_Fa  GarageCond_None  PavedDrive_Y  \\\n",
              "0        -0.245856      -0.160128        -0.245856      0.294884   \n",
              "1        -0.245856      -0.160128        -0.245856      0.294884   \n",
              "2        -0.245856      -0.160128        -0.245856      0.294884   \n",
              "3        -0.245856      -0.160128        -0.245856      0.294884   \n",
              "4        -0.245856      -0.160128        -0.245856      0.294884   \n",
              "\n",
              "   SaleType_CWD  SaleType_New  SaleCondition_AdjLand  SaleCondition_Family  \\\n",
              "0     -0.063372     -0.308691              -0.044766             -0.114766   \n",
              "1     -0.063372     -0.308691              -0.044766             -0.114766   \n",
              "2     -0.063372      3.239483              -0.044766             -0.114766   \n",
              "3     -0.063372     -0.308691              -0.044766             -0.114766   \n",
              "4     -0.063372     -0.308691              -0.044766             -0.114766   \n",
              "\n",
              "   SaleCondition_Normal  \n",
              "0              0.474858  \n",
              "1              0.474858  \n",
              "2             -2.105892  \n",
              "3              0.474858  \n",
              "4              0.474858  \n",
              "\n",
              "[5 rows x 93 columns]"
            ]
          },
          "execution_count": 226,
          "metadata": {},
          "output_type": "execute_result"
        }
      ],
      "source": [
        "X_train = pd.DataFrame(selector.transform(X_train), columns=X_train.columns[selector.get_support()])\n",
        "X_test = pd.DataFrame(selector.transform(X_test), columns=X_test.columns[selector.get_support()])\n",
        "\n",
        "X_train.head()"
      ]
    },
    {
      "cell_type": "markdown",
      "metadata": {
        "id": "6z0p4gpXhdZS"
      },
      "source": [
        "# Part 3: Regression"
      ]
    },
    {
      "cell_type": "markdown",
      "metadata": {
        "id": "0WQc-A2Tkp-c"
      },
      "source": [
        "## Q4: $R^2$ Correlation for LotArea, GrLivArea, OverallQual, and OverallCond"
      ]
    },
    {
      "cell_type": "code",
      "execution_count": 163,
      "metadata": {
        "colab": {
          "base_uri": "https://localhost:8080/"
        },
        "id": "OKdFa56Wkp-c",
        "outputId": "e25b013f-8ed7-4a35-f7c7-f9e0efbf6e14"
      },
      "outputs": [
        {
          "name": "stdout",
          "output_type": "stream",
          "text": [
            "--- Validation R2 Correlation ---\n",
            "LotArea                       0.020534\n",
            "GrLivArea                     0.392684\n",
            "OverallQual                   0.586950\n",
            "OverallCond                   0.017107\n"
          ]
        }
      ],
      "source": [
        "from sklearn.model_selection import train_test_split\n",
        "from collections import namedtuple\n",
        "\n",
        "X_train2, X_test2, y_train2, y_test2 = train_test_split(X_train, y_train, test_size=0.2, random_state=4211)\n",
        "# X = pd.DataFrame(selector.transform(X_train), columns=X_train.columns[selector.get_support()])\n",
        "# X_train2, X_test2, y_train2, y_test2 = train_test_split(X, y_train, train_size=0.8, random_state=4211)\n",
        "\n",
        "Q4Report = namedtuple('Report', ['model', 'r2'])\n",
        "\n",
        "def q4_report(feature):\n",
        "    model = LinearRegression().fit(X_train2[feature].to_frame(), y_train2['SalePrice'])\n",
        "    r2 = r2_score(y_test2['SalePrice'], model.predict(X_test2[feature].to_frame()))\n",
        "    return Q4Report(model, r2)\n",
        "\n",
        "part3_features = ['LotArea', 'GrLivArea', 'OverallQual', 'OverallCond']\n",
        "part3 = {}\n",
        "print('--- Validation R2 Correlation ---')\n",
        "for feat in part3_features:\n",
        "    part3[feat] = q4_report(feat)\n",
        "    print(f'{feat:30}{part3[feat].r2:.6f}')"
      ]
    },
    {
      "cell_type": "markdown",
      "metadata": {
        "id": "EhE3VtjAkp-g"
      },
      "source": [
        "## Q5: Correlation Plots\n",
        "\n",
        "We'll plot four graphs to observe the trends and correlation between the four selected features above."
      ]
    },
    {
      "cell_type": "code",
      "execution_count": 164,
      "metadata": {
        "colab": {
          "base_uri": "https://localhost:8080/",
          "height": 973
        },
        "id": "FKquQYR8kp-j",
        "outputId": "7f9aad6f-1cae-4b8b-df36-9525da0e6d0d"
      },
      "outputs": [
        {
          "data": {
            "image/png": "[encoded data removed]",
            "text/plain": [
              "<Figure size 1152x1152 with 4 Axes>"
            ]
          },
          "metadata": {},
          "output_type": "display_data"
        }
      ],
      "source": [
        "if plotting:\n",
        "    sns.set()\n",
        "    sns.set_palette(\"deep\")\n",
        "    fig, axs = plt.subplots(2, 2)\n",
        "    for i, feat in enumerate(part3_features):\n",
        "        X = X_test2[feat]\n",
        "        p = sns.scatterplot(x=X, y=y_test2['SalePrice'], ax=axs[i%2, i//2])\n",
        "        p.set_title(f'SalePrice vs {feat}\\n($R^2$ = {part3[feat].r2:.2f})')\n",
        "        sns.lineplot(x=X, y=part3[feat].model.predict(X.to_frame()), ax=axs[i%2, i//2], color='red')\n",
        "    fig.show()"
      ]
    },
    {
      "cell_type": "markdown",
      "metadata": {
        "id": "NQuInGq6kp-q"
      },
      "source": [
        "We build our 5th linear regression model to explore the relationship between the features selected in [Q3](#scrollTo=vjk25C9Ikp-V) and SalePrice. We'll also compute the training time for later use in [Q7](#scrollTo=rej7CwA_kp-z).\n",
        "\n",
        "<!-- https://piazza.com/class/l71avavtm4d2xl/post/59 -->"
      ]
    },
    {
      "cell_type": "code",
      "execution_count": 189,
      "metadata": {
        "colab": {
          "base_uri": "https://localhost:8080/"
        },
        "id": "HVnNnv2nkp-s",
        "outputId": "99c4b385-618a-4f1c-b6cf-ac14d2276d1f"
      },
      "outputs": [
        {
          "name": "stdout",
          "output_type": "stream",
          "text": [
            "--- X vs. SalePrice ---\n",
            " - r2                   0.687175\n"
          ]
        }
      ],
      "source": [
        "import time\n",
        "\n",
        "X = X_train2\n",
        "y = y_train2['SalePrice']\n",
        "\n",
        "start = time.time()\n",
        "model = LinearRegression().fit(X, y)\n",
        "q5_train_time = time.time() - start   # Elapsed time used later in Q7.\n",
        "\n",
        "X = X_test2\n",
        "y = y_test2['SalePrice']\n",
        "q5_r2 = r2_score(y, model.predict(X))\n",
        "\n",
        "print('--- X vs. SalePrice ---')\n",
        "print_metric('r2', q5_r2)"
      ]
    },
    {
      "cell_type": "markdown",
      "metadata": {
        "id": "fEPr2Qtdkp-s"
      },
      "source": [
        "## Q6: Regression + FNN\n",
        "\n",
        "To find the optimal number of hidden units for a six-layer FNN, we'll try 8 different hidden units $h$ per layer, for $h \\in \\{1, 2, 4, 8, 16, 32, 64, 128\\}$. For each size, we'll construct an `MLPRegressor` model and collect performance data (fit time and $R^2$ score)."
      ]
    },
    {
      "cell_type": "code",
      "execution_count": 219,
      "metadata": {
        "id": "AmitZixGkp-t"
      },
      "outputs": [],
      "source": [
        "import time\n",
        "from sklearn.neural_network import MLPRegressor\n",
        "\n",
        "units = [1, 2, 4, 8, 16, 32, 64, 128]   # Different units to be tried.\n",
        "random_states = [4211, 3300, 4901]      # Fixed set of random states.\n",
        "\n",
        "settings = [{\"hidden_layer_sizes\": (h, h, h, h, h, h), \"max_iter\": 500, \"early_stopping\": True} for h in units]\n",
        "times = []  # Collect data across different params.\n",
        "r2s = []\n",
        "\n",
        "X = X_train2\n",
        "y = y_train2['SalePrice']\n",
        "X_val = X_test2\n",
        "y_val = y_test2['SalePrice']\n",
        "\n",
        "def linear_regression(params):\n",
        "    ts, rs = [], []\n",
        "    for rand in random_states:\n",
        "        rgr = MLPRegressor(random_state=rand, **params)\n",
        "        \n",
        "        start = time.time()\n",
        "        rgr.fit(X.to_numpy(), y)\n",
        "        elapsed = time.time() - start\n",
        "\n",
        "        r2 = r2_score(y_val, rgr.predict(X_val.to_numpy()))\n",
        "        # r2_train = r2_score(y, rgr.predict(X.to_numpy()))  # Uncomment to see underfit.\n",
        "        # print(r2_train, r2)\n",
        "\n",
        "        ts += [elapsed]\n",
        "        rs += [r2]\n",
        "\n",
        "    return ts, rs\n",
        "\n",
        "for st in settings:\n",
        "    ts, rs = linear_regression(st)\n",
        "    times += [ts]\n",
        "    r2s += [rs]"
      ]
    },
    {
      "cell_type": "markdown",
      "metadata": {
        "id": "az4eXmaskp-x"
      },
      "source": [
        "After collecting our training time and $R^2$ data, we can process it to find the mean/std training time and $R^2$ score.\n",
        "\n",
        "Observe that for sizes 1 to 16, the $R^2$ score is negative, whereas for 32 and above, the score rests comfortably in the 0.63-0.66 range.\n",
        "\n",
        "See [Q8](#scrollTo=3fEBzInikp-z) for a graphical presentation."
      ]
    },
    {
      "cell_type": "code",
      "execution_count": 220,
      "metadata": {
        "colab": {
          "base_uri": "https://localhost:8080/"
        },
        "id": "ogRMyZq1kp-y",
        "outputId": "096222ef-df2f-4256-8384-8bad22c058eb"
      },
      "outputs": [
        {
          "name": "stdout",
          "output_type": "stream",
          "text": [
            "--- Number of Hidden Units: 1 ---\n",
            "Model Settings: {'hidden_layer_sizes': (1, 1, 1, 1, 1, 1), 'max_iter': 500, 'early_stopping': True}\n",
            "Metrics:\n",
            " - training time        µ=0.164s     / std=0.025s\n",
            " - r2                   µ=-5.226463  / std=0.000103\n",
            "\n",
            "--- Number of Hidden Units: 2 ---\n",
            "Model Settings: {'hidden_layer_sizes': (2, 2, 2, 2, 2, 2), 'max_iter': 500, 'early_stopping': True}\n",
            "Metrics:\n",
            " - training time        µ=0.115s     / std=0.034s\n",
            " - r2                   µ=-5.226587  / std=0.000024\n",
            "\n",
            "--- Number of Hidden Units: 4 ---\n",
            "Model Settings: {'hidden_layer_sizes': (4, 4, 4, 4, 4, 4), 'max_iter': 500, 'early_stopping': True}\n",
            "Metrics:\n",
            " - training time        µ=0.094s     / std=0.006s\n",
            " - r2                   µ=-5.226493  / std=0.000057\n",
            "\n",
            "--- Number of Hidden Units: 8 ---\n",
            "Model Settings: {'hidden_layer_sizes': (8, 8, 8, 8, 8, 8), 'max_iter': 500, 'early_stopping': True}\n",
            "Metrics:\n",
            " - training time        µ=0.116s     / std=0.024s\n",
            " - r2                   µ=-5.226417  / std=0.000019\n",
            "\n",
            "--- Number of Hidden Units: 16 ---\n",
            "Model Settings: {'hidden_layer_sizes': (16, 16, 16, 16, 16, 16), 'max_iter': 500, 'early_stopping': True}\n",
            "Metrics:\n",
            " - training time        µ=0.184s     / std=0.056s\n",
            " - r2                   µ=-5.226405  / std=0.000031\n",
            "\n",
            "--- Number of Hidden Units: 32 ---\n",
            "Model Settings: {'hidden_layer_sizes': (32, 32, 32, 32, 32, 32), 'max_iter': 500, 'early_stopping': True}\n",
            "Metrics:\n",
            " - training time        µ=2.523s     / std=0.245s\n",
            " - r2                   µ=0.635535   / std=0.005808\n",
            "\n",
            "--- Number of Hidden Units: 64 ---\n",
            "Model Settings: {'hidden_layer_sizes': (64, 64, 64, 64, 64, 64), 'max_iter': 500, 'early_stopping': True}\n",
            "Metrics:\n",
            " - training time        µ=2.789s     / std=1.192s\n",
            " - r2                   µ=0.666837   / std=0.012290\n",
            "\n",
            "--- Number of Hidden Units: 128 ---\n",
            "Model Settings: {'hidden_layer_sizes': (128, 128, 128, 128, 128, 128), 'max_iter': 500, 'early_stopping': True}\n",
            "Metrics:\n",
            " - training time        µ=6.913s     / std=3.754s\n",
            " - r2                   µ=0.653846   / std=0.012894\n",
            "\n"
          ]
        }
      ],
      "source": [
        "# Print settings and mean/std performance metrics of each model.\n",
        "for h, st, t, r2 in zip(units, settings, times, r2s):\n",
        "    print(f'--- Number of Hidden Units: {h} ---')\n",
        "    print(f'Model Settings: {st}')\n",
        "    print(f'Metrics:')\n",
        "    print_metric(\"training time\", t, dp=3, unit='s')\n",
        "    print_metric(\"r2\", r2)\n",
        "    print()"
      ]
    },
    {
      "cell_type": "markdown",
      "metadata": {
        "id": "rej7CwA_kp-z"
      },
      "source": [
        "## Q7"
      ]
    },
    {
      "cell_type": "code",
      "execution_count": 221,
      "metadata": {
        "colab": {
          "base_uri": "https://localhost:8080/"
        },
        "id": "8AbU3WMykp-z",
        "outputId": "2da71b06-0664-4482-9c5c-7ba4ab5ca304"
      },
      "outputs": [
        {
          "name": "stdout",
          "output_type": "stream",
          "text": [
            "--- Linear Regression Model ---\n",
            " - training time        0.034s\n",
            " - r2                   0.687175\n",
            "\n",
            "--- FNN Model ---\n",
            "Model Settings: {'hidden_layer_sizes': (64, 64, 64, 64, 64, 64), 'max_iter': 500, 'early_stopping': True}\n",
            "random_state: 3300\n",
            " - training time        4.445s\n",
            " - r2                   0.683298\n"
          ]
        }
      ],
      "source": [
        "# Find NN with best R2 score.\n",
        "st, rand, t_nn, r2_nn = max(((st, rand, t, sample) for st, ts, r2 in zip(settings, times, r2s) for rand, t, sample in zip(random_states, ts, r2)), key=lambda x: x[-1])\n",
        "\n",
        "print('--- Linear Regression Model ---')\n",
        "print_metric(\"training time\", q5_train_time, dp=3, unit='s')\n",
        "print_metric(\"r2\", q5_r2)\n",
        "print()\n",
        "print('--- FNN Model ---')\n",
        "print(f'Model Settings: {st}')\n",
        "print(f'random_state: {rand}')\n",
        "print_metric(\"training time\", t_nn, dp=3, unit='s')\n",
        "print_metric(\"r2\", r2_nn)"
      ]
    },
    {
      "cell_type": "markdown",
      "metadata": {
        "id": "I6bWQEmLy5f9"
      },
      "source": [
        "Overall, the linear regression model did better. It has a much shorter training time due to less weights. The $R^2$ score of both models is pretty close. I would've expected the FNN model to perform better, but maybe this is just due to randomness."
      ]
    },
    {
      "cell_type": "markdown",
      "metadata": {
        "id": "3fEBzInikp-z"
      },
      "source": [
        "## Q8\n",
        "We use `np.mean(..., axis=1)` to compute the mean for each $h$."
      ]
    },
    {
      "cell_type": "code",
      "execution_count": 181,
      "metadata": {
        "colab": {
          "base_uri": "https://localhost:8080/",
          "height": 413
        },
        "id": "dH9LcItQkp-0",
        "outputId": "725543b9-1620-47be-8388-07cfec30746e"
      },
      "outputs": [
        {
          "data": {
            "image/png": "[encoded data removed]",
            "text/plain": [
              "<Figure size 432x432 with 1 Axes>"
            ]
          },
          "metadata": {},
          "output_type": "display_data"
        }
      ],
      "source": [
        "time_mean = np.mean(np.array(times), axis=1)\n",
        "r2_mean = np.mean(np.array(r2s), axis=1)\n",
        "\n",
        "if plotting:\n",
        "    plt.figure(figsize=(6, 6))\n",
        "    sns.scatterplot(x=units, y=r2_mean)\n",
        "    plot = sns.lineplot(x=units, y=r2_mean)\n",
        "    plot.set_title(\"$R^2$ Trend of Various Number of Hidden Units\")\n",
        "    plot.set_xlabel(\"Number of Hidden Units\")\n",
        "    plot.set_ylabel(\"$R^2$\")\n",
        "    plt.show()"
      ]
    },
    {
      "cell_type": "markdown",
      "metadata": {
        "id": "6A3GMX8wrJmT"
      },
      "source": [
        "Yes, a trend exists, as after a threshold (16 to 32 units per layer), the FNN begins to function well with $R^2 > 0.6$. However, after 32 units, the $R^2$ becomes saturated and doesn't show too many signs of improvement.\n",
        "\n",
        "Perhaps the trend is due to underfitting in the earlier stages. If we compute and print the $R^2$ training scores in the Q6 code, we can see that the values are quite low ($< 0$), indicating an underfit.\n",
        "\n",
        "As we increase the number of hidden units, we increase the number of weights and parameters, and the model is able to learn better.\n",
        "\n",
        "However, there is not much change after 32 units as perhaps some units become redundant and saturated."
      ]
    },
    {
      "cell_type": "markdown",
      "metadata": {
        "id": "wAoDH2kvthbg"
      },
      "source": [
        "# Part 4: Classification"
      ]
    },
    {
      "cell_type": "markdown",
      "metadata": {
        "id": "EBgCGC-Ykp-0"
      },
      "source": [
        "## Q9: Classification Model Tuning\n",
        "\n",
        "For this question, we try different sets of parameters for `SGDClassifier` (which uses stochastic gradient descent). In particular, I'm intersted in trying different learning rates.\n",
        "\n",
        "The metrics we're interested in are training time, accuracy, and F1."
      ]
    },
    {
      "cell_type": "code",
      "execution_count": 205,
      "metadata": {
        "colab": {
          "base_uri": "https://localhost:8080/"
        },
        "id": "DxWfsTKPkp-0",
        "outputId": "e4805395-21b1-40a3-a7bd-b7dfb87cd17c"
      },
      "outputs": [
        {
          "name": "stdout",
          "output_type": "stream",
          "text": [
            "--- LogisticRegression ---\n",
            "SGDClassifier: {'eta0': 0.1, 'learning_rate': 'constant'}\n",
            "Metrics:\n",
            " - training time        µ=0.022s     / std=0.010s\n",
            " - accuracy             µ=92.3%      / std=0.8%\n",
            " - F1                   µ=90.6%      / std=0.9%\n",
            "\n",
            "--- LogisticRegression ---\n",
            "SGDClassifier: {'eta0': 0.1, 'learning_rate': 'optimal', 'alpha': 0.05}\n",
            "Metrics:\n",
            " - training time        µ=0.023s     / std=0.002s\n",
            " - accuracy             µ=92.2%      / std=0.2%\n",
            " - F1                   µ=90.2%      / std=0.2%\n",
            "\n",
            "--- LogisticRegression ---\n",
            "SGDClassifier: {'eta0': 0.2, 'learning_rate': 'invscaling'}\n",
            "Metrics:\n",
            " - training time        µ=0.035s     / std=0.004s\n",
            " - accuracy             µ=92.8%      / std=0.2%\n",
            " - F1                   µ=91.2%      / std=0.3%\n",
            "\n",
            "--- LogisticRegression ---\n",
            "SGDClassifier: {'eta0': 0.4, 'learning_rate': 'invscaling'}\n",
            "Metrics:\n",
            " - training time        µ=0.030s     / std=0.001s\n",
            " - accuracy             µ=93.2%      / std=0.2%\n",
            " - F1                   µ=91.5%      / std=0.3%\n",
            "\n"
          ]
        }
      ],
      "source": [
        "import time\n",
        "from sklearn.linear_model import SGDClassifier\n",
        "from sklearn import metrics\n",
        "\n",
        "def logistic_metrics(y_test, y_pred):\n",
        "    acc = metrics.accuracy_score(y_test, y_pred)\n",
        "    pre = metrics.precision_score(y_test, y_pred, zero_division=0)\n",
        "    rec = metrics.recall_score(y_test, y_pred)\n",
        "    f1 = metrics.f1_score(y_test, y_pred)\n",
        "    return {\"acc\": acc, \"pre\": pre, \"rec\": rec, \"f1\": f1}\n",
        "\n",
        "def logistic_regression(*, random_states=random_states, **params):\n",
        "    performance = []\n",
        "    for rand in random_states:\n",
        "        model = SGDClassifier(loss='log' if colab else 'log_loss', random_state=rand, **params)\n",
        "\n",
        "        start = time.time()\n",
        "        model.fit(X_train2, y_train2['label'])\n",
        "        training_time = time.time() - start\n",
        "        \n",
        "        ms = logistic_metrics(y_test2['label'], model.predict(X_test2))\n",
        "        ms['time'] = training_time\n",
        "        performance.append(ms)\n",
        "\n",
        "    performance = pd.DataFrame(performance)\n",
        "    print('--- LogisticRegression ---')\n",
        "    print(f'SGDClassifier: {params}')\n",
        "    print(f'Metrics:')\n",
        "    print_metric(\"training time\", performance['time'], dp=3, unit='s')\n",
        "    print_metric(\"accuracy\", performance['acc'], dp=1, unit='%')\n",
        "    # print_metric(\"precision\", performance['pre'], dp=1, unit='%')\n",
        "    # print_metric(\"recall\", performance['rec'], dp=1, unit='%')\n",
        "    print_metric(\"F1\", performance['f1'], dp=1, unit='%')\n",
        "    print()\n",
        "    return performance\n",
        "\n",
        "logistic_regression(eta0=0.1, learning_rate='constant')\n",
        "# logistic_regression(eta0=0.01, learning_rate='optimal')\n",
        "logistic_regression(eta0=0.1, learning_rate='optimal', alpha=0.05)\n",
        "# q9_perf = logistic_regression(eta0=0.1, learning_rate='invscaling')\n",
        "logistic_regression(eta0=0.2, learning_rate='invscaling')\n",
        "# logistic_regression(eta0=0.3, learning_rate='invscaling')\n",
        "q9_perf = logistic_regression(eta0=0.4, learning_rate='invscaling')\n",
        "# logistic_regression(eta0=0.1, learning_rate='invscaling', power_t=0.4)\n",
        "# logistic_regression(eta0=0.1, learning_rate='invscaling', power_t=0.6)\n"
      ]
    },
    {
      "cell_type": "markdown",
      "metadata": {
        "id": "Jil76HcOkp-1"
      },
      "source": [
        "## Q10: Confusion Matrix"
      ]
    },
    {
      "cell_type": "code",
      "execution_count": 207,
      "metadata": {
        "colab": {
          "base_uri": "https://localhost:8080/",
          "height": 607
        },
        "id": "d5C1rMAmkp-1",
        "outputId": "466e7487-617b-4185-968a-2c8304948708"
      },
      "outputs": [
        {
          "name": "stdout",
          "output_type": "stream",
          "text": [
            "true negative: 110\n",
            "false positive: 10\n",
            "false negative: 6\n",
            "true positive: 74\n",
            "\n"
          ]
        },
        {
          "data": {
            "image/png": "[encoded data removed]",
            "text/plain": [
              "<Figure size 576x576 with 2 Axes>"
            ]
          },
          "metadata": {},
          "output_type": "display_data"
        }
      ],
      "source": [
        "from sklearn.metrics import confusion_matrix\n",
        "\n",
        "sgd = SGDClassifier(loss='log' if colab else 'log_loss', random_state=4901, eta0=0.1, learning_rate='invscaling')\n",
        "sgd.fit(X_train2, y_train2['label'])\n",
        "cnf_matrix = confusion_matrix(y_test2['label'], sgd.predict(X_test2))\n",
        "[[tn, fp], [fn, tp]] = cnf_matrix\n",
        "print(f'true negative: {tn}')\n",
        "print(f'false positive: {fp}')\n",
        "print(f'false negative: {fn}')\n",
        "print(f'true positive: {tp}')\n",
        "print()\n",
        "\n",
        "if plotting:\n",
        "    plt.figure(figsize=(8, 8))\n",
        "    sns.heatmap(pd.DataFrame(cnf_matrix), annot=True, fmt='d', cmap='Blues')\n",
        "    plt.title('Confusion Matrix')\n",
        "    plt.ylabel('Actual Label')\n",
        "    plt.xlabel('Predicted Label')\n",
        "    plt.show()"
      ]
    },
    {
      "cell_type": "markdown",
      "metadata": {
        "id": "4mWRQdr4kp-2"
      },
      "source": [
        "A reason for looking at the true/false positive/negative is that these numbers help us determine whether a model is useful or not for correct labelling.\n",
        "\n",
        "Sometimes it is better to look at the precision or recall. For example, if we have TP=5, FP=5, FN=5, TN=85, then we have a 90% accuracy; but looking only at the positive labels, only 50% succeeded.\n",
        "\n",
        "Thus, separating the results into these four categories is important."
      ]
    },
    {
      "cell_type": "markdown",
      "metadata": {
        "id": "keAt6t1Vkp-3"
      },
      "source": [
        "## Q11: Classification + FNN"
      ]
    },
    {
      "cell_type": "code",
      "execution_count": 209,
      "metadata": {
        "colab": {
          "base_uri": "https://localhost:8080/"
        },
        "id": "YTVuzUfGkp-3",
        "outputId": "d0e37e25-908c-4f72-ca1e-5dc9767d9ecb"
      },
      "outputs": [
        {
          "name": "stdout",
          "output_type": "stream",
          "text": [
            "--- Logistic Regression (FNN) ---\n",
            "MLPClassifier: {'hidden_layer_sizes': (1, 1, 1), 'max_iter': 500, 'early_stopping': True}\n",
            "Metrics:\n",
            " - training time        µ=0.062s     / std=0.001s\n",
            " - accuracy             µ=46.7%      / std=9.4%\n",
            " - F1                   µ=38.1%      / std=26.9%\n",
            "\n",
            "--- Logistic Regression (FNN) ---\n",
            "MLPClassifier: {'hidden_layer_sizes': (2, 2, 2), 'max_iter': 500, 'early_stopping': True}\n",
            "Metrics:\n",
            " - training time        µ=0.103s     / std=0.079s\n",
            " - accuracy             µ=62.2%      / std=19.0%\n",
            " - F1                   µ=46.9%      / std=34.8%\n",
            "\n",
            "--- Logistic Regression (FNN) ---\n",
            "MLPClassifier: {'hidden_layer_sizes': (4, 4, 4), 'max_iter': 500, 'early_stopping': True}\n",
            "Metrics:\n",
            " - training time        µ=0.111s     / std=0.041s\n",
            " - accuracy             µ=78.3%      / std=13.2%\n",
            " - F1                   µ=56.7%      / std=40.2%\n",
            "\n",
            "--- Logistic Regression (FNN) ---\n",
            "MLPClassifier: {'hidden_layer_sizes': (8, 8, 8), 'max_iter': 500, 'early_stopping': True}\n",
            "Metrics:\n",
            " - training time        µ=0.202s     / std=0.033s\n",
            " - accuracy             µ=89.0%      / std=1.9%\n",
            " - F1                   µ=86.8%      / std=2.0%\n",
            "\n",
            "--- Logistic Regression (FNN) ---\n",
            "MLPClassifier: {'hidden_layer_sizes': (16, 16, 16), 'max_iter': 500, 'early_stopping': True}\n",
            "Metrics:\n",
            " - training time        µ=0.293s     / std=0.128s\n",
            " - accuracy             µ=90.2%      / std=1.6%\n",
            " - F1                   µ=87.9%      / std=1.9%\n",
            "\n",
            "--- Logistic Regression (FNN) ---\n",
            "MLPClassifier: {'hidden_layer_sizes': (32, 32, 32), 'max_iter': 500, 'early_stopping': True}\n",
            "Metrics:\n",
            " - training time        µ=0.209s     / std=0.051s\n",
            " - accuracy             µ=88.2%      / std=1.0%\n",
            " - F1                   µ=84.9%      / std=1.9%\n",
            "\n",
            "--- Logistic Regression (FNN) ---\n",
            "MLPClassifier: {'hidden_layer_sizes': (64, 64, 64), 'max_iter': 500, 'early_stopping': True}\n",
            "Metrics:\n",
            " - training time        µ=0.411s     / std=0.162s\n",
            " - accuracy             µ=91.0%      / std=1.9%\n",
            " - F1                   µ=89.0%      / std=2.0%\n",
            "\n",
            "--- Logistic Regression (FNN) ---\n",
            "MLPClassifier: {'hidden_layer_sizes': (128, 128, 128), 'max_iter': 500, 'early_stopping': True}\n",
            "Metrics:\n",
            " - training time        µ=0.523s     / std=0.079s\n",
            " - accuracy             µ=90.8%      / std=1.8%\n",
            " - F1                   µ=88.4%      / std=2.2%\n",
            "\n"
          ]
        }
      ],
      "source": [
        "import time\n",
        "from sklearn.neural_network import MLPClassifier\n",
        "\n",
        "def logistic_fnn(**params):\n",
        "    \"\"\"Trains several classifiers and computes performance metrics.\"\"\"\n",
        "    performance = []\n",
        "    params.update(max_iter=500, early_stopping=True)\n",
        "    for rand in random_states:\n",
        "        model = MLPClassifier(random_state=rand, **params)\n",
        "        \n",
        "        start = time.time()\n",
        "        model.fit(X_train2.to_numpy(), y_train2['label'])\n",
        "        training_time = time.time() - start\n",
        "\n",
        "        ms = logistic_metrics(y_test2['label'], model.predict(X_test2.to_numpy()))\n",
        "        ms['time'] = training_time\n",
        "        performance.append(ms)\n",
        "    \n",
        "    performance = pd.DataFrame(performance)\n",
        "    params.update()\n",
        "    print('--- Logistic Regression (FNN) ---')\n",
        "    print(f'MLPClassifier: {params}')\n",
        "    print(f'Metrics:')\n",
        "    print_metric(\"training time\", performance['time'], dp=3, unit='s')\n",
        "    print_metric(\"accuracy\", performance['acc'], dp=1, unit='%')\n",
        "    print_metric(\"F1\", performance['f1'], dp=1, unit='%')\n",
        "    print()\n",
        "    return performance\n",
        "\n",
        "q11_perfs = []   # Used in Q12.\n",
        "for h in units:\n",
        "    p = logistic_fnn(hidden_layer_sizes=(h, h, h))\n",
        "    q11_perfs.append(p)"
      ]
    },
    {
      "cell_type": "markdown",
      "metadata": {
        "id": "ZTLeW6NRkp-4"
      },
      "source": [
        "## Q12: Accuracy/F1 vs. Number of Hidden Units"
      ]
    },
    {
      "cell_type": "code",
      "execution_count": 211,
      "metadata": {
        "colab": {
          "base_uri": "https://localhost:8080/",
          "height": 412
        },
        "id": "fxIcq8ZDkp-4",
        "outputId": "b47ee420-66d0-4d9f-d713-361f8f9956cd"
      },
      "outputs": [
        {
          "data": {
            "image/png": "[encoded data removed]",
            "text/plain": [
              "<Figure size 432x432 with 1 Axes>"
            ]
          },
          "metadata": {},
          "output_type": "display_data"
        }
      ],
      "source": [
        "accs = [np.mean(perf['acc']) for perf in q11_perfs]\n",
        "f1s = [np.mean(perf['f1']) for perf in q11_perfs]\n",
        "\n",
        "if plotting:\n",
        "    plt.figure(figsize=(6, 6))\n",
        "    plt.plot(units, accs, 'bo-')\n",
        "    plt.plot(units, f1s, 'rx-')\n",
        "    plt.title('Accuracy / $F_1$ Score vs. Number of Hidden Units')\n",
        "    plt.xlabel('Number of Hidden Units')\n",
        "    plt.ylabel('Score')\n",
        "    plt.legend(['Accuracy', '$F_1$'])\n",
        "    plt.show()"
      ]
    },
    {
      "cell_type": "markdown",
      "metadata": {
        "id": "l7RNj2yTkp-5"
      },
      "source": [
        "One reason for the gap between accuracy and $F_1$ is that the $F_1$ score places more focus on true positives vs. false positives/negatives, so additional scoring due to true negatives are ignored."
      ]
    },
    {
      "cell_type": "markdown",
      "metadata": {
        "id": "d3JBsV34kp-5"
      },
      "source": [
        "## Q13"
      ]
    },
    {
      "cell_type": "code",
      "execution_count": 228,
      "metadata": {
        "colab": {
          "base_uri": "https://localhost:8080/"
        },
        "id": "PIRT24Aikp-6",
        "outputId": "4ef66328-2b73-4bf4-8740-756b6141d4a5"
      },
      "outputs": [
        {
          "name": "stdout",
          "output_type": "stream",
          "text": [
            "--- Logistic Regression: Vanilla ---\n",
            " - training time        µ=0.02992s   / std=0.00088s\n",
            " - accuracy             µ=93.17%     / std=0.24%\n",
            " - F1                   µ=91.55%     / std=0.27%\n",
            "\n",
            "--- Logistic Regression: FNN ---\n",
            " - training time        µ=0.523s     / std=0.079s\n",
            " - accuracy             µ=91.0%      / std=1.9%\n",
            " - F1                   µ=89.0%      / std=2.0%\n"
          ]
        }
      ],
      "source": [
        "print('--- Logistic Regression: Vanilla ---')\n",
        "print_metric('training time', q9_perf['time'], dp=5, unit='s')\n",
        "print_metric('accuracy', q9_perf['acc'], dp=2, unit='%')\n",
        "print_metric('F1', q9_perf['f1'], dp=2, unit='%')\n",
        "print()\n",
        "print('--- Logistic Regression: FNN ---')\n",
        "max_array = lambda arr: max(arr, key=np.mean)\n",
        "print_metric('training time', max_array(p['time'] for p in q11_perfs), dp=3, unit='s')\n",
        "print_metric('accuracy', max_array(p['acc'] for p in q11_perfs), dp=1, unit='%')\n",
        "print_metric('F1', max_array(p['f1'] for p in q11_perfs), dp=1, unit='%')\n"
      ]
    },
    {
      "cell_type": "markdown",
      "metadata": {
        "id": "80jKJCnbxkqh"
      },
      "source": [
        "Overall the vanilla logistic regression model using `SGDClassifier` performed better in all metrics, including having a lower variance."
      ]
    },
    {
      "cell_type": "markdown",
      "metadata": {
        "id": "6HvXRVsPkp-6"
      },
      "source": [
        "## Q14\n",
        "\n",
        "Referring to the graph from Q12, it appears that for small number of hidden units (1, 2, 4), the model isn't really accurate. This may again be due to underfitting, as going from ninety-ish input features to just 4 is quite demanding for a model and it doesn't have sufficient parameters to handle all the various cases.\n",
        "\n",
        "On the flip side, the model is pretty accurate when more hidden units are added, as the additional parameters can handle different cases better."
      ]
    },
    {
      "cell_type": "markdown",
      "metadata": {
        "id": "i0EMtqlEycGh"
      },
      "source": [
        "# Part 5: Hyperparameter Tuning"
      ]
    },
    {
      "cell_type": "markdown",
      "metadata": {
        "id": "9yxc1p_Skp-6"
      },
      "source": [
        "## Q15\n",
        "\n",
        "We'll first use `GridSearchCV` to exhaustively test all combinations. I'm curious about the different solvers and learning rates. I'm also interested in trying non-uniform hidden unit sizes (e.g. first hidden layer has 32, second hidden layer has 16, etc.).\n",
        "\n",
        "We'll use the `cv=5` parameter for 5-fold cross validation and `scoring='accuracy'` to rank models based on their accuracy."
      ]
    },
    {
      "cell_type": "code",
      "execution_count": 175,
      "metadata": {
        "colab": {
          "base_uri": "https://localhost:8080/"
        },
        "id": "26vebzW3kp-6",
        "outputId": "cf7b05ad-64e4-4e12-d947-e6e10428f91d"
      },
      "outputs": [
        {
          "name": "stdout",
          "output_type": "stream",
          "text": [
            "{'hidden_layer_sizes': (32, 32, 32), 'learning_rate': 'invscaling', 'learning_rate_init': 0.5, 'power_t': 0.05, 'solver': 'sgd'}\n"
          ]
        }
      ],
      "source": [
        "from sklearn.model_selection import GridSearchCV\n",
        "\n",
        "units = [16, 32, 64, 128]\n",
        "param_grid = [\n",
        "    {\n",
        "        'solver': ['adam'],\n",
        "        'learning_rate_init': [0.0001, 0.001, 0.01],\n",
        "        'hidden_layer_sizes': [(h, h, h) for h in units] + [(h, h // 2, h // 4) for h in units],\n",
        "    },\n",
        "    # {\n",
        "    #     'solver': ['sgd'],\n",
        "    #     'learning_rate': ['constant'], \n",
        "    #     'learning_rate_init': [0.001, 0.01, 0.1],\n",
        "    #     'hidden_layer_sizes': [(h, h, h) for h in units],\n",
        "    # },\n",
        "    {\n",
        "        'solver': ['sgd'],\n",
        "        'learning_rate': ['invscaling'],\n",
        "        'learning_rate_init': [0.01, 0.1, 0.5],\n",
        "        'power_t': [0.5, 0.05],\n",
        "        'hidden_layer_sizes': [(h, h, h) for h in units] + [(h, h // 2, h // 4) for h in units],\n",
        "    },\n",
        "    {\n",
        "        'solver': ['sgd'],\n",
        "        'learning_rate': ['adaptive'],\n",
        "        'learning_rate_init': [0.01, 0.1, 0.5],\n",
        "        'hidden_layer_sizes': [(h, h, h) for h in units] + [(h, h // 2, h // 4) for h in units],\n",
        "    },\n",
        "]\n",
        "\n",
        "default_params = {\n",
        "    'max_iter': 500,\n",
        "    'early_stopping': True,\n",
        "    'random_state': 4211,\n",
        "}\n",
        "\n",
        "est = MLPClassifier(**default_params)\n",
        "gscv = GridSearchCV(est, param_grid, cv=5, scoring='accuracy')\n",
        "\n",
        "gscv.fit(X_train.to_numpy(), y_train['label'])\n",
        "\n",
        "print(gscv.best_params_)\n"
      ]
    },
    {
      "cell_type": "markdown",
      "metadata": {
        "id": "n57uo1IOznVa"
      },
      "source": [
        "After fitting with our original training data, `X_train`, we can look at all the different models that `GridSearchCV` has tried by looking at `gscv.cv_results_`."
      ]
    },
    {
      "cell_type": "code",
      "execution_count": 230,
      "metadata": {
        "colab": {
          "base_uri": "https://localhost:8080/",
          "height": 774
        },
        "id": "uCtx1qrq5mHj",
        "outputId": "ec803aec-2d4b-4c4d-dc7d-4d62bcdab438"
      },
      "outputs": [
        {
          "data": {
            "text/html": [
              "\n",
              "  <div id=\"df-36d6842e-ea57-4945-9ee2-0af6561a9256\">\n",
              "    <div class=\"colab-df-container\">\n",
              "      <div>\n",
              "<style scoped>\n",
              "    .dataframe tbody tr th:only-of-type {\n",
              "        vertical-align: middle;\n",
              "    }\n",
              "\n",
              "    .dataframe tbody tr th {\n",
              "        vertical-align: top;\n",
              "    }\n",
              "\n",
              "    .dataframe thead th {\n",
              "        text-align: right;\n",
              "    }\n",
              "</style>\n",
              "<table border=\"1\" class=\"dataframe\">\n",
              "  <thead>\n",
              "    <tr style=\"text-align: right;\">\n",
              "      <th></th>\n",
              "      <th>mean_fit_time</th>\n",
              "      <th>std_fit_time</th>\n",
              "      <th>mean_score_time</th>\n",
              "      <th>std_score_time</th>\n",
              "      <th>param_hidden_layer_sizes</th>\n",
              "      <th>param_learning_rate_init</th>\n",
              "      <th>param_solver</th>\n",
              "      <th>param_learning_rate</th>\n",
              "      <th>param_power_t</th>\n",
              "      <th>params</th>\n",
              "      <th>mean_test_score</th>\n",
              "      <th>std_test_score</th>\n",
              "      <th>rank_test_score</th>\n",
              "    </tr>\n",
              "  </thead>\n",
              "  <tbody>\n",
              "    <tr>\n",
              "      <th>35</th>\n",
              "      <td>0.176043</td>\n",
              "      <td>0.020184</td>\n",
              "      <td>0.001230</td>\n",
              "      <td>0.000012</td>\n",
              "      <td>(32, 32, 32)</td>\n",
              "      <td>0.5</td>\n",
              "      <td>sgd</td>\n",
              "      <td>invscaling</td>\n",
              "      <td>0.05</td>\n",
              "      <td>{'hidden_layer_sizes': (32, 32, 32), 'learning...</td>\n",
              "      <td>0.941</td>\n",
              "      <td>0.018000</td>\n",
              "      <td>1</td>\n",
              "    </tr>\n",
              "    <tr>\n",
              "      <th>57</th>\n",
              "      <td>0.118754</td>\n",
              "      <td>0.011841</td>\n",
              "      <td>0.001051</td>\n",
              "      <td>0.000041</td>\n",
              "      <td>(32, 16, 8)</td>\n",
              "      <td>0.1</td>\n",
              "      <td>sgd</td>\n",
              "      <td>invscaling</td>\n",
              "      <td>0.05</td>\n",
              "      <td>{'hidden_layer_sizes': (32, 16, 8), 'learning_...</td>\n",
              "      <td>0.938</td>\n",
              "      <td>0.018601</td>\n",
              "      <td>2</td>\n",
              "    </tr>\n",
              "    <tr>\n",
              "      <th>74</th>\n",
              "      <td>1.428868</td>\n",
              "      <td>0.329683</td>\n",
              "      <td>0.001791</td>\n",
              "      <td>0.001418</td>\n",
              "      <td>(16, 16, 16)</td>\n",
              "      <td>0.5</td>\n",
              "      <td>sgd</td>\n",
              "      <td>adaptive</td>\n",
              "      <td>NaN</td>\n",
              "      <td>{'hidden_layer_sizes': (16, 16, 16), 'learning...</td>\n",
              "      <td>0.938</td>\n",
              "      <td>0.022494</td>\n",
              "      <td>2</td>\n",
              "    </tr>\n",
              "    <tr>\n",
              "      <th>11</th>\n",
              "      <td>0.389203</td>\n",
              "      <td>0.041961</td>\n",
              "      <td>0.002505</td>\n",
              "      <td>0.000079</td>\n",
              "      <td>(128, 128, 128)</td>\n",
              "      <td>0.01</td>\n",
              "      <td>adam</td>\n",
              "      <td>NaN</td>\n",
              "      <td>NaN</td>\n",
              "      <td>{'hidden_layer_sizes': (128, 128, 128), 'learn...</td>\n",
              "      <td>0.938</td>\n",
              "      <td>0.016000</td>\n",
              "      <td>2</td>\n",
              "    </tr>\n",
              "    <tr>\n",
              "      <th>77</th>\n",
              "      <td>1.319191</td>\n",
              "      <td>0.029873</td>\n",
              "      <td>0.001265</td>\n",
              "      <td>0.000065</td>\n",
              "      <td>(32, 32, 32)</td>\n",
              "      <td>0.5</td>\n",
              "      <td>sgd</td>\n",
              "      <td>adaptive</td>\n",
              "      <td>NaN</td>\n",
              "      <td>{'hidden_layer_sizes': (32, 32, 32), 'learning...</td>\n",
              "      <td>0.937</td>\n",
              "      <td>0.014353</td>\n",
              "      <td>5</td>\n",
              "    </tr>\n",
              "    <tr>\n",
              "      <th>73</th>\n",
              "      <td>0.816978</td>\n",
              "      <td>0.058836</td>\n",
              "      <td>0.001077</td>\n",
              "      <td>0.000050</td>\n",
              "      <td>(16, 16, 16)</td>\n",
              "      <td>0.1</td>\n",
              "      <td>sgd</td>\n",
              "      <td>adaptive</td>\n",
              "      <td>NaN</td>\n",
              "      <td>{'hidden_layer_sizes': (16, 16, 16), 'learning...</td>\n",
              "      <td>0.936</td>\n",
              "      <td>0.020347</td>\n",
              "      <td>6</td>\n",
              "    </tr>\n",
              "    <tr>\n",
              "      <th>29</th>\n",
              "      <td>0.126537</td>\n",
              "      <td>0.006735</td>\n",
              "      <td>0.001112</td>\n",
              "      <td>0.000162</td>\n",
              "      <td>(16, 16, 16)</td>\n",
              "      <td>0.5</td>\n",
              "      <td>sgd</td>\n",
              "      <td>invscaling</td>\n",
              "      <td>0.05</td>\n",
              "      <td>{'hidden_layer_sizes': (16, 16, 16), 'learning...</td>\n",
              "      <td>0.935</td>\n",
              "      <td>0.020000</td>\n",
              "      <td>7</td>\n",
              "    </tr>\n",
              "    <tr>\n",
              "      <th>27</th>\n",
              "      <td>0.148354</td>\n",
              "      <td>0.042331</td>\n",
              "      <td>0.001002</td>\n",
              "      <td>0.000026</td>\n",
              "      <td>(16, 16, 16)</td>\n",
              "      <td>0.1</td>\n",
              "      <td>sgd</td>\n",
              "      <td>invscaling</td>\n",
              "      <td>0.05</td>\n",
              "      <td>{'hidden_layer_sizes': (16, 16, 16), 'learning...</td>\n",
              "      <td>0.935</td>\n",
              "      <td>0.019748</td>\n",
              "      <td>7</td>\n",
              "    </tr>\n",
              "    <tr>\n",
              "      <th>63</th>\n",
              "      <td>0.168524</td>\n",
              "      <td>0.033972</td>\n",
              "      <td>0.001381</td>\n",
              "      <td>0.000012</td>\n",
              "      <td>(64, 32, 16)</td>\n",
              "      <td>0.1</td>\n",
              "      <td>sgd</td>\n",
              "      <td>invscaling</td>\n",
              "      <td>0.05</td>\n",
              "      <td>{'hidden_layer_sizes': (64, 32, 16), 'learning...</td>\n",
              "      <td>0.935</td>\n",
              "      <td>0.017607</td>\n",
              "      <td>7</td>\n",
              "    </tr>\n",
              "    <tr>\n",
              "      <th>47</th>\n",
              "      <td>0.393912</td>\n",
              "      <td>0.050393</td>\n",
              "      <td>0.002453</td>\n",
              "      <td>0.000094</td>\n",
              "      <td>(128, 128, 128)</td>\n",
              "      <td>0.5</td>\n",
              "      <td>sgd</td>\n",
              "      <td>invscaling</td>\n",
              "      <td>0.05</td>\n",
              "      <td>{'hidden_layer_sizes': (128, 128, 128), 'learn...</td>\n",
              "      <td>0.934</td>\n",
              "      <td>0.017720</td>\n",
              "      <td>10</td>\n",
              "    </tr>\n",
              "  </tbody>\n",
              "</table>\n",
              "</div>\n",
              "      <button class=\"colab-df-convert\" onclick=\"convertToInteractive('df-36d6842e-ea57-4945-9ee2-0af6561a9256')\"\n",
              "              title=\"Convert this dataframe to an interactive table.\"\n",
              "              style=\"display:none;\">\n",
              "        \n",
              "  <svg xmlns=\"http://www.w3.org/2000/svg\" height=\"24px\"viewBox=\"0 0 24 24\"\n",
              "       width=\"24px\">\n",
              "    <path d=\"M0 0h24v24H0V0z\" fill=\"none\"/>\n",
              "    <path d=\"M18.56 5.44l.94 2.06.94-2.06 2.06-.94-2.06-.94-.94-2.06-.94 2.06-2.06.94zm-11 1L8.5 8.5l.94-2.06 2.06-.94-2.06-.94L8.5 2.5l-.94 2.06-2.06.94zm10 10l.94 2.06.94-2.06 2.06-.94-2.06-.94-.94-2.06-.94 2.06-2.06.94z\"/><path d=\"M17.41 7.96l-1.37-1.37c-.4-.4-.92-.59-1.43-.59-.52 0-1.04.2-1.43.59L10.3 9.45l-7.72 7.72c-.78.78-.78 2.05 0 2.83L4 21.41c.39.39.9.59 1.41.59.51 0 1.02-.2 1.41-.59l7.78-7.78 2.81-2.81c.8-.78.8-2.07 0-2.86zM5.41 20L4 18.59l7.72-7.72 1.47 1.35L5.41 20z\"/>\n",
              "  </svg>\n",
              "      </button>\n",
              "      \n",
              "  <style>\n",
              "    .colab-df-container {\n",
              "      display:flex;\n",
              "      flex-wrap:wrap;\n",
              "      gap: 12px;\n",
              "    }\n",
              "\n",
              "    .colab-df-convert {\n",
              "      background-color: #E8F0FE;\n",
              "      border: none;\n",
              "      border-radius: 50%;\n",
              "      cursor: pointer;\n",
              "      display: none;\n",
              "      fill: #1967D2;\n",
              "      height: 32px;\n",
              "      padding: 0 0 0 0;\n",
              "      width: 32px;\n",
              "    }\n",
              "\n",
              "    .colab-df-convert:hover {\n",
              "      background-color: #E2EBFA;\n",
              "      box-shadow: 0px 1px 2px rgba(60, 64, 67, 0.3), 0px 1px 3px 1px rgba(60, 64, 67, 0.15);\n",
              "      fill: #174EA6;\n",
              "    }\n",
              "\n",
              "    [theme=dark] .colab-df-convert {\n",
              "      background-color: #3B4455;\n",
              "      fill: #D2E3FC;\n",
              "    }\n",
              "\n",
              "    [theme=dark] .colab-df-convert:hover {\n",
              "      background-color: #434B5C;\n",
              "      box-shadow: 0px 1px 3px 1px rgba(0, 0, 0, 0.15);\n",
              "      filter: drop-shadow(0px 1px 2px rgba(0, 0, 0, 0.3));\n",
              "      fill: #FFFFFF;\n",
              "    }\n",
              "  </style>\n",
              "\n",
              "      <script>\n",
              "        const buttonEl =\n",
              "          document.querySelector('#df-36d6842e-ea57-4945-9ee2-0af6561a9256 button.colab-df-convert');\n",
              "        buttonEl.style.display =\n",
              "          google.colab.kernel.accessAllowed ? 'block' : 'none';\n",
              "\n",
              "        async function convertToInteractive(key) {\n",
              "          const element = document.querySelector('#df-36d6842e-ea57-4945-9ee2-0af6561a9256');\n",
              "          const dataTable =\n",
              "            await google.colab.kernel.invokeFunction('convertToInteractive',\n",
              "                                                     [key], {});\n",
              "          if (!dataTable) return;\n",
              "\n",
              "          const docLinkHtml = 'Like what you see? Visit the ' +\n",
              "            '<a target=\"_blank\" href=https://colab.research.google.com/notebooks/data_table.ipynb>data table notebook</a>'\n",
              "            + ' to learn more about interactive tables.';\n",
              "          element.innerHTML = '';\n",
              "          dataTable['output_type'] = 'display_data';\n",
              "          await google.colab.output.renderOutput(dataTable, element);\n",
              "          const docLink = document.createElement('div');\n",
              "          docLink.innerHTML = docLinkHtml;\n",
              "          element.appendChild(docLink);\n",
              "        }\n",
              "      </script>\n",
              "    </div>\n",
              "  </div>\n",
              "  "
            ],
            "text/plain": [
              "    mean_fit_time  std_fit_time  mean_score_time  std_score_time  \\\n",
              "35       0.176043      0.020184         0.001230        0.000012   \n",
              "57       0.118754      0.011841         0.001051        0.000041   \n",
              "74       1.428868      0.329683         0.001791        0.001418   \n",
              "11       0.389203      0.041961         0.002505        0.000079   \n",
              "77       1.319191      0.029873         0.001265        0.000065   \n",
              "73       0.816978      0.058836         0.001077        0.000050   \n",
              "29       0.126537      0.006735         0.001112        0.000162   \n",
              "27       0.148354      0.042331         0.001002        0.000026   \n",
              "63       0.168524      0.033972         0.001381        0.000012   \n",
              "47       0.393912      0.050393         0.002453        0.000094   \n",
              "\n",
              "   param_hidden_layer_sizes param_learning_rate_init param_solver  \\\n",
              "35             (32, 32, 32)                      0.5          sgd   \n",
              "57              (32, 16, 8)                      0.1          sgd   \n",
              "74             (16, 16, 16)                      0.5          sgd   \n",
              "11          (128, 128, 128)                     0.01         adam   \n",
              "77             (32, 32, 32)                      0.5          sgd   \n",
              "73             (16, 16, 16)                      0.1          sgd   \n",
              "29             (16, 16, 16)                      0.5          sgd   \n",
              "27             (16, 16, 16)                      0.1          sgd   \n",
              "63             (64, 32, 16)                      0.1          sgd   \n",
              "47          (128, 128, 128)                      0.5          sgd   \n",
              "\n",
              "   param_learning_rate param_power_t  \\\n",
              "35          invscaling          0.05   \n",
              "57          invscaling          0.05   \n",
              "74            adaptive           NaN   \n",
              "11                 NaN           NaN   \n",
              "77            adaptive           NaN   \n",
              "73            adaptive           NaN   \n",
              "29          invscaling          0.05   \n",
              "27          invscaling          0.05   \n",
              "63          invscaling          0.05   \n",
              "47          invscaling          0.05   \n",
              "\n",
              "                                               params  mean_test_score  \\\n",
              "35  {'hidden_layer_sizes': (32, 32, 32), 'learning...            0.941   \n",
              "57  {'hidden_layer_sizes': (32, 16, 8), 'learning_...            0.938   \n",
              "74  {'hidden_layer_sizes': (16, 16, 16), 'learning...            0.938   \n",
              "11  {'hidden_layer_sizes': (128, 128, 128), 'learn...            0.938   \n",
              "77  {'hidden_layer_sizes': (32, 32, 32), 'learning...            0.937   \n",
              "73  {'hidden_layer_sizes': (16, 16, 16), 'learning...            0.936   \n",
              "29  {'hidden_layer_sizes': (16, 16, 16), 'learning...            0.935   \n",
              "27  {'hidden_layer_sizes': (16, 16, 16), 'learning...            0.935   \n",
              "63  {'hidden_layer_sizes': (64, 32, 16), 'learning...            0.935   \n",
              "47  {'hidden_layer_sizes': (128, 128, 128), 'learn...            0.934   \n",
              "\n",
              "    std_test_score  rank_test_score  \n",
              "35        0.018000                1  \n",
              "57        0.018601                2  \n",
              "74        0.022494                2  \n",
              "11        0.016000                2  \n",
              "77        0.014353                5  \n",
              "73        0.020347                6  \n",
              "29        0.020000                7  \n",
              "27        0.019748                7  \n",
              "63        0.017607                7  \n",
              "47        0.017720               10  "
            ]
          },
          "execution_count": 230,
          "metadata": {},
          "output_type": "execute_result"
        }
      ],
      "source": [
        "df = pd.DataFrame(gscv.cv_results_)\n",
        "\n",
        "# Drop unneeded columns.\n",
        "df = df.drop(['split0_test_score', 'split1_test_score', 'split2_test_score', 'split3_test_score', 'split4_test_score'], axis=1)\n",
        "\n",
        "# Sort by rank and get top 10 rows.\n",
        "top10 = df.sort_values('rank_test_score').iloc[:10]\n",
        "top10['params'].apply(lambda d: d.update(default_params))\n",
        "top10\n",
        "# df.sort_values('rank_test_score')"
      ]
    },
    {
      "cell_type": "markdown",
      "metadata": {
        "id": "Um4fJqaB0M3n"
      },
      "source": [
        "As can be seen above, the best model in this case used the `sgd` (Stochastic Gradient Descent) solver along with `learning_rate='invscaling'`. Surprisingly, not too many hidden units were needed, just 32 per layer.\n",
        "\n",
        "The models with decreasing number of hidden units (e.g. `(32, 16, 8)` performed okay-ish, which was a bit disappointing."
      ]
    },
    {
      "cell_type": "markdown",
      "metadata": {
        "id": "NrHFhT1THey0"
      },
      "source": [
        "## Q16"
      ]
    },
    {
      "cell_type": "code",
      "execution_count": 234,
      "metadata": {
        "colab": {
          "base_uri": "https://localhost:8080/",
          "height": 253
        },
        "id": "Qeqf0_SQCAeO",
        "outputId": "c17a8c2f-bd89-4298-f8d5-6ebb313779d4"
      },
      "outputs": [
        {
          "name": "stdout",
          "output_type": "stream",
          "text": [
            "--- Best Settings ---\n",
            "#0: hidden_layer_sizes: (32, 32, 32), learning_rate: invscaling, learning_rate_init: 0.5, power_t: 0.05, solver: sgd, max_iter: 500, early_stopping: True, random_state: 4211\n",
            "#1: hidden_layer_sizes: (32, 16, 8), learning_rate: invscaling, learning_rate_init: 0.1, power_t: 0.05, solver: sgd, max_iter: 500, early_stopping: True, random_state: 4211\n",
            "#2: hidden_layer_sizes: (16, 16, 16), learning_rate: adaptive, learning_rate_init: 0.5, solver: sgd, max_iter: 500, early_stopping: True, random_state: 4211\n",
            "--- Best Scores ---\n"
          ]
        },
        {
          "data": {
            "text/html": [
              "\n",
              "  <div id=\"df-d6db02ec-5238-418d-99c4-c440f3585321\">\n",
              "    <div class=\"colab-df-container\">\n",
              "      <div>\n",
              "<style scoped>\n",
              "    .dataframe tbody tr th:only-of-type {\n",
              "        vertical-align: middle;\n",
              "    }\n",
              "\n",
              "    .dataframe tbody tr th {\n",
              "        vertical-align: top;\n",
              "    }\n",
              "\n",
              "    .dataframe thead th {\n",
              "        text-align: right;\n",
              "    }\n",
              "</style>\n",
              "<table border=\"1\" class=\"dataframe\">\n",
              "  <thead>\n",
              "    <tr style=\"text-align: right;\">\n",
              "      <th></th>\n",
              "      <th>mean_test_score</th>\n",
              "      <th>std_test_score</th>\n",
              "    </tr>\n",
              "  </thead>\n",
              "  <tbody>\n",
              "    <tr>\n",
              "      <th>35</th>\n",
              "      <td>0.941</td>\n",
              "      <td>0.018000</td>\n",
              "    </tr>\n",
              "    <tr>\n",
              "      <th>57</th>\n",
              "      <td>0.938</td>\n",
              "      <td>0.018601</td>\n",
              "    </tr>\n",
              "    <tr>\n",
              "      <th>74</th>\n",
              "      <td>0.938</td>\n",
              "      <td>0.022494</td>\n",
              "    </tr>\n",
              "  </tbody>\n",
              "</table>\n",
              "</div>\n",
              "      <button class=\"colab-df-convert\" onclick=\"convertToInteractive('df-d6db02ec-5238-418d-99c4-c440f3585321')\"\n",
              "              title=\"Convert this dataframe to an interactive table.\"\n",
              "              style=\"display:none;\">\n",
              "        \n",
              "  <svg xmlns=\"http://www.w3.org/2000/svg\" height=\"24px\"viewBox=\"0 0 24 24\"\n",
              "       width=\"24px\">\n",
              "    <path d=\"M0 0h24v24H0V0z\" fill=\"none\"/>\n",
              "    <path d=\"M18.56 5.44l.94 2.06.94-2.06 2.06-.94-2.06-.94-.94-2.06-.94 2.06-2.06.94zm-11 1L8.5 8.5l.94-2.06 2.06-.94-2.06-.94L8.5 2.5l-.94 2.06-2.06.94zm10 10l.94 2.06.94-2.06 2.06-.94-2.06-.94-.94-2.06-.94 2.06-2.06.94z\"/><path d=\"M17.41 7.96l-1.37-1.37c-.4-.4-.92-.59-1.43-.59-.52 0-1.04.2-1.43.59L10.3 9.45l-7.72 7.72c-.78.78-.78 2.05 0 2.83L4 21.41c.39.39.9.59 1.41.59.51 0 1.02-.2 1.41-.59l7.78-7.78 2.81-2.81c.8-.78.8-2.07 0-2.86zM5.41 20L4 18.59l7.72-7.72 1.47 1.35L5.41 20z\"/>\n",
              "  </svg>\n",
              "      </button>\n",
              "      \n",
              "  <style>\n",
              "    .colab-df-container {\n",
              "      display:flex;\n",
              "      flex-wrap:wrap;\n",
              "      gap: 12px;\n",
              "    }\n",
              "\n",
              "    .colab-df-convert {\n",
              "      background-color: #E8F0FE;\n",
              "      border: none;\n",
              "      border-radius: 50%;\n",
              "      cursor: pointer;\n",
              "      display: none;\n",
              "      fill: #1967D2;\n",
              "      height: 32px;\n",
              "      padding: 0 0 0 0;\n",
              "      width: 32px;\n",
              "    }\n",
              "\n",
              "    .colab-df-convert:hover {\n",
              "      background-color: #E2EBFA;\n",
              "      box-shadow: 0px 1px 2px rgba(60, 64, 67, 0.3), 0px 1px 3px 1px rgba(60, 64, 67, 0.15);\n",
              "      fill: #174EA6;\n",
              "    }\n",
              "\n",
              "    [theme=dark] .colab-df-convert {\n",
              "      background-color: #3B4455;\n",
              "      fill: #D2E3FC;\n",
              "    }\n",
              "\n",
              "    [theme=dark] .colab-df-convert:hover {\n",
              "      background-color: #434B5C;\n",
              "      box-shadow: 0px 1px 3px 1px rgba(0, 0, 0, 0.15);\n",
              "      filter: drop-shadow(0px 1px 2px rgba(0, 0, 0, 0.3));\n",
              "      fill: #FFFFFF;\n",
              "    }\n",
              "  </style>\n",
              "\n",
              "      <script>\n",
              "        const buttonEl =\n",
              "          document.querySelector('#df-d6db02ec-5238-418d-99c4-c440f3585321 button.colab-df-convert');\n",
              "        buttonEl.style.display =\n",
              "          google.colab.kernel.accessAllowed ? 'block' : 'none';\n",
              "\n",
              "        async function convertToInteractive(key) {\n",
              "          const element = document.querySelector('#df-d6db02ec-5238-418d-99c4-c440f3585321');\n",
              "          const dataTable =\n",
              "            await google.colab.kernel.invokeFunction('convertToInteractive',\n",
              "                                                     [key], {});\n",
              "          if (!dataTable) return;\n",
              "\n",
              "          const docLinkHtml = 'Like what you see? Visit the ' +\n",
              "            '<a target=\"_blank\" href=https://colab.research.google.com/notebooks/data_table.ipynb>data table notebook</a>'\n",
              "            + ' to learn more about interactive tables.';\n",
              "          element.innerHTML = '';\n",
              "          dataTable['output_type'] = 'display_data';\n",
              "          await google.colab.output.renderOutput(dataTable, element);\n",
              "          const docLink = document.createElement('div');\n",
              "          docLink.innerHTML = docLinkHtml;\n",
              "          element.appendChild(docLink);\n",
              "        }\n",
              "      </script>\n",
              "    </div>\n",
              "  </div>\n",
              "  "
            ],
            "text/plain": [
              "    mean_test_score  std_test_score\n",
              "35            0.941        0.018000\n",
              "57            0.938        0.018601\n",
              "74            0.938        0.022494"
            ]
          },
          "execution_count": 234,
          "metadata": {},
          "output_type": "execute_result"
        }
      ],
      "source": [
        "top3 = top10.iloc[:3]\n",
        "print('--- Best Settings ---')\n",
        "for i, p in enumerate(top3['params']):\n",
        "  print(f'#{i}:', ', '.join(f'{k}: {v}' for k, v in p.items()))\n",
        "\n",
        "print('--- Best Scores ---')\n",
        "top3[['mean_test_score', 'std_test_score']]"
      ]
    },
    {
      "cell_type": "markdown",
      "metadata": {
        "id": "GJ4m5nqGHhRg"
      },
      "source": [
        "## Q17"
      ]
    },
    {
      "cell_type": "code",
      "execution_count": 236,
      "metadata": {
        "colab": {
          "base_uri": "https://localhost:8080/",
          "height": 481
        },
        "id": "MdZFqvZrHy9i",
        "outputId": "0d196f4c-e57f-4a65-83de-e19d0e54c1bf"
      },
      "outputs": [
        {
          "name": "stdout",
          "output_type": "stream",
          "text": [
            "Metrics:\n",
            " - accuracy             92.4%\n",
            " - F1                   90.5%\n",
            "\n"
          ]
        },
        {
          "data": {
            "image/png": "[encoded data removed]",
            "text/plain": [
              "<Figure size 432x432 with 2 Axes>"
            ]
          },
          "metadata": {},
          "output_type": "display_data"
        }
      ],
      "source": [
        "from sklearn.metrics import confusion_matrix\n",
        "\n",
        "# Get best model.\n",
        "model = gscv.best_estimator_\n",
        "\n",
        "# Train model.\n",
        "y_true = y_test['label']\n",
        "y_pred = model.predict(X_test.to_numpy())\n",
        "scores = logistic_metrics(y_true, y_pred)\n",
        "\n",
        "# Metrixxxxx!\n",
        "print('Metrics:')\n",
        "print_metric('accuracy', scores['acc'], dp=1, unit='%')\n",
        "print_metric('F1', scores['f1'], dp=1, unit='%')\n",
        "print()\n",
        "\n",
        "# Report confusion matrix.\n",
        "cnf_matrix = confusion_matrix(y_true, y_pred)\n",
        "if plotting:\n",
        "    plt.figure(figsize=(6, 6))\n",
        "    sns.heatmap(cnf_matrix, annot=True, fmt='d', cmap='Blues')\n",
        "    plt.title('Confusion Matrix')\n",
        "    plt.ylabel('Actual Label')\n",
        "    plt.xlabel('Predicted Label')\n",
        "    plt.show()"
      ]
    },
    {
      "cell_type": "markdown",
      "metadata": {
        "id": "79nAi6mu3ajf"
      },
      "source": [
        "# Part 6: Comparison of Classification Models"
      ]
    },
    {
      "cell_type": "markdown",
      "metadata": {
        "id": "gBUdpVZH3hHD"
      },
      "source": [
        "## Q18\n",
        "\n",
        "An advantage of SGD is that it uses the gradient. However, a disadvantage is that it is unable to differentiate the learning rate between different features, so all weights update with the same learning rate.\n",
        "\n",
        "FNNs, on the other hand, add hidden layers and therefore more parameters. This may make it fit better."
      ]
    }
  ],
  "metadata": {
    "colab": {
      "provenance": [],
      "toc_visible": true
    },
    "interpreter": {
      "hash": "931c56722b38fbd6591360a758567581219cff8ed5c77b3f3200c21ee3222739"
    },
    "kernelspec": {
      "display_name": "Python 3.8.13 ('dsci')",
      "language": "python",
      "name": "python3"
    },
    "language_info": {
      "codemirror_mode": {
        "name": "ipython",
        "version": 3
      },
      "file_extension": ".py",
      "mimetype": "text/x-python",
      "name": "python",
      "nbconvert_exporter": "python",
      "pygments_lexer": "ipython3",
      "version": "3.8.13"
    },
    "orig_nbformat": 4
  },
  "nbformat": 4,
  "nbformat_minor": 0
}
