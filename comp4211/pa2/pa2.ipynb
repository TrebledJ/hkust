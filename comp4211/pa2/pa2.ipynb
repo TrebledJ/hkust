{
  "cells": [
    {
      "cell_type": "markdown",
      "metadata": {
        "id": "BVNEyy5ULsoO"
      },
      "source": [
        "# COMP4211 PA2\n",
        "\n",
        "Name: *redacted*  \n",
        "Student ID: *redacted*\n"
      ]
    },
    {
      "cell_type": "markdown",
      "metadata": {
        "id": "HKPI3ohUL1QT"
      },
      "source": [
        "## Environment Setup\n",
        "\n",
        "Let's set up the environment by installing some libraries. To ensure reproducibility, we'll install the same versions as specified in the document."
      ]
    },
    {
      "cell_type": "code",
      "execution_count": null,
      "metadata": {
        "colab": {
          "base_uri": "https://localhost:8080/"
        },
        "id": "EoGUG00Bhx9q",
        "outputId": "23334ca3-3df2-4226-a222-6144c1986991"
      },
      "outputs": [],
      "source": [
        "colab = True # Whether or not we're running this from colab.\n",
        "!pip install tensorflow==2.8.2 tensorflow-gpu==2.8.3 tensorflow-addons ffmpeg"
      ]
    },
    {
      "cell_type": "code",
      "execution_count": 4,
      "metadata": {
        "colab": {
          "base_uri": "https://localhost:8080/"
        },
        "id": "J-KwiP5PiL1G",
        "outputId": "d775f2f8-035b-402d-e606-1bb7e8c2a395"
      },
      "outputs": [
        {
          "name": "stdout",
          "output_type": "stream",
          "text": [
            "Python 3.7.15\n",
            "keras==2.8.0\n",
            "keras-vis==0.4.1\n",
            "matplotlib==3.2.2\n",
            "matplotlib-venn==0.11.7\n",
            "numpy==1.21.6\n",
            "pandas==1.3.5\n",
            "pandas-datareader==0.9.0\n",
            "pandas-gbq==0.13.3\n",
            "pandas-profiling==1.4.1\n",
            "sklearn-pandas==1.8.0\n",
            "tensorflow==2.8.2+zzzcolab20220929150707\n",
            "tensorflow-addons==0.18.0\n",
            "tensorflow-datasets==4.6.0\n",
            "tensorflow-estimator==2.8.0\n",
            "tensorflow-gcs-config==2.9.1\n",
            "tensorflow-gpu==2.8.3\n",
            "tensorflow-hub==0.12.0\n",
            "tensorflow-io-gcs-filesystem==0.27.0\n",
            "tensorflow-metadata==1.10.0\n",
            "tensorflow-probability==0.16.0\n"
          ]
        }
      ],
      "source": [
        "# Sanity check.\n",
        "!python --version\n",
        "!pip freeze | grep -E 'numpy|matplotlib|pandas|tensorflow|keras'"
      ]
    },
    {
      "cell_type": "code",
      "execution_count": 5,
      "metadata": {
        "id": "mniwpVqDjOAS"
      },
      "outputs": [],
      "source": [
        "# Imports.\n",
        "import gzip\n",
        "import matplotlib.pyplot as plt\n",
        "import numpy as np\n",
        "import tensorflow as tf\n",
        "import random\n",
        "from tensorflow import keras\n",
        "from tensorflow.keras import datasets, layers, models\n",
        "import tensorflow_addons as tfa\n",
        "\n",
        "from tensorflow.python.ops.numpy_ops import np_config\n",
        "np_config.enable_numpy_behavior()"
      ]
    },
    {
      "cell_type": "markdown",
      "metadata": {
        "id": "3F5_Jr9BMI-S"
      },
      "source": [
        "## Helper functions.\n",
        "\n",
        "We'll define a bunch of helper functions."
      ]
    },
    {
      "cell_type": "code",
      "execution_count": 6,
      "metadata": {
        "id": "Tmg6S7z-jbzG"
      },
      "outputs": [],
      "source": [
        "def load_training_images(filename):\n",
        "    # https://stackoverflow.com/a/62781370/10239789\n",
        "    with gzip.open(filename, 'r') as f:\n",
        "        # first 4 bytes is a magic number\n",
        "        magic_number = int.from_bytes(f.read(4), 'big')\n",
        "        # second 4 bytes is the number of images\n",
        "        image_count = int.from_bytes(f.read(4), 'big')\n",
        "        # third 4 bytes is the row count\n",
        "        row_count = int.from_bytes(f.read(4), 'big')\n",
        "        # fourth 4 bytes is the column count\n",
        "        column_count = int.from_bytes(f.read(4), 'big')\n",
        "        # rest is the image pixel data, each pixel is stored as an unsigned byte\n",
        "        # pixel values are 0 to 255\n",
        "        image_data = f.read()\n",
        "        images = np.frombuffer(image_data, dtype=np.uint8).reshape((image_count, row_count, column_count))\n",
        "        return images\n",
        "\n",
        "def plot(img):\n",
        "    plt.imshow(img, cmap=plt.cm.binary)"
      ]
    },
    {
      "cell_type": "code",
      "execution_count": null,
      "metadata": {
        "colab": {
          "base_uri": "https://localhost:8080/"
        },
        "id": "DgbVkmID-zcf",
        "outputId": "32fc8577-8090-4959-d207-e867053de67a"
      },
      "outputs": [],
      "source": [
        "if colab:\n",
        "    from google.colab import drive\n",
        "    drive.mount('/content/drive/')"
      ]
    },
    {
      "cell_type": "code",
      "execution_count": 8,
      "metadata": {
        "colab": {
          "base_uri": "https://localhost:8080/"
        },
        "id": "cbpcx819LcsN",
        "outputId": "b15f42f9-b3b6-4da0-f9b0-3890e1a965e9"
      },
      "outputs": [
        {
          "name": "stdout",
          "output_type": "stream",
          "text": [
            "train: (60000, 28, 28)\n",
            "test: (20, 10000, 64, 64)\n"
          ]
        }
      ],
      "source": [
        "# Load two sets of data.\n",
        "# Training images: 60,000 hand-written digits (represented as 28x28) from the MNIST dataset.\n",
        "# Pre-generated testing sequences: 10,000 20-frame sequences, with each frame being a 64x64 image.\n",
        "if colab:\n",
        "    train_im = load_training_images('drive/MyDrive/HKUST/COMP4211/train-images-idx3-ubyte.gz')\n",
        "    test_seq = np.load('drive/MyDrive/HKUST/COMP4211/MNIST_test_seq.npy')\n",
        "else:\n",
        "    train_im = load_training_images('pa2_data/train-images-idx3-ubyte.gz')\n",
        "    test_seq = np.load('pa2_data/MNIST_test_seq.npy')\n",
        "\n",
        "# train_im = train_im / 255\n",
        "# test_seq = test_seq / 255\n",
        "\n",
        "print('train:', train_im.shape)\n",
        "print('test:', test_seq.shape)"
      ]
    },
    {
      "cell_type": "code",
      "execution_count": 9,
      "metadata": {
        "id": "B8R9GHPOhu6v"
      },
      "outputs": [],
      "source": [
        "if colab:\n",
        "    pretrain_path = 'drive/MyDrive/HKUST/COMP4211/pretrained_main/pretrained_main'\n",
        "else:\n",
        "    pretrain_path = 'pa2_data/pretrained_main/pretrained_main'"
      ]
    },
    {
      "cell_type": "code",
      "execution_count": 10,
      "metadata": {
        "id": "h0-kcQjNXk6I"
      },
      "outputs": [],
      "source": [
        "# Constants!\n",
        "Cs = 64\n",
        "Ct = 256\n",
        "Ns = 4\n",
        "Nt = 8\n",
        "W = H = 64\n",
        "C = 1\n",
        "N = 16\n",
        "T = 10"
      ]
    },
    {
      "cell_type": "markdown",
      "metadata": {
        "id": "zjmCk3n9q1mw"
      },
      "source": [
        "## (4.1) Dataset and Data Generator"
      ]
    },
    {
      "cell_type": "markdown",
      "metadata": {
        "id": "K5yz0btr_YGf"
      },
      "source": [
        "### [C1] [C2] [C3]\n",
        "We create a new dataset class for handling the moving digits. The data imported will be split into multiple mini-batches.\n",
        "\n",
        "There are five primary attributes to note:\n",
        "* `batchsize` is the size of each mini-batch.\n",
        "* `length` is the number of mini-batches.\n",
        "* `mnist_train_im` is the set of training images.\n",
        "* `mnist_test` and `mnist_valid` are testing sequences that both come from the video sequences loaded.\n"
      ]
    },
    {
      "cell_type": "code",
      "execution_count": 11,
      "metadata": {
        "id": "ezHX_nlC7QFO"
      },
      "outputs": [],
      "source": [
        "class MMNISTDataset(tf.keras.utils.Sequence):\n",
        "    def __init__(self, mode, train=train_im, test=test_seq, *, length=None, batchsize=16, generate_tf_tensor=True):\n",
        "      super().__init__()\n",
        "      self.batchsize = batchsize\n",
        "      # self.length = length\n",
        "\n",
        "      assert mode in {'train', 'valid', 'test'}\n",
        "      self.mode = mode\n",
        "\n",
        "      self.mnist_train_im = train\n",
        "      # self.mnist_test = test\n",
        "      # self.mnist_valid = test\n",
        "      self.mnist_test_og = test\n",
        "      self.mnist_test, self.mnist_valid = np.split(test, [int(0.92 * test.shape[1])], axis=1)\n",
        "      # print(self.mnist_test.shape, self.mnist_valid.shape)\n",
        "      self.generate_tf_tensor = generate_tf_tensor\n",
        "\n",
        "      if length:\n",
        "        self.length = length\n",
        "      else:\n",
        "        # Auto-deduce length.\n",
        "        if mode == 'train':\n",
        "          self.length = len(self.mnist_train_im) // self.batchsize\n",
        "          self.length = max(self.length,\n",
        "                            self.mnist_test.shape[1] // self.batchsize,\n",
        "                            self.mnist_valid.shape[1] // self.batchsize,\n",
        "                            )\n",
        "        elif mode == 'test':\n",
        "          self.length = self.mnist_test.shape[1] // self.batchsize\n",
        "        elif mode == 'valid':\n",
        "          self.length = self.mnist_valid.shape[1] // self.batchsize\n",
        "      \n",
        "    def __len__(self):\n",
        "      return self.length\n",
        "\n",
        "    def __getitem__(self, idx):\n",
        "        if self.mode == 'train':\n",
        "          # Use training data and construct random sequences on the fly.\n",
        "          ims = self.mnist_train_im[self.batchsize*idx : self.batchsize*(idx + 1)]\n",
        "          \n",
        "          # Generate random sequences on-the-fly. See piazza 226.\n",
        "          seqs = np.array([MMNISTDataset.random_mmnist(ims) for _ in range(self.batchsize)])\n",
        "          if self.generate_tf_tensor:\n",
        "            seqs = tf.convert_to_tensor(seqs, dtype=tf.float32)\n",
        "        elif self.mode == 'valid':\n",
        "          seqs = np.array([self.mnist_valid[:, self.batchsize*idx + i] for i in range(self.batchsize)])\n",
        "          if self.generate_tf_tensor:\n",
        "            seqs = tf.convert_to_tensor(seqs, dtype=tf.float32)\n",
        "        elif self.mode == 'test':\n",
        "          seqs = np.array([self.mnist_test[:, self.batchsize*idx + i] for i in range(self.batchsize)])\n",
        "          if self.generate_tf_tensor:\n",
        "            seqs = tf.convert_to_tensor(seqs, dtype=tf.float32)\n",
        "\n",
        "        seqs = seqs / 255\n",
        "        seqs = seqs.reshape(list(seqs.shape) + [1]) # Add channel (greyscale => 1).\n",
        "        assert seqs.shape == (self.batchsize, 20, 64, 64, 1), f'shape: {seqs.shape}'\n",
        "\n",
        "        if self.generate_tf_tensor:\n",
        "          return tf.split(seqs, 2, axis=1)\n",
        "        else:\n",
        "          return np.split(seqs, 2, axis=1)\n",
        "\n",
        "    @staticmethod\n",
        "    def gen_random_sequence():\n",
        "        ''' randomly generate a sequence of a digit'''\n",
        "        size = 64 - 28\n",
        "        x, y, theta = random.random(), random.random(), random.random() * 2 * np.pi\n",
        "        velocity_y, velocity_x = np.sin(theta), np.cos(theta) \n",
        "        seq_x, seq_y = np.zeros(20), np.zeros(20)\n",
        "\n",
        "        for i in range(20):\n",
        "            y += 0.1*velocity_y\n",
        "            x += 0.1*velocity_x \n",
        "\n",
        "            if x <= 0:\n",
        "                x = 0\n",
        "                velocity_x = -velocity_x\n",
        "            if x >= 1.0:\n",
        "                x = 1.0\n",
        "                velocity_x = -velocity_x\n",
        "            if y <= 0:\n",
        "                y = 0\n",
        "                velocity_y = -velocity_y\n",
        "            if y >= 1.0:\n",
        "                y = 1.0\n",
        "                velocity_y = -velocity_y\n",
        "            seq_x[i], seq_y[i] = x, y\n",
        "\n",
        "        # Scale to the size.\n",
        "        seq_x = (size * seq_x).astype(np.int32)\n",
        "        seq_y = (size * seq_y).astype(np.int32)\n",
        "        return seq_y, seq_x\n",
        "\n",
        "    @staticmethod\n",
        "    def random_mmnist(mnist_train_im):\n",
        "        ''' generate frames of moving mnist. '''\n",
        "        data = np.zeros((20, 64, 64), dtype=np.float32) # 10 input + 10 groundtruth = 20\n",
        "        for n in range(2):\n",
        "            seq_y, seq_x = MMNISTDataset.gen_random_sequence()\n",
        "            idx = random.randint(0, mnist_train_im.shape[0] - 1)\n",
        "            mnist_image = mnist_train_im[idx]\n",
        "            for i in range(20):\n",
        "                # put the 2 moving digits into \"data\"\n",
        "                data[i, seq_y[i]:seq_y[i]+28, seq_x[i]:seq_x[i]+28] = np.maximum(data[i, seq_y[i]:seq_y[i]+28, seq_x[i]:seq_x[i]+28], mnist_image)\n",
        "        return data"
      ]
    },
    {
      "cell_type": "code",
      "execution_count": 12,
      "metadata": {
        "id": "fCOkAdBAkvIP"
      },
      "outputs": [],
      "source": [
        "# Test our dataset.\n",
        "mmnist = MMNISTDataset('train')\n",
        "seq_input, seq_ground_truth = mmnist[0]\n",
        "assert seq_input.shape == seq_ground_truth.shape == (16, 10, 64, 64, 1)"
      ]
    },
    {
      "cell_type": "markdown",
      "metadata": {
        "id": "zBwore-zLctL"
      },
      "source": [
        "## (4.2) Model Backbone\n",
        "\n",
        "In this section, we'll implement a custom architecture built solely on CNN and use it as the backbone network of the video prediction model."
      ]
    },
    {
      "cell_type": "code",
      "execution_count": 13,
      "metadata": {
        "id": "9xei-2cCLctY"
      },
      "outputs": [],
      "source": [
        "RESHAPE_WITH_FIXED_BATCH_SIZE = False\n",
        "\n",
        "def input_to_encoder_reshape(x, *, fixed=RESHAPE_WITH_FIXED_BATCH_SIZE):\n",
        "    if fixed:\n",
        "        return tf.reshape(x, [N * T, H, W, C])\n",
        "    else:\n",
        "        return tf.reshape(x, [-1, H, W, C])\n",
        "\n",
        "def encoder_to_translator_reshape(x, *, fixed=RESHAPE_WITH_FIXED_BATCH_SIZE):\n",
        "    if fixed:\n",
        "        x = tf.reshape(x, [N, T, H // 4, W // 4, Cs])\n",
        "        x = tf.transpose(x, [0, 2, 3, 1, 4])\n",
        "        x = tf.reshape(x, [N, H // 4, W // 4, T * Cs])\n",
        "    else:\n",
        "        x = tf.reshape(x, [-1, T, H // 4, W // 4, Cs])\n",
        "        x = tf.transpose(x, [0, 2, 3, 1, 4])\n",
        "        x = tf.reshape(x, [-1, H // 4, W // 4, T * Cs])\n",
        "    return x\n",
        "\n",
        "def translator_to_decoder_reshape(x, *, fixed=RESHAPE_WITH_FIXED_BATCH_SIZE):\n",
        "    if fixed:\n",
        "        x = tf.reshape(x, [N, H // 4, W // 4, T, Cs])\n",
        "        x = tf.transpose(x, [0, 3, 1, 2, 4])\n",
        "        x = tf.reshape(x, [N * T, H // 4, W // 4, Cs])\n",
        "    else:\n",
        "        x = tf.reshape(x, [-1, H // 4, W // 4, T, Cs])\n",
        "        x = tf.transpose(x, [0, 3, 1, 2, 4])\n",
        "        x = tf.reshape(x, [-1, H // 4, W // 4, Cs])\n",
        "    return x"
      ]
    },
    {
      "cell_type": "markdown",
      "metadata": {
        "id": "fnBqff3wX_ys"
      },
      "source": [
        "### [C4] [C5] Encoder and EncConvB\n",
        "\n",
        "We define `Encoder` and `EncConvB` classes. The encoder is responsible for generating feature maps (aka channels). EncConvB uses convolution to select features."
      ]
    },
    {
      "cell_type": "code",
      "execution_count": 14,
      "metadata": {
        "id": "kyxZVuX5X-G8"
      },
      "outputs": [],
      "source": [
        "class Encoder(layers.Layer):\n",
        "    def __init__(self):\n",
        "        super(Encoder, self).__init__()\n",
        "        self.enc = [ # List of Conv-B classes.\n",
        "            EncConvB(Cs, stride=1),\n",
        "            EncConvB(Cs, stride=2),\n",
        "            EncConvB(Cs, stride=1),\n",
        "            EncConvB(Cs, stride=2),\n",
        "        ]\n",
        "\n",
        "    def call(self, x):\n",
        "        enc1 = self.enc[0]\n",
        "        out0 = x = enc1(x)\n",
        "        for enc in self.enc[1:]:\n",
        "            x = enc(x)\n",
        "        return [out0, x]\n",
        "\n",
        "class EncConvB(layers.Layer):\n",
        "    def __init__(self, C_out, stride):\n",
        "        super(EncConvB, self).__init__()\n",
        "        self.conv = layers.Conv2D(C_out, kernel_size=3, strides=(stride, stride), padding='same') # Conv2d layer.\n",
        "        self.norm = tfa.layers.GroupNormalization(groups=2, epsilon=1e-5) # Group normalisation layer.\n",
        "        self.act = layers.LeakyReLU(0.2) # Activation layer.\n",
        "\n",
        "    def call(self, x):\n",
        "        return self.act(self.norm(self.conv(x)))"
      ]
    },
    {
      "cell_type": "markdown",
      "metadata": {
        "id": "H3sKcwNsmvFI"
      },
      "source": [
        "### [Q1]\n",
        "\n",
        "> What are the stride sizes $s_i$ of EncConvB-$i$ for $i =$ 1, 2, 3, 4? How do you compute these values?\n",
        "\n",
        "$s_1 = s_3 = 1$, $s_2 = s_4 = 2$.\n",
        "\n",
        "We can deduce these from the input and output dimensions. For example, across EncConvB-2, the dimension changes from $(NT, H, W, C_S)$ to $(NT, H/2, W/2, C_S)$, decreasing by a factor of 2. This decrease is achieved through striding (i.e. skipping across elements).\n"
      ]
    },
    {
      "cell_type": "markdown",
      "metadata": {
        "id": "ljX7MkIjoqLz"
      },
      "source": [
        "### [Q2]\n",
        "\n",
        "The number of trainable parameters in the `Encoder` is 111,936 as can be seen below:"
      ]
    },
    {
      "cell_type": "code",
      "execution_count": 119,
      "metadata": {
        "colab": {
          "base_uri": "https://localhost:8080/"
        },
        "id": "hbMxx0_Poo0z",
        "outputId": "ac278872-95bb-4794-ba40-6aeb53512e2e"
      },
      "outputs": [
        {
          "name": "stdout",
          "output_type": "stream",
          "text": [
            "Model: \"model_11\"\n",
            "_________________________________________________________________\n",
            " Layer (type)                Output Shape              Param #   \n",
            "=================================================================\n",
            " input_2 (InputLayer)        [(None, 16, 10, 64, 64,   0         \n",
            "                             1)]                                 \n",
            "                                                                 \n",
            " encoder_14 (Encoder)        [(None, 16, 10, 64, 64,   111936    \n",
            "                             64),                                \n",
            "                              (None, 16, 10, 16, 16,             \n",
            "                             64)]                                \n",
            "                                                                 \n",
            "=================================================================\n",
            "Total params: 111,936\n",
            "Trainable params: 111,936\n",
            "Non-trainable params: 0\n",
            "_________________________________________________________________\n"
          ]
        }
      ],
      "source": [
        "inputs = keras.Input((N, T, H, W, C))\n",
        "residual, output = Encoder()(inputs)\n",
        "model = keras.Model(inputs, output)\n",
        "model.summary()"
      ]
    },
    {
      "cell_type": "markdown",
      "metadata": {
        "id": "fmbbZg4SYXTL"
      },
      "source": [
        "### [C6] [C7] Translator and Inception"
      ]
    },
    {
      "cell_type": "code",
      "execution_count": 15,
      "metadata": {
        "id": "Tl3joHzzkvyI"
      },
      "outputs": [],
      "source": [
        "class Translator(layers.Layer):\n",
        "    def __init__(self):\n",
        "        super(Translator, self).__init__()\n",
        "        \n",
        "        self.enc = [] # List of Inception (IncEnc) classes.\n",
        "        self.dec = [] # List of Inception (IncDec) classes.\n",
        "\n",
        "        role = 'encoder'\n",
        "        for i in range(8):\n",
        "            (C_in, C_out) = self.get_channels(role, i+1)\n",
        "            self.enc.append(Inception(role, C_in, C_out))\n",
        "        \n",
        "        role = 'decoder'\n",
        "        for i in range(8):\n",
        "            (C_in, C_out) = self.get_channels(role, i+1)\n",
        "            self.dec.append(Inception(role, C_in, C_out))\n",
        "\n",
        "    @staticmethod\n",
        "    def get_channels(role, i):\n",
        "        if role == 'encoder':\n",
        "            if i == 1:\n",
        "                return (T * Cs, Ct)\n",
        "            else:\n",
        "                return (Ct, Ct)\n",
        "        else:\n",
        "            if i == 1:\n",
        "                return (Ct, Ct)\n",
        "            elif i == 8:\n",
        "                return (2 * Ct, T * Cs)\n",
        "            else:\n",
        "                return (2 * Ct, Ct)\n",
        "    \n",
        "    def call(self, x):\n",
        "        out = []\n",
        "        for enc in self.enc[:-1]:\n",
        "            x = enc(x)\n",
        "            out.append(x)\n",
        "        \n",
        "        x = self.enc[-1](x)\n",
        "        x = self.dec[0](x)\n",
        "        for dec, in_ in zip(self.dec[1:], out[::-1]):\n",
        "            x = layers.Concatenate()([x, in_])\n",
        "            x = dec(x)\n",
        "\n",
        "        return x\n",
        "\n",
        "class Inception(layers.Layer):\n",
        "    def __init__(self, role, C_in, C_out):\n",
        "        super(Inception, self).__init__()\n",
        "        assert role in {'encoder', 'decoder'}\n",
        "        self.conv1 = layers.Conv2D(Ct // 2, kernel_size=1, strides=(1, 1))\n",
        "        k = [3, 5, 7, 11]\n",
        "        self.layers = [GroupConv(k[i], C_out) for i in range(4)]\n",
        "\n",
        "    def call(self, x):\n",
        "        x = self.conv1(x)\n",
        "        xs = [layer(x) for layer in self.layers]\n",
        "        return layers.Add()(xs)"
      ]
    },
    {
      "cell_type": "markdown",
      "metadata": {
        "id": "VbSxQll5Y1qL"
      },
      "source": [
        "### [Q3]\n",
        "> What are the integer values of the input channel size of `Inception.Conv` every time it is called?\n",
        "\n",
        "For the first IncepEnc block, there are $T \\times C_S = 640$ input channels.  \n",
        "For the rest of the IncepEnc blocks, there are $C_T = 256$ input channels.  \n",
        "The first IncepDec block also has $C_T = 256$ input channels.  \n",
        "The rest of the IncepDec blocks have $2C_T = 512$ input channels, due to concatenating the previous output and residual output."
      ]
    },
    {
      "cell_type": "markdown",
      "metadata": {
        "id": "mHk80Zy3Z_90"
      },
      "source": [
        "### [Q4]\n",
        "> For Inception.Conv, if we use stride=(1, 1) and do not use padding, what should be its kernel size?\n",
        "\n",
        "The kernel size would be 1, since we don't aim to change the width and height of the image."
      ]
    },
    {
      "cell_type": "markdown",
      "metadata": {
        "id": "yMkzjYBsk5fC"
      },
      "source": [
        "### [C8] GroupConv"
      ]
    },
    {
      "cell_type": "code",
      "execution_count": 16,
      "metadata": {
        "id": "nGA7i4vtk41H"
      },
      "outputs": [],
      "source": [
        "class GroupConv(layers.Layer):\n",
        "    def __init__(self, k, C_out):\n",
        "        super(GroupConv, self).__init__()\n",
        "        self.conv = layers.Conv2D(C_out, kernel_size=k, strides=(1, 1), padding='same', groups=8) # Conv2d layer.\n",
        "        self.norm = tfa.layers.GroupNormalization(groups=8, epsilon=1e-5) # Group normalisation layer.\n",
        "        self.act = layers.LeakyReLU(0.2) # Activation layer.\n",
        "\n",
        "    def call(self, x):\n",
        "        return self.act(self.norm(self.conv(x)))"
      ]
    },
    {
      "cell_type": "markdown",
      "metadata": {
        "id": "GFZ-vMp-lBCc"
      },
      "source": [
        "### [Q5]\n",
        "\n",
        "> How many times in total is `GroupConv.GroupNorm` called in one forward pass through the whole network? (Please answer in integer value.) How did you get this number?\n",
        "\n",
        "There are 16 `Inception` blocks, each with 4 `GroupConv` blocks, each having 1 `GroupNorm` layer. In total, there are 64 calls to `GroupNorm`.\n"
      ]
    },
    {
      "cell_type": "markdown",
      "metadata": {
        "id": "n6u2eTghmsJB"
      },
      "source": [
        "### [Q6]\n",
        "\n",
        "> For `GroupConv.conv`, what are its parameters $C_{out}$ (output channels) and $k$ (kernel size) each time it is called? (Please answer in integer values.)\n",
        "\n",
        "The $C_{out}$ of `GroupConv.conv` and `Inception` are the same. Within each `Inception` block, the kernel sizes $k$ expected are 3, 5, 7, and 11.\n",
        "\n",
        "Similar to `GroupConv.GroupNorm`, there are 64 `GroupConv.conv` layers. The respective $C_{out}$ and $k$ are given by the Cartesian product of:\n",
        "\n",
        "```python\n",
        "C_outs = [256]*15 + [640]\n",
        "ks = [3, 5, 7, 11]\n",
        "```\n",
        "\n",
        "(The $C_{out}$ values are taken from the piecewise function."
      ]
    },
    {
      "cell_type": "markdown",
      "metadata": {
        "id": "Gekvk9ROYuA3"
      },
      "source": [
        "### [C9] [C10] Decoder"
      ]
    },
    {
      "cell_type": "code",
      "execution_count": 17,
      "metadata": {
        "id": "JTTOAuRFYtpo"
      },
      "outputs": [],
      "source": [
        "class Decoder(layers.Layer):\n",
        "    \"\"\"\n",
        "    The Decoder class. Expand height and width, and also reduce feature map.\n",
        "    \"\"\"\n",
        "    def __init__(self):\n",
        "        super(Decoder, self).__init__()\n",
        "        C_out = [Cs, Cs, Cs, Cs]\n",
        "        strides = [2, 1, 2, 1]\n",
        "        self.dec = [DecConvB(i+1, C_out[i], stride=strides[i]) for i in range(4)] # List of DevConvB layers.\n",
        "        self.readout = layers.Conv2D(C, kernel_size=1) # Conv2d layer.\n",
        "\n",
        "    def call(self, x0, x1):\n",
        "        for dec in self.dec[:-1]:\n",
        "            x1 = dec(x1)\n",
        "\n",
        "        x = layers.Concatenate()([x1, x0])\n",
        "        x = self.dec[-1](x)\n",
        "        return self.readout(x)\n",
        "\n",
        "class DecConvB(layers.Layer):\n",
        "    def __init__(self, i, C_out, stride):\n",
        "        super(DecConvB, self).__init__()\n",
        "        if i % 2:\n",
        "            # Use Conv2DTranspose for deconvolution.\n",
        "            # TODO: are we supposed to use Conv2DTranspose?\n",
        "            self.conv = layers.Conv2DTranspose(C_out, kernel_size=3, strides=(stride, stride), output_padding=(1, 1), padding='same') # Conv2d/Conv2dTranspose layer.\n",
        "        else:\n",
        "            self.conv = layers.Conv2D(C_out, kernel_size=3, strides=(stride, stride), padding='same') # Conv2d/Conv2dTranspose layer.\n",
        "            \n",
        "        self.norm = tfa.layers.GroupNormalization(groups=2, epsilon=1e-5) # Group normalisation layer.\n",
        "        self.act = layers.LeakyReLU(0.2) # Activation layer.\n",
        "    \n",
        "    def call(self, x):\n",
        "        return self.act(self.norm(self.conv(x)))"
      ]
    },
    {
      "cell_type": "markdown",
      "metadata": {
        "id": "em80o-u0wB-B"
      },
      "source": [
        "### [Q7] \n",
        "> What are the values of the number of output channels $C^{Dec−i}_{out}$ for $i =$ 1, 2, 3, 4 in the decoder module?\n",
        "\n"
      ]
    },
    {
      "cell_type": "markdown",
      "metadata": {
        "id": "KHxMHjjNheLT"
      },
      "source": [
        "### Model"
      ]
    },
    {
      "cell_type": "code",
      "execution_count": 18,
      "metadata": {
        "id": "KvHiJJ2YhkKB"
      },
      "outputs": [],
      "source": [
        "class Model(layers.Layer):\n",
        "# class Model(keras.Model):\n",
        "    \"\"\"\n",
        "    The Model class. Handles the three main layers: Encoder, Translator, and Decoder;\n",
        "    and the interrelationship between them. Reshapes tensors as necessary.\n",
        "    \"\"\"\n",
        "    def __init__(self, *, fixed_batch_size=False, **kwargs):\n",
        "        super(Model, self).__init__(**kwargs)\n",
        "        self.enc = Encoder() # Encoder class.\n",
        "        self.hid = Translator() # Translator class.\n",
        "        self.dec = Decoder() # Decoder class.\n",
        "        self.fixed_batch_size = fixed_batch_size\n",
        "    \n",
        "    def call(self, x):\n",
        "        # Encoder.\n",
        "        x = input_to_encoder_reshape(x, fixed=self.fixed_batch_size)\n",
        "        x0, x1 = self.enc(x)\n",
        "\n",
        "        # Translator.\n",
        "        x2 = encoder_to_translator_reshape(x1, fixed=self.fixed_batch_size)\n",
        "        x3 = self.hid(x2)\n",
        "\n",
        "        # Decoder.\n",
        "        x4 = translator_to_decoder_reshape(x3, fixed=self.fixed_batch_size)\n",
        "        res = self.dec(x0, x4)\n",
        "        if self.fixed_batch_size:\n",
        "            res = tf.reshape(res, (N, T, H, W, 1))\n",
        "        else:\n",
        "            res = tf.reshape(res, (-1, T, H, W, 1))\n",
        "        return res\n",
        "\n",
        "    @staticmethod\n",
        "    def plot(fixed=False):\n",
        "        input = keras.Input(shape=(T, H, W, C))\n",
        "        model = keras.Model(inputs=input, outputs=Model(fixed_batch_size=fixed).call(input))\n",
        "        return keras.utils.plot_model(model, show_shapes=True)"
      ]
    },
    {
      "cell_type": "code",
      "execution_count": 19,
      "metadata": {
        "colab": {
          "base_uri": "https://localhost:8080/"
        },
        "id": "n8Htlw8XNr-h",
        "outputId": "2d7b6cb8-e41d-45b4-b1af-c9f802334cb1"
      },
      "outputs": [
        {
          "name": "stdout",
          "output_type": "stream",
          "text": [
            "N=16 T=10 H=64 W=64 C=1 Cs=64 Ct=256\n",
            "input shape: (16, 10, 64, 64, 1)\n",
            "Model: \"sequential\"\n",
            "_________________________________________________________________\n",
            " Layer (type)                Output Shape              Param #   \n",
            "=================================================================\n",
            " model (Model)               (16, 10, 64, 64, 1)       15778433  \n",
            "                                                                 \n",
            "=================================================================\n",
            "Total params: 15,778,433\n",
            "Trainable params: 15,778,433\n",
            "Non-trainable params: 0\n",
            "_________________________________________________________________\n"
          ]
        }
      ],
      "source": [
        "# Test the model.\n",
        "input_shape = (N, T, H, W, C)\n",
        "print(f'N={N} T={T} H={H} W={W} C={C} Cs={Cs} Ct={Ct}')\n",
        "print('input shape:', input_shape)\n",
        "\n",
        "# model = Model()\n",
        "model = models.Sequential(Model())\n",
        "model.build(input_shape)\n",
        "model.summary()"
      ]
    },
    {
      "cell_type": "code",
      "execution_count": 20,
      "metadata": {
        "id": "hC_F4YuDLctg"
      },
      "outputs": [],
      "source": [
        "# Model.plot()"
      ]
    },
    {
      "cell_type": "markdown",
      "metadata": {
        "id": "LP-75odlixc2"
      },
      "source": [
        "## (4.3) Load the Pretrained Weights"
      ]
    },
    {
      "cell_type": "markdown",
      "metadata": {
        "id": "NQyEpm-ILctk"
      },
      "source": [
        "### [C11]"
      ]
    },
    {
      "cell_type": "code",
      "execution_count": 104,
      "metadata": {
        "id": "2vYsGtkELctn"
      },
      "outputs": [],
      "source": [
        "from keras.metrics import *\n",
        "\n",
        "optimizer = tf.keras.optimizers.Adam(learning_rate=1e-3)\n",
        "# model = Model()\n",
        "model = models.Sequential(Model())\n",
        "model.compile(optimizer, loss=tf.keras.losses.MSE, metrics=[MAE, MSE])\n",
        "\n",
        "test = MMNISTDataset('test')"
      ]
    },
    {
      "cell_type": "code",
      "execution_count": null,
      "metadata": {
        "colab": {
          "base_uri": "https://localhost:8080/"
        },
        "id": "uuuiCehPdz4a",
        "outputId": "b1559139-82f5-4cd9-da02-96298a6056af"
      },
      "outputs": [
        {
          "name": "stdout",
          "output_type": "stream",
          "text": [
            "575/575 [==============================] - 137s 222ms/step - loss: 1.1300 - mean_absolute_error: 0.6164 - mean_squared_error: 1.1300\n"
          ]
        },
        {
          "data": {
            "text/plain": [
              "{'loss': 1.1299844980239868,\n",
              " 'mean_absolute_error': 0.6163573861122131,\n",
              " 'mean_squared_error': 1.129984736442566}"
            ]
          },
          "execution_count": 20,
          "metadata": {},
          "output_type": "execute_result"
        }
      ],
      "source": [
        "# Pre-loading, pre-training evaluation.\n",
        "model.evaluate(test, return_dict=True)"
      ]
    },
    {
      "cell_type": "code",
      "execution_count": 106,
      "metadata": {
        "colab": {
          "base_uri": "https://localhost:8080/"
        },
        "id": "psxYBCWFi6Ff",
        "outputId": "2ba240e8-16a9-4188-f930-6990c9513257"
      },
      "outputs": [
        {
          "name": "stdout",
          "output_type": "stream",
          "text": [
            "575/575 [==============================] - 136s 236ms/step - loss: 0.0182 - mean_absolute_error: 0.0478 - mean_squared_error: 0.0182\n"
          ]
        },
        {
          "data": {
            "text/plain": [
              "{'loss': 0.018178675323724747,\n",
              " 'mean_absolute_error': 0.04781317338347435,\n",
              " 'mean_squared_error': 0.018178656697273254}"
            ]
          },
          "execution_count": 106,
          "metadata": {},
          "output_type": "execute_result"
        }
      ],
      "source": [
        "# Post-loading, pre-training evaluation.\n",
        "model.load_weights(pretrain_path)\n",
        "model.evaluate(test, return_dict=True)"
      ]
    },
    {
      "cell_type": "markdown",
      "metadata": {
        "id": "mmbs18lqh5rr"
      },
      "source": [
        "As can be seen above, the loss *before* loading weights is **1.1300**, whereas the loss *after* loading weights has improved to **0.0182**."
      ]
    },
    {
      "cell_type": "markdown",
      "metadata": {
        "id": "Tu16h0M2i9KE"
      },
      "source": [
        "## (4.4) Evaluation Metrics\n",
        "\n",
        "There are four metrics we're interested in Mean Squared Error (MSE), Mean Absolute Error (MAE), Structural Similarity Index Measure (SSIM), and Peak-to-Signal Noise Ratio (PSNR).\n",
        "\n",
        "Let's first define functions for each of these:"
      ]
    },
    {
      "cell_type": "code",
      "execution_count": 107,
      "metadata": {
        "id": "Tf8SgCJOYfew"
      },
      "outputs": [],
      "source": [
        "def mean_squared_error(y_pred, y_true):\n",
        "  return np.mean((y_true - y_pred)**2, axis=0) # `axis=0` to compute error PER BATCH.\n",
        "\n",
        "def mean_absolute_error(y_pred, y_true):\n",
        "  return np.mean(np.abs(y_true - y_pred), axis=0) # `axis=0` to compute error PER BATCH.\n",
        "\n",
        "from skimage.metrics import structural_similarity\n",
        "\n",
        "def ssim(Y_pred, Y_true, **kwargs):\n",
        "  # print('ssim:', Y_pred.shape, Y_true.shape)\n",
        "  return np.mean([structural_similarity(im1, im2, **kwargs) for im1, im2 in zip(Y_pred, Y_true)], axis=0)\n",
        "\n",
        "def psnr(Y_pred, Y_true):\n",
        "  # print('psnr:', Y_pred.shape, Y_true.shape)\n",
        "  def mse_(y_pred, y_true):\n",
        "    return mean_squared_error(255 * y_pred, 255 * y_true)\n",
        "  def psnr_(y_pred, y_true):\n",
        "    # 20*log(255, 10) == 48.1308...\n",
        "    # 10/log(10) == 4.342944\n",
        "    return 48.13080360867909 - 4.3429448190325175 * np.log(mse_(y_pred, y_true))\n",
        "    \n",
        "  return np.mean([psnr_(im1, im2) for im1, im2 in zip(Y_pred, Y_true)], axis=0)"
      ]
    },
    {
      "cell_type": "markdown",
      "metadata": {
        "id": "QTSsRywVjPEr"
      },
      "source": [
        "Let's also define a helper function to help evaluate metrics against a model and test dataset."
      ]
    },
    {
      "cell_type": "code",
      "execution_count": 108,
      "metadata": {
        "id": "Vdg9sqcWjODx"
      },
      "outputs": [],
      "source": [
        "from collections import defaultdict\n",
        "\n",
        "def evaluate_metrics(model, test, metrics, n=None):\n",
        "  data = defaultdict(list)\n",
        "  if n is None:\n",
        "    n = len(test)\n",
        "  for i in range(n):\n",
        "    # Iterate through each batch and predict.\n",
        "    X_test, Y_true = test[i]\n",
        "    Y_pred = model.predict(X_test)\n",
        "    shape = (N*T, H*W)\n",
        "    Y_pred, Y_true = tf.reshape(Y_pred, shape), tf.reshape(Y_true, shape)\n",
        "    Y_pred = np.clip(Y_pred, 0, 1)\n",
        "    for m in metrics:\n",
        "      data[m.__name__].append(np.sum(m(Y_pred, Y_true)))\n",
        "\n",
        "  return {mname: np.mean(val) for mname, val in data.items()}"
      ]
    },
    {
      "cell_type": "code",
      "execution_count": 110,
      "metadata": {
        "colab": {
          "base_uri": "https://localhost:8080/"
        },
        "id": "oIjtbHr8c26s",
        "outputId": "a7bf32bb-9bbd-4788-83c0-94e72a72de00"
      },
      "outputs": [
        {
          "data": {
            "text/plain": [
              "{'mean_squared_error': 75.03405,\n",
              " 'mean_absolute_error': 196.9933,\n",
              " 'ssim': 0.7248585266827021,\n",
              " 'psnr': 17.786265145687562}"
            ]
          },
          "execution_count": 110,
          "metadata": {},
          "output_type": "execute_result"
        }
      ],
      "source": [
        "# Custom metrics before training...\n",
        "model.load_weights(pretrain_path)\n",
        "evaluate_metrics(model, test, [mean_squared_error, mean_absolute_error, ssim, psnr])"
      ]
    },
    {
      "cell_type": "markdown",
      "metadata": {
        "id": "hA7wc57wGg4V"
      },
      "source": [
        "## (4.5) Rundown\n",
        "\n",
        "Finally, let's run through the whole process of training (fitting), predicting, and evaluating metrics.\n",
        "\n",
        "Let's first initialise our model and datasets."
      ]
    },
    {
      "cell_type": "code",
      "execution_count": 114,
      "metadata": {
        "id": "PLjrw1wgj_PV"
      },
      "outputs": [],
      "source": [
        "train = MMNISTDataset('train')\n",
        "test = MMNISTDataset('test')\n",
        "valid = MMNISTDataset('valid')"
      ]
    },
    {
      "cell_type": "markdown",
      "metadata": {
        "id": "TY5vmh9AkOjr"
      },
      "source": [
        "Let's also backup our data by defining a checkpoint callback. This way, TensorFlow will save our weights after every epoch."
      ]
    },
    {
      "cell_type": "code",
      "execution_count": 112,
      "metadata": {
        "id": "6_YbyPkVkWCU"
      },
      "outputs": [],
      "source": [
        "if colab:\n",
        "    checkpoint_path = 'drive/MyDrive/HKUST/COMP4211/checkpoint_main/checkpoint_main'\n",
        "else:\n",
        "    checkpoint_path = 'pa2_data/checkpoint_main/checkpoint_main'\n",
        "\n",
        "cp_callback = tf.keras.callbacks.ModelCheckpoint(filepath=checkpoint_path,\n",
        "                                                 save_weights_only=True,\n",
        "                                                 verbose=1)"
      ]
    },
    {
      "cell_type": "markdown",
      "metadata": {
        "id": "F7dueVcpeq_-"
      },
      "source": [
        "### [C12]: Fitting Time!"
      ]
    },
    {
      "cell_type": "code",
      "execution_count": 113,
      "metadata": {
        "colab": {
          "base_uri": "https://localhost:8080/"
        },
        "id": "9_seu3l4Lctn",
        "outputId": "82f826ef-bad4-49bb-ecca-380e38155c61"
      },
      "outputs": [
        {
          "name": "stdout",
          "output_type": "stream",
          "text": [
            "Epoch 1/10\n",
            "100/100 [==============================] - ETA: 0s - loss: 0.0954 - mean_absolute_error: 0.1311 - mean_squared_error: 0.0954\n",
            "Epoch 1: saving model to drive/MyDrive/HKUST/COMP4211/checkpoint_main/checkpoint_main\n",
            "100/100 [==============================] - 114s 853ms/step - loss: 0.0954 - mean_absolute_error: 0.1311 - mean_squared_error: 0.0954 - val_loss: 0.0374 - val_mean_absolute_error: 0.1037 - val_mean_squared_error: 0.0374\n",
            "Epoch 2/10\n",
            "100/100 [==============================] - ETA: 0s - loss: 0.0348 - mean_absolute_error: 0.0920 - mean_squared_error: 0.0348\n",
            "Epoch 2: saving model to drive/MyDrive/HKUST/COMP4211/checkpoint_main/checkpoint_main\n",
            "100/100 [==============================] - 81s 810ms/step - loss: 0.0348 - mean_absolute_error: 0.0920 - mean_squared_error: 0.0348 - val_loss: 0.0341 - val_mean_absolute_error: 0.0895 - val_mean_squared_error: 0.0341\n",
            "Epoch 3/10\n",
            "100/100 [==============================] - ETA: 0s - loss: 0.0329 - mean_absolute_error: 0.0833 - mean_squared_error: 0.0329\n",
            "Epoch 3: saving model to drive/MyDrive/HKUST/COMP4211/checkpoint_main/checkpoint_main\n",
            "100/100 [==============================] - 80s 806ms/step - loss: 0.0329 - mean_absolute_error: 0.0833 - mean_squared_error: 0.0329 - val_loss: 0.0327 - val_mean_absolute_error: 0.0809 - val_mean_squared_error: 0.0327\n",
            "Epoch 4/10\n",
            "100/100 [==============================] - ETA: 0s - loss: 0.0319 - mean_absolute_error: 0.0786 - mean_squared_error: 0.0319\n",
            "Epoch 4: saving model to drive/MyDrive/HKUST/COMP4211/checkpoint_main/checkpoint_main\n",
            "100/100 [==============================] - 80s 805ms/step - loss: 0.0319 - mean_absolute_error: 0.0786 - mean_squared_error: 0.0319 - val_loss: 0.0331 - val_mean_absolute_error: 0.0875 - val_mean_squared_error: 0.0331\n",
            "Epoch 5/10\n",
            "100/100 [==============================] - ETA: 0s - loss: 0.0317 - mean_absolute_error: 0.0773 - mean_squared_error: 0.0317\n",
            "Epoch 5: saving model to drive/MyDrive/HKUST/COMP4211/checkpoint_main/checkpoint_main\n",
            "100/100 [==============================] - 81s 809ms/step - loss: 0.0317 - mean_absolute_error: 0.0773 - mean_squared_error: 0.0317 - val_loss: 0.0318 - val_mean_absolute_error: 0.0789 - val_mean_squared_error: 0.0318\n",
            "Epoch 6/10\n",
            "100/100 [==============================] - ETA: 0s - loss: 0.0307 - mean_absolute_error: 0.0746 - mean_squared_error: 0.0307\n",
            "Epoch 6: saving model to drive/MyDrive/HKUST/COMP4211/checkpoint_main/checkpoint_main\n",
            "100/100 [==============================] - 81s 806ms/step - loss: 0.0307 - mean_absolute_error: 0.0746 - mean_squared_error: 0.0307 - val_loss: 0.0317 - val_mean_absolute_error: 0.0830 - val_mean_squared_error: 0.0317\n",
            "Epoch 7/10\n",
            "100/100 [==============================] - ETA: 0s - loss: 0.0304 - mean_absolute_error: 0.0733 - mean_squared_error: 0.0304\n",
            "Epoch 7: saving model to drive/MyDrive/HKUST/COMP4211/checkpoint_main/checkpoint_main\n",
            "100/100 [==============================] - 81s 811ms/step - loss: 0.0304 - mean_absolute_error: 0.0733 - mean_squared_error: 0.0304 - val_loss: 0.0308 - val_mean_absolute_error: 0.0765 - val_mean_squared_error: 0.0308\n",
            "Epoch 8/10\n",
            "100/100 [==============================] - ETA: 0s - loss: 0.0301 - mean_absolute_error: 0.0723 - mean_squared_error: 0.0301\n",
            "Epoch 8: saving model to drive/MyDrive/HKUST/COMP4211/checkpoint_main/checkpoint_main\n",
            "100/100 [==============================] - 81s 813ms/step - loss: 0.0301 - mean_absolute_error: 0.0723 - mean_squared_error: 0.0301 - val_loss: 0.0304 - val_mean_absolute_error: 0.0739 - val_mean_squared_error: 0.0304\n",
            "Epoch 9/10\n",
            "100/100 [==============================] - ETA: 0s - loss: 0.0296 - mean_absolute_error: 0.0714 - mean_squared_error: 0.0296\n",
            "Epoch 9: saving model to drive/MyDrive/HKUST/COMP4211/checkpoint_main/checkpoint_main\n",
            "100/100 [==============================] - 81s 812ms/step - loss: 0.0296 - mean_absolute_error: 0.0714 - mean_squared_error: 0.0296 - val_loss: 0.0299 - val_mean_absolute_error: 0.0735 - val_mean_squared_error: 0.0299\n",
            "Epoch 10/10\n",
            "100/100 [==============================] - ETA: 0s - loss: 0.0292 - mean_absolute_error: 0.0697 - mean_squared_error: 0.0292\n",
            "Epoch 10: saving model to drive/MyDrive/HKUST/COMP4211/checkpoint_main/checkpoint_main\n",
            "100/100 [==============================] - 81s 815ms/step - loss: 0.0292 - mean_absolute_error: 0.0697 - mean_squared_error: 0.0292 - val_loss: 0.0296 - val_mean_absolute_error: 0.0698 - val_mean_squared_error: 0.0296\n",
            "{'loss': [0.09542901813983917, 0.034831929951906204, 0.03286520764231682, 0.031900156289339066, 0.031677018851041794, 0.030748238787055016, 0.030425801873207092, 0.030068378895521164, 0.029629569500684738, 0.029197905212640762], 'mean_absolute_error': [0.13105754554271698, 0.09198631346225739, 0.08333822339773178, 0.07864480465650558, 0.07728173583745956, 0.0745706856250763, 0.07330546528100967, 0.0722779631614685, 0.07138214260339737, 0.06971202790737152], 'mean_squared_error': [0.09542904049158096, 0.0348319336771965, 0.032865215092897415, 0.031900156289339066, 0.03167702257633209, 0.030748242512345314, 0.030425798147916794, 0.030068382620811462, 0.02962956577539444, 0.029197901487350464], 'val_loss': [0.03742916136980057, 0.034143783152103424, 0.032694011926651, 0.03307076543569565, 0.031762849539518356, 0.031684499233961105, 0.03081529401242733, 0.030378282070159912, 0.029892046004533768, 0.029634909704327583], 'val_mean_absolute_error': [0.10365831851959229, 0.08953668922185898, 0.0808570384979248, 0.0875176340341568, 0.07886988669633865, 0.08299975097179413, 0.07651787996292114, 0.07394929230213165, 0.07346177101135254, 0.06979306787252426], 'val_mean_squared_error': [0.037429165095090866, 0.034143783152103424, 0.0326940156519413, 0.03307076543569565, 0.031762849539518356, 0.031684502959251404, 0.03081529587507248, 0.030378276482224464, 0.029892051592469215, 0.029634904116392136]}\n"
          ]
        }
      ],
      "source": [
        "model = keras.Sequential(Model())\n",
        "model.compile(\n",
        "    optimizer=tf.keras.optimizers.Adam(learning_rate=1e-3),\n",
        "    loss=tf.keras.losses.MSE,\n",
        "    metrics=[MAE, MSE])\n",
        "\n",
        "# Train params.\n",
        "result = model.fit(train, validation_data=valid, epochs=10, callbacks=[cp_callback])\n",
        "hist = result.history\n",
        "print(hist)"
      ]
    },
    {
      "cell_type": "markdown",
      "metadata": {
        "id": "eXJJ_7bhYPSS"
      },
      "source": [
        "### [C13]"
      ]
    },
    {
      "cell_type": "code",
      "execution_count": 115,
      "metadata": {
        "colab": {
          "base_uri": "https://localhost:8080/"
        },
        "id": "A73lfF4ueeVo",
        "outputId": "b7a1f8bb-151a-48cd-da8f-06e688007ba1"
      },
      "outputs": [
        {
          "data": {
            "text/plain": [
              "{'mean_squared_error': 121.267235,\n",
              " 'mean_absolute_error': 278.03586,\n",
              " 'ssim': 0.6438133473923258,\n",
              " 'psnr': 15.477940321589934}"
            ]
          },
          "execution_count": 115,
          "metadata": {},
          "output_type": "execute_result"
        }
      ],
      "source": [
        "# Check how well model prediction performs now that we've trained it.\n",
        "evaluate_metrics(model, test, [mean_squared_error, mean_absolute_error, ssim, psnr], n=100)"
      ]
    },
    {
      "cell_type": "markdown",
      "metadata": {
        "id": "hECf2pZtZdrE"
      },
      "source": [
        "Let's get a random test sequence and try the model on it."
      ]
    },
    {
      "cell_type": "code",
      "execution_count": 75,
      "metadata": {
        "id": "7KzCi-kOZcIp"
      },
      "outputs": [],
      "source": [
        "# Cherry pick 1 sample from the test pool.\n",
        "import random\n",
        "\n",
        "n = test_seq.shape[1]\n",
        "sample_index = random.randint(0, n)\n",
        "sample = test_seq[:, sample_index]\n",
        "X, Y_true = sample[:10], sample[10:]\n",
        "\n",
        "# model = models.Sequential(Model())\n",
        "# model.load_weights(pretrain_path)\n",
        "\n",
        "X = tf.reshape(tf.convert_to_tensor(X), (1, 10, 64, 64, 1)) / 255\n",
        "\n",
        "# Predict.\n",
        "Y_pred = model.predict(X)\n",
        "\n",
        "Y_pred = tf.reshape(Y_pred, (10, 64, 64)) * 255\n",
        "Y_pred = Y_pred.numpy()"
      ]
    },
    {
      "cell_type": "code",
      "execution_count": 103,
      "metadata": {
        "colab": {
          "base_uri": "https://localhost:8080/",
          "height": 1000
        },
        "id": "pg9gw0jOZW13",
        "outputId": "303688a9-55e4-4874-e1a1-f23b86c547ed"
      },
      "outputs": [
        {
          "data": {
            "text/html": [
              "<video width=\"432\" height=\"288\" controls autoplay loop>\n",
              "  <source type=\"video/mp4\" src=\"data:video/mp4;base64,AAAAHGZ0eXBNNFYgAAACAGlzb21pc28yYXZjMQAAAAhmcmVlAABBeG1kYXQAAAKtBgX//6ncRem9\n",
              "5tlIt5Ys2CDZI+7veDI2NCAtIGNvcmUgMTUyIHIyODU0IGU5YTU5MDMgLSBILjI2NC9NUEVHLTQg\n",
              "QVZDIGNvZGVjIC0gQ29weWxlZnQgMjAwMy0yMDE3IC0gaHR0cDovL3d3dy52aWRlb2xhbi5vcmcv\n",
              "eDI2NC5odG1sIC0gb3B0aW9uczogY2FiYWM9MSByZWY9MyBkZWJsb2NrPTE6MDowIGFuYWx5c2U9\n",
              "MHgzOjB4MTEzIG1lPWhleCBzdWJtZT03IHBzeT0xIHBzeV9yZD0xLjAwOjAuMDAgbWl4ZWRfcmVm\n",
              "PTEgbWVfcmFuZ2U9MTYgY2hyb21hX21lPTEgdHJlbGxpcz0xIDh4OGRjdD0xIGNxbT0wIGRlYWR6\n",
              "b25lPTIxLDExIGZhc3RfcHNraXA9MSBjaHJvbWFfcXBfb2Zmc2V0PS0yIHRocmVhZHM9MyBsb29r\n",
              "YWhlYWRfdGhyZWFkcz0xIHNsaWNlZF90aHJlYWRzPTAgbnI9MCBkZWNpbWF0ZT0xIGludGVybGFj\n",
              "ZWQ9MCBibHVyYXlfY29tcGF0PTAgY29uc3RyYWluZWRfaW50cmE9MCBiZnJhbWVzPTMgYl9weXJh\n",
              "bWlkPTIgYl9hZGFwdD0xIGJfYmlhcz0wIGRpcmVjdD0xIHdlaWdodGI9MSBvcGVuX2dvcD0wIHdl\n",
              "aWdodHA9MiBrZXlpbnQ9MjUwIGtleWludF9taW49NSBzY2VuZWN1dD00MCBpbnRyYV9yZWZyZXNo\n",
              "PTAgcmNfbG9va2FoZWFkPTQwIHJjPWNyZiBtYnRyZWU9MSBjcmY9MjMuMCBxY29tcD0wLjYwIHFw\n",
              "bWluPTAgcXBtYXg9NjkgcXBzdGVwPTQgaXBfcmF0aW89MS40MCBhcT0xOjEuMDAAgAAAELZliIQA\n",
              "E//+97GPgU3IAA2XOop6H+EVsfSQUXqx2aBk6gAAAwAAiYGOFkC1uVtVmLyrbWDDUALTXavsdzMe\n",
              "2f/ZTSUSnpQF6TnZwKp6Xk9ZKoUYJ34wDMnJG0EI+91iarI39UCCpyOK9HJhBbc0F37Hxbf3JitV\n",
              "w3I7+WWn5yy/qRXBvcytw+Bp0adhXr9A2E0jHUhM9XM0ixPhh1dbC2CzNideZMx10x13lQayW04G\n",
              "KP/JO641c7jygRrGs1e3+MIBBdnYRIDYyUK69pR/qLjX+Sjkq/TNDmGOmbMmXDkU4KGv6gt+CsnN\n",
              "aEoJ4jrcPwkuxKgGT+AZ4+uPdJZGdDqFR072Shkm1AlGALhh1tBr32VhfM1roPoVUcgFVGjObgbS\n",
              "SaAGOk/LhGprLAV2BElzJGHUrE3N8hq8Ouxl5VvW+rynRcDcapv4QtGmN7gmX8Rn92hCQs2FaP/l\n",
              "fMwuyrDJKY9pIHl4prkm8u87KnJhau/0cWVafrjXQlks387O9oUB1gpqB+erTDcaNUZbFvgo9r90\n",
              "3clKP+ykOQcZWpc7eCG1z3bACaR0cMHV+x4/HUm0WU4wR7XSfLfgwvyHrMY39eUvk7q4hjLXynav\n",
              "OnC7tjCpxuZdKR5AgCxx81rNJWZ/F+B/D60I69rqdDNhAesYTfHQe2P7P82l1oaAJPi6qAALmWDC\n",
              "pvMAELEhZP0s++tmxGfBUg/n8NrKpuNh2u5PYygui7skNn+f3cxmTOZ8smZOKaf/uMOcfSgpuuX/\n",
              "mJHpzcyEiFlG5jQp2ohtOVk8pp5jzxVsZI8e1yO1u5plTzuYGtz1+ff/waiy8AKzEozRsd1sI8ld\n",
              "me0YuB7gbnvxzn8JDLSgGpOIbYMtXbrD8nh/bbHyY0hVrlrjgQQMCjcWZuqht3Agt5nZImQ/aYFe\n",
              "zNwbSu5htBM24iOtiAkuHYH/yQZLWF870KoACpnc7Qe8S3c/g/c46AJh0d+Z1noVusP+/pmrLIgd\n",
              "MNHMbcXSt+HSshVj8OCrXpyYtTtX8RA3OYWmuyxO0bOnWQ2uesgsVDoZtRdtkIY0LYDH9cm/jJvU\n",
              "WTzMMAuRJWkAq7ItEcfpKxvuA/j/SgWEcuQwghiEFomvMSswXZbLkAxwhUiXWZcNLCt5JiqeuSmq\n",
              "R/KR5eOjICk3Gw3HTI1i4qDu0Qo5qvUxa+dlbIxGEbvVzffPMYK68zkba8CoKy8hcSRpRjaJk88d\n",
              "sx1E3KMXeBinoB5QmHGcWhutt7EIaScQCLRpb5R/PYDWckPn6sMYBc4930gWoOkBj6x9lS+Hh+GI\n",
              "+cgytopCUYYjYFeYJ8dad7dwxm8OjZqIBjFWLOjdf6ZTTym0VYWCxwipygLKVr3R2BbLkITa1i41\n",
              "DAOTGBKG+Bs2xkuh0KBzkMenwyJFzH9ohYK58xg+VfPbe9Lrbs+wyW2VUeWBPLbVRk1Y/k08ngFd\n",
              "l/fGbnff/9sJFN1Y2StedfU/L3LQbP/cNjrwLyWD1zV2+avg4pFCtC4n+SzHHIgfhYwavWndwH+Z\n",
              "tTIqO6pWb3fxy8dIf44S6pTwTy8OTJz/wBBjznJnOkh4MtnpTF9QAxsUynQZ0eGK2MoLdXTWP6cA\n",
              "Mdb18sSvtPswWqubWsiNVkkF2WhA+jKBwxJGurTAkxzkBgyuB0oQmleulUIa+xOzgyWwvgZsU03W\n",
              "8WcepwyOYWyAE+wZ3LcJNlON/cAMJUl8BGihGdxZV7oRdKKIqE67vycAQGgREK5fTao0eAt001gw\n",
              "6LYs/4yvX3prxv7sQ/Mj4VQ20GxxDlfVubYr3BcLafzCxAaitFbriqsl+Az0iJot73wmBJpOmpKo\n",
              "sj+5m6IL0bazl9VtUenRT0JtqqPsSAGWonhgHrwzQQBKsF8tPsmHGyUx2poBnI+fyKUw+ZUYoYk6\n",
              "aP9mvjLCTMQC/cVCw9jXdxlCZLlB3qxwJJiaeGW+nlRr0sQUgb6Wft9ldF1jGUmEipKqi5qk0gKv\n",
              "40wHHJIZ0QJJkyWzW/OHyaltAzeeTSmFLDiFVqRJ3QcmC75WikA0piRQQEnW5ASutfqqLa4SP+5U\n",
              "7x7YIduMnkyrdXojzyTcGBFI5dw3ZIF2rx4uxB3ayLSRTD8RXQvpbvyMBTbmUHTMHMuKVXgBcPy/\n",
              "HintpYTiyyZmJI2LuTwNBTG2OXEnNjgagqgz/3vD9aX7cTybanAlvZQsyyAYbn5c9pTriZyTmQVK\n",
              "t42fy2nhbKVt8zV3afS+2sdCJjpBF8Vq9VtsI6zfkTUJUhyJ7We650ysFA+O/w9LWJYW3kEmuVlg\n",
              "dmXn8OzJRH/SBjzpLiR5/iemEp+IASwMHOGVlLItsjyqsUfNfKKxBmlVWtqumJwC2pQ1ZyNkon0k\n",
              "aQ2m8Bcfjm3zXdCRRMo8hEZauSB/c/wxuhhS5/VQ6BSFZrrKLHIGJ+F0RHGBrSfGASgIbA1Lk6e9\n",
              "i8ZR3se1n3GBwR3QEeKkZqOAnU3jYvIe6LEFNv7hAqGcU1E2rikalgOHmZgAhYeYW4FyQW+Uf9sW\n",
              "RX0fC1rPGsBBLIsTI92OqS3XGMOVoXBKY6eKOWiavROjHEwlB6DHDCm+sBM+zfmhA2QLc52S1ZaZ\n",
              "fWs1PaO3INCFk3bph+h/ebvgHZIgKWi63R4hLLhYeVDoivU8JzWDTQ2JWQZ1/fcgWapniADo0mrt\n",
              "0yiR3ozWpJOE8we+4H5gLp6GpyDtv8+Pm5GxIJ12nF/vaS11SP5AJokh7dbQOVHzAqodmB3PEJ5x\n",
              "ubsEMoAZQNQdhwlvC9d1zS0IPuZ2Bnr/Ho8ZfHD7rcNyPEvO8BNXhoAdyFYngVkCqveRDonaEet5\n",
              "hmdI5dvKxEYFgI/eVhqD7JZHNiktJeX7974MX7RjZUi7Ckb7XFSuRRD2r6TLexTNUGVzuNWoITv3\n",
              "9t0l9qw3BR4oD5bz+TyuAqmwtqNezO3pK2581MUsb6il0N2a0x7LaRqdd7HnTyGjhLCBvIdyKUbb\n",
              "mWnU3eb6/RayBtml+xHmY40b3BBRJI97oCYO6I8apgDPuIaIZwMkoXgAgLw4cIXenezTSPQsS44w\n",
              "Tom+r2/6LHzJJuvGiWwgRfRt+9KOd5ciYv1FvWIVSPm4n/KG+grnb6W5WLNwFafATcN5K1ZG/YY6\n",
              "7T8AKQVBum27u9H78NRkWINphW9QSTn/7SctFvF9nSJw388lVPs4iZ9k8u7YKafoAsLT02KK7ggY\n",
              "6YdLWVXSqM9INTmgyKPgfnWDu4n64Kd0ncc4xnWfFJkUoW0lb7VBiSHDLO4bkRuu2wIsX71ZApg9\n",
              "KYY+XFe2l0lokrNvScFJD+ngzFjnVe//iUF9/kd8c2grQWJt8y1EHHptSG+bcVERWZJbMgubI9VM\n",
              "gbZ39yBQplaxcRTHwuWPQ/ib2AW4O2aT16OOW5xvS91Iw5M7Zq34fPbIiA/0rz2ML9ibMPT+GatE\n",
              "JPr5U56lU3Oq8lhVggxO/M4OvnYp626hBRE92YPgPRnJrffRB2U9IJ2l4q8V6NMqvgZgrqh9OPKN\n",
              "YaExglPYcOUXtSu7bp/PEtiEr8hVcmB7jTZuu9uol57ycUICJWU/VVC5ZqV2deWz2zv4fO+g/PIG\n",
              "lU1tZ9BLnYDoIoYx/PbJ8AjmonniWTzGsHQO9GFXQ3YajF7gc5R56YuaRTG5H4iOewJgt9QJY+mE\n",
              "kBeliQqNjO9sy6k6Nt0x8ZPN5gh3ngmRVzoUGsVprxxZXHzqrCWKkUotPz+0ZUr/f7OQ/Vos4yse\n",
              "cv/Dwmd9B0Yx9mtJA/FVt3Xxue1ur/57dKPSl/te5y4xDH+dIT/qfiSFWVMWq0pNcXiUI56yFgEB\n",
              "plt5wk9N6BE9VAr6QxcD4kNv8TYtIjbH5uw25ejNHdp73PnrgRICKYoCXYHHtCzLVc6Qbvp1eDUq\n",
              "AzwwntCj8D/5VMVcE/WZYWZM+RdRGa1GzBptZhAskrBNWssTpvqOURD7kxPzFuM4a5+wtR3/HDVS\n",
              "+a+K68m5mv5wfvygw8U2vD43N5u9zaetXV4rcXiBvPddQCUNnVpLKllEdpccUW/Pubm2gh7vpkII\n",
              "NiePjmlqBik3IIQ8a+Dj2Akfk6Db9OHyky7a+LLyMEDh1qwkwaLEpfdNn73wNrPd7kBPA9q8FtBA\n",
              "V/fZLbOiHMl80F+PIwK1w6r2gYIHEAkNMTUjTlgVupVAg6I9Hm14Nn1v9pMppg/9+uJ3Hlqd/FBC\n",
              "Ao0YMCp3xFP0tvRsHK5ywGXusEL/TdJwEleXi6yV7JhVN4t/ss9FkitNA3aGjHfMDKBnibigS801\n",
              "I3xvzIKWm2fRu/MfLZ3eSTSUbapKFhbjK0hwKZxJIT6ZQHTHUwQZwc9ijQD3pTGq4lQH5LdwAmHj\n",
              "70BWnmnN1uItvaGtHSyJuM2WRg0se0FGVc7v6PyV/aiMCv/bZJvWXfDO4H112zXeqsxZ3Aa/SOl4\n",
              "3LqYGxRfKbgZ/pb6iwOpAMNf6bsfavcb/rizg/TQkB9RwrUztc0Wz9FpsWrgiGcA5HB/P2iJYvea\n",
              "LOc4xytazTiD72wAyg6/WixIxMn5BHSshuYpApnZUygKEC8jAr2K0hzY7YrRL32Q3BKWjVCwng1p\n",
              "6r9Yi8pMfUZJDCyowEmhHHFiTRCGYTMONNFIHIQ0h0VURt+G2Qfh7n8ZCagU/GXsC8V9xx6EumqW\n",
              "9BHqQaQ6LpA2edcgl1zxORb/YF45VLWFtvyGFqCcVmiMWImE8yZsiLsZG+/tVDiqtpSgnoQAGYIf\n",
              "n9xlV9xLLgjl4H4IRhnOGSeoFHIGzf7U+bvGsKeDOavE+3zW9UmlwDirBMxYKVHV8iyW58JYU2Pf\n",
              "2EcU/j884/krt5Z578f4WTJ7A6G1JQpM4ZmVBHhyTu+H/Fd05cGDVa137VyzK1LygyozBAkuDV5j\n",
              "RTXcpbpseLO/JAH/FgTdnSPEkEEiodPzpHKrmmhR5nAe/mQT/pBIlGMzurq6pVslHNXfxFFqqc9N\n",
              "NN+5riF2i+S33Ri25C6CPQdKBPqO/E1LZ1X3Kqn7RYAMNn1mfdPGX7XE2cuwgrTvU5YCrvK9YtoD\n",
              "01vO76cVPmbTO1E8BnSvo88fivSCcMshGaR6fVizMCAI8bdetGEuRhHqFNP0YdYnv9joO9KHKsvE\n",
              "MPWSOb0vAhPlVguCiik0f6AwJgrm469Vw/HvtbrdsDDqMLpKOH+0fYHJeU8sh5umCdlhy6oYSX7N\n",
              "Jc69zlcnVm5Qjjict4s376I7E7FgIQNVrg0VQYqecz4hBQn5GhOvuBiVEsnW5StRmL821Jy6/Q3g\n",
              "NfSTj/XAKTOFr0l8bxxkXWHdZLZi2ctEbjTH7qiSx2+upjdPkRHEZ5Q2vbUeOhbD5gG7rp51k0CH\n",
              "QSapB6KVfh7EQhUrqcfgbWcXt+ud4rWRudPItXbJxwypwYkrBT7DlBZejjY+uFCdqYDvTq3h5TZ8\n",
              "VL9EBMtwkOObDqlv/Tv3YgCWRmXh3rwNQwjxBCFrTzMRB0gShNXryjGUQXQZ4yxe8d+tsW4DNOAn\n",
              "5C5szIIkZHn797PlKi9bRCzs/ZgFAz6zI/sDlztPbDROKR/8TLg2m1sfBmk8qXLfEk230dLakmlf\n",
              "akC9eR2T1fdtQYSrJH+W2xxA8P2x31m+YEGjDxBzmEoCNM49V1KWsCSbtFMZp7keWSVJTEB0nPdn\n",
              "8kBDghWUmO4lOyC5e0cIgjbIXA5VnleQ7jxh628TZSsj6uX3MQH0I68qGfaMAAAF1tAaAAhIVMEA\n",
              "AAbrQZokbEEv/rUqgBx/JaAATLKeQX+BsPzweUHtw6Xlfy10sBuJ5HY/LP6dXnrcVpUE7DpJO72o\n",
              "W3t0i1B5LAC4mAbaxv2h/aAv9x1YC9d7O7fvPoethZRvEJK3pSoRT7qtwyBNckjBfcyVQgMKSYgc\n",
              "UoRKnR5z8STiLXWVnEVoHAX8BAcMlYWairc0VYRSINFO+5Dfy8uELH4dJ1LuXdE9Wwkdn6LSnTuC\n",
              "1mOXsTcv7TJSCIwFdh/SqaOpzdv6/GFw9CvVJV4I5LmmZqQj0UHPaDFcoe8KwDdGkY2Oihf4ICeN\n",
              "00dD5E7/paRPqhL3dk7mP0zTE/+6J7xKckyaKtzMSb79HYUHN0lVoap/bJ69l9ODfofyqNwZAQ68\n",
              "7sPKbpgB+JgWsdCty9pho+h+X7x/BINJBb3sPKieScE/yjEcb9cHe4Ci0XuRdmvAI0lec/Wj5HLG\n",
              "rOAR1KVj9U2utK/eAzBnlZsBUqj0pqKEupz3t5CCrUTP0Acty02GJMpyvGr7HYsWdXNu68XWwTNp\n",
              "TZcVsO1SmfJyVDiSI3yQfiT42HYfzB0Wt4OGJs4hUie6fWSuA/uVnCLdqn7qudWwUt+eCtH2mO6H\n",
              "+t7/VNtBaVbYluTCE0ittAshwfm/7MbMd3bW2cOJv9zvneeKd3QnzGRD4W3BN2eo9uD6dp3dNKao\n",
              "2NRBDXSfkbu0ZkVx7ggL3ct2DNZ/LKEJSwjyZPTuPWbsb+qNcIfeWOGET/dupsoYkcmmvBWoR2bJ\n",
              "u/hEXoLXMcAQEpeM5oEsY1zitmDFG5fcVoqKg3/+RHy705Sygz8zA93MmkfSeF1/xBQBDdt7R0OD\n",
              "lkCItDRrPyVHvtiekK5p9PuFnSdBxZb/E1EK3L+zweNV9QKneYtInqSoSigTAp3DRz8BCGq92r2b\n",
              "bv9pG7mGmK8986d+zY9r/mYDyMbkxS2LVSqPrC3jT5WL1kM8Zvkwlhmw4EL2q57tb4tOgl9DYr9W\n",
              "GLD0DyNUbF7tK659pqXuU2Nfr5LcLeRWdA63NXXXIiFxzgJfOEgL0onYLdhUkgJR80EVxLKWJ1L1\n",
              "m0XkzWlkrvlQZEwqgfF7ydN+py03hcxi8uJtcxmC4lt8ZPjYUzTbwmufU2KNrSwJfTwdS1IRfuDw\n",
              "KNyZckpoSV9SmIbI4ZxL0gT+AIOD3+9biPu8amBVQExjaXW4ysQSZQJznC7mf1k+vV8Dg3WiUjiK\n",
              "uKkMuJIuHes7xvByIYloC1dPWAe6JnY8tG4lhEBoqZ8GaeIYpk/6x375NbIPHS5Sa418zrbZKupX\n",
              "7Msa7IAwGmJdmoLVXjfgo8C3TutzC9ZjLsTfZWZl5nPSWn8bPYcR7l+9iV9cPu9Gc0Gp5YivR2TO\n",
              "QrNTMToYnF7yrhWwtPSOqk7gnJaJbglFsLD5i6fWNvLe4CROkYwxrO+jAHEw/FNntiKxIVBhLHBo\n",
              "sjvXjPMIlp1uaOLzOSn0XQDqLwDQgLg7372mEPlE8on/euSPXdlJ+EOr/8FIyHuChRe09p9eXbpe\n",
              "5AYJlAScbbFUpgri1Dy2m4s7qWUxRclYucqn2bb9BeSYOFPrpgHuv1hQHAsaJ5oB7HguHTQp7/GL\n",
              "0cPM9S7XcQ4w0RdHTe6G+ht8/m+SG4ZfoOe+ihr8QLTTxuvz96cjCrjZnrm3N4t0aXZSAwcMdDEz\n",
              "xartEvh7oKiPL1SMSLb1ajd3db4xuP8M0Vu0zZQfE+zIzI9RGXQllCKLZPNJquRZxeCL24K7YrPy\n",
              "Az57JN8mmxrr2FhUib7Jdk787DZFobvwhkjTDo+Usf5WFIws9mhbh9Z0QYV+ZqGj6XPW3ozJTzJM\n",
              "r57g8snEJrbI0zkA4yXAAMxf5qxSWaGNYJT2wpwDmjquLbVD8CzUnzT4JVNIFCt+w1AS/B1wyg1S\n",
              "oBSGX/wJGrJfevjIS96hHnineOV5nqx9jwsbNEvtnkWFB7YiE1tGf2qiDkZD0Er4q2L9LShslJYy\n",
              "1685CBXeYhmCufWBC85PZs2emF9BejB2lEfk2CFLdTnnFfxBCMoEIJAOD4JOeSFgOljeQeBCsunf\n",
              "dgvKV7vWsAksaeTJ5Be43xFGbEQrO7SMEYdrELXbmIU/iETJhLFpVrQldmp9O4vhAenuMhSMMeHb\n",
              "gEqznb62iBl1T23AlC6dcjBW6STo3U4J5yNmvXkFj0+QwLbBjZhT2iK+m64vy8DQJlTfZaBjn3WI\n",
              "fMdc8zVmV4Q+rBdGtjH/Z87vrbqT8Y5cvx82d5gf2PRa1TMjtI718dBpmm9nQbTS7SDKMjzHWMMu\n",
              "HeE5XbjEGzFJLDAij64BvFKb051aSClB8NyNvGK1tKAyFD6COl2sXIAbMhYr+khJzN8Jd6YLFyw5\n",
              "IGo5Ug3ugAAABc9BnkJ4gh8ADjAAoi/cNVHHWIcpVejgG6UGDGpyI51S5HT0mlB9Y7ljTVhforgV\n",
              "FQW1Bhjo7nzhrY2pS9WRRI6xr0njOrdJA8U+4wgJcSHwoBSgZMfCHZ0soO9KdibQe8XQLjU522AC\n",
              "afyBIE4LbGpnz/5J03+sIn1TB6DLzjPQNbntenPBqkLyV+FWAph2ymCE/aOr9cBzd/kHZ4ZrBiqu\n",
              "hBTfSi+3Qyn9m5ATLA7EprcQL3+x0NCjXwGE7D3F1LDm1djwQAstSMy1yXgANVo5UeTMPQW7g1QF\n",
              "ESu0hg4129sUu4gPpGt8LYNVVV3layIrIk4V9nkSUHLOjteCPuJTKcvLUAShmZoFkLvv9YxCLIca\n",
              "aYb+tDWcJPrmfmvD0qfbEVYB+YFEOKlyAUsVPKkX150OwyejMjOu0m3STjfcrIMYmInzIgU/7D3v\n",
              "bw6uoc+i7Y5ybWTDQWrSwgfV+QK746I+eFMg3IqYNZdrlOgWIoC0KRWP7D6q/ZT4x3FAYuPpGfXd\n",
              "RDMaCzjBTPcMHaHwVa2NSg6wLua64ak1OHR4CfCpjxwASR0BYFjnpwVD3WFpkcfK9Bi27BZDSEge\n",
              "v/RGRMdcz20OEyBdGheIZ2Alw3Uo7fLnZ2kbmdfMX5quCMN+sauH7S4OTgKm/okYPREzdMWNtesn\n",
              "ptgUNvQVejBhTLvyT9uLEZnV8ESi2kj9mY5x56aS967uJqXib1TWE+S/jyQ6kqcHLsr8xUhBckf4\n",
              "e1P8K5o9xlqMaSjDcN1IrcdO9CV1uRqkX1HHnHkaFWmBxpxa4ohblK6CGa1e8ZcM1QGdj0FGt+ab\n",
              "W23N8DHlGUxuLtLtJjEY9xk73nRHIcBnVeaxvToI+k3CUivvBBA7+n0wIUL2frrNkWF4OMnOvgfY\n",
              "y+15+6kRX5U9uo71kzJrEucpNbtTkdQbBMCbG49/stzTcVmZVnvsMtl5rzTw5DZq+XdKLFx7ffkl\n",
              "RFPG6FYar7k+qD8K832I20YSXqvJjLLaWadH2mJgDHeznU3vHYMtEsWiUvrWMiqEuJp8mW/PLVYn\n",
              "NfKCyjyZXZK68lWZPcqOKknFKWxUlSIZt1Gl6kkBS9lxm7RrdZcSCXsT++f0RAPFUfDN6XmTJlOZ\n",
              "ozoXQvIQPe9K8RHiTPzAH1mPGrtHO6MR5IZ0WQ3o/OEQ3Gn06DcyyCI5lutO0eyDB9dEfowDa1sq\n",
              "RukqTHTiB750n1dzI1UyLrHsZtgifHzxRXnHtI06VhvuyscBWaTqSyIH4PT7lEqDvEAzifw+w3Hp\n",
              "PuZvU4wEDLkfrW5hDj4irNvNLF9NImeQKhUPSMYCLRSlpTa5cj1xD/QwF1WvMszdT1Tfh8ydf51E\n",
              "OcjipT5MxNM7wk2EohqV3rO+07zDfeRY4as1kEzaj9VXh1P4Ejsmhg1dxzOAGCKrQ7EHDgxInK7W\n",
              "UmcrZsmPOsr5hTP3xo0Y2eBtT/C2K4MSS5MCaTjbdafmxuel0C6GMhexCZanjxIKbKS17B6XYGfI\n",
              "9cyutczDPgkMKPKJu7SeU1XJRrTD6MgzFguJz575jmwjtaXXsVtrL4K8xoj/gJAZzktBADw9higx\n",
              "r2H7jGOq+k6bEyB1L23E15W/U+cy0wANSGiNd9r/XYEAI0vHvzJdQ6gzqBzqINeV3OisihSkZM3u\n",
              "LcOiVB3WuXkcoVy68WE1EMF0xZgAujEOJLbjDt95v/VxclPZPF96rsY86mCvK23UEg6D2FHR3rNz\n",
              "9ijHPX0GcW92rYoQC8Pf3nnnhPw6BPg5QWidVfUbyhwhUsKbU+JCZSSXCIsTH9aUBMkE1XkSmWa2\n",
              "OWZbacMB+LEZVsG1Sq2pHVj+ZYQSt/4rb4qUAUCXd2VVA2XDwNso7KHwCHVgv55sfm3CfTh0IiSm\n",
              "VP43sKpdYByvqYYh4BWRo8RsHLL4Mw+2iTIr04zpKkd5wGjDSpbMHxUx9WTeerOY0VSFeDCSWVT2\n",
              "aTUOUimx7AXXcxVRKMbBMwAABUUBnmF0Q/8AIrLS9vqjjoSBTh0wF9UxnjOWm7zUJoEmccHD/YLL\n",
              "J1yzlTxVi5gKP4v3act80BpCQdu5n9pT9PYUMkcxgBnVBpeGhPCliQ5PSEm1oKcir6NzYTcA3bKs\n",
              "KX/bZr+EUp3jwiXGNQY5bRWyPr9RiSkhq89aPagpU+R0ts3lJx2LvdIpbuxLJdB17eeMPQV3Iv3L\n",
              "aLZyYadkqpH5ON1YCKIPewbzf+RIuoQuUf0vF9ZwJhna/q5WucZhcNKtBeXo0oCYl2wGA4AWpNEd\n",
              "Hdz+TIP0SG1tZqKcWQc+EylMqRUkQ8hqrPrO1xdAnd9+L7viaRhGtNpC7B6k8tnhCzHOKoKj5irM\n",
              "lThaQ07F5mFq4+W8L2pdvu/57j7RfdvDN/O/5mmRnj9c8PkZzxwKeFk0ypP7GuZQ1dObgnp11Jwa\n",
              "9ObnJjEcej3NJluqFXKV5vOpj/lGiFdGKpsEfVKm+ezrzE4kdiAPHmaGnvuO2CgFh4Yz97TRRBmZ\n",
              "1EjdjvKeBjLNuP29jIa5zKwSbe1e9919veUEn0MBUfLfSS08xGJpl/fjwFiZh+4qa/bQaMhLkwet\n",
              "nDoNwYPrYMdG60PaKpjenBAFTHY6r+UDF71m2zjM10ddPj8yiZVvbx2BxfB+8qmAuS5tNRhbYDjG\n",
              "QsMugz7Sb7e8/T8491A6MeztS5OnDPMmy/d5Cyub2rBAl4SrhBCujpSA+/52xnAp09ZEOoSFlyeO\n",
              "BQzdXkNGqDP08O5bj8QVT4OE6eA+S2LTzMeFWcn5jQIv0VBZf92HSxwJrXx7F0zCdau4Wx2QKqIC\n",
              "OtCP7fXGwlR/l1FvbSx7B+SruDyzjFrT7t+ILf7W5Z4+9BWk+BFKJC0WDm8XGAEV+MkrxpbtmIkf\n",
              "SoJ9qW2jXVHFoLu00LIr8Zg/jNUTugQF9f6ciuAqD4CFcxqviL3bF8lObkv5hiAsEsZgWPqlyl3M\n",
              "KehAxETeyZ5DpUbAYaAUH3tUb+UgKvt3E6PZImdB9FcMfc6P8O5J6Atq4O6Keftycw2aZMXQPz8Q\n",
              "mIOOyc13DMhEbq8LyC3HvHQd0TjrACF4MzH64oBDrByOh4nbX76WTNAgtAD2ny6JS/HFcels2VzN\n",
              "dSxyWS6QbDzN+8tqdfh7ygn18AJnrcF92mPc4pV2dKIytpM67NzN4Z0nBG/t6WqC5PJhTnLneUMs\n",
              "zIgDDtHoNGNph6QJEt+p7VtByy3QP0hPg6ORNR4DopqS1iqocqPzWlw17y1eMH9lX3400DId3it4\n",
              "yh5ZHVgZXUiArH4JrbwclEs/3FFX7z/2nym00m3wIvUy2MdAEQPCO6+SVTb/fvGzEN7d7jTgFeVO\n",
              "aggx3Xo6LTdP0g3pH9KURHFOAhfKeqj6kjUn3Sfl28plhJvDM5PcqNCx9m1iQKLbMkYMeyBCojLH\n",
              "B/wqHTvraEvdRbl2tqxYEHhwFyejwbkMUaCbksc+C+uL2FCh0kKy1FwafUC2CzpRFiFTz7+7R65a\n",
              "0GU3e3PeE9XE/ZhZwB0sbMlpOqvOrPzr3skNe1AJXP5x3GBdaWuFQ7s0YffwFTANqTFSZaHUsXiF\n",
              "6t9WvEbm9SurVOVk+fDkPtEFkXH4IJAuCTXiTMeimk47RE9LwhNCs1KY1WcZoD/FqpdmIu1hxdum\n",
              "7ky4eoS70jpFRDUDFgjbfng73PK7AHzLvisLERPzsFBsbOhLR3ZgVzQinfVUXv8GQp1Sh7hOs+KP\n",
              "5zHOlrbMjh2avvMZHxXv7PbUW0NHTLWIC+Y5KHghl30gELmPbrETmqr6PD3+Ij+83zb0+FqrfogC\n",
              "BgAABFUBnmNqQ/8AIqvzTCVeAP5XganmJCSmLRuyUKGSkI8eS5xgEen3CvueRnQHEs6ZlyT/d6ry\n",
              "7YDdZPU5xmWdpBz9ta2OeEWZIbPUaB1eharFkBuy76dEZymSJcE1Q5HtLVW8GL1f5zH3pFVP8V72\n",
              "7ZjecFpx0jEoeDZHE2cfL5+Rz6ijmyfmjkhNjxJHnXTHQucyakLusYL6BNwmOAclPnfiwMWYKSsJ\n",
              "iKwcH9YhT/aOV5uF6+dtvVwYBJrNIhGur1csbMpdm5YFPFWYe1gfdV/VWITx8O1/Z712gPjbzfGa\n",
              "H/ZEo8M+DBWfDDrz/rmJyHlrSDf11q8/PG/JlBdEs9VZOX6i32/xtlu2d1Akjvx+Wos57Cyw8P5i\n",
              "xEFgY1+COM5hFYXQnminBsgTqY5xuqBEynMuLVEjPbUia+pO0ThYjDF9yIwBtEJLtpLTSKapY2Tb\n",
              "NWWGD6CNc4oT9jXwswKxw0eYKS8uZqnalahN+2eyYOBTAflMiBsKsig2SGF/Oh9zVs70M6IzKwqQ\n",
              "Ky1/3aX6ljYacpIPHz3BriJPvLKrG65bgMktCiIbOEw2GSzGEs7CH1xXD7cWFxaNMSr1uoE4trXC\n",
              "+28fe9NZDEgy+AcVxA1875t1Z53UE/YeoLEC7oVX8BsOcEIPMK/BvqzSE0a8igUIKqAG/qw2jeg7\n",
              "0M8MzD8MFM6pmnHzPWHWokEKSzPWNb86Cuz+DKV9Rc69CkUX7KK/aJAdInEdsB0Z4MnCM+mciyNz\n",
              "2LEYdhe4Xx4MEU+D97q5aBX8GGfvQz0z5SrSGeAcgtLw1/a3hP3Dc2GY/3Gz/vXcNeezQnadke3W\n",
              "jOw/qudEniGQTSxRUKhChVHbrEvaOdlOyDFlaN3u6eHCzF1es1CIPJ/9DQbaVG11EG11Kg51HJt3\n",
              "pXaqzHsLqtneeb5kjT4cVEPnXx/y/2nOvyakKyriANKKdd0MS0K9c03H3qXCjlGIhB5gkS5UeTHa\n",
              "ui6ODqpAeaQcNxLCdTMVuvGvUVYA3mxChK65EJMu5gjVcWtUeuTrO2AiS7L0kYd4+O9Ko8wJrLAg\n",
              "XoIVOBYq0tS9PZaOZPpvbZLZQ9u0wAOBYQZv0i+w7xV+00j04rVKRF8ImcIf/4kr5LE6mBKBhxGB\n",
              "vfMoLrUXRcXTZD5Nq9Ec2HqPT8EjromCU72ZpqcdPEX5FOMQpKZts/Sm7kHEUi6roeSB83/nY5ba\n",
              "mkNe+7rRi9HiufoDxoyWjMTmh/h23DMx/xSgYZRLZdiVlmGwWC6MMR3mSdtyHtD5UslJgyIG+nQU\n",
              "J7jC6cNONK7Q9DoH6+xuWsTOSPEHlY/vCE0c+zYBpSr43WIlI+0nQD6Jj47MXSzPSH2PwVxFKzF2\n",
              "hkjfmv98M6gp1S2egw3JLu5orOW4QaKEeerfTBxcbDZzXYzK6MqJgN6pvlLF3MtUkLRYaY58ceJN\n",
              "FZY3OuClGeJcmtyBx7BMb3c7z9ZsjGxOomPdGxvtMQAABK1BmmhJqEFomUwIIf/+qlUAMK3GeyPn\n",
              "4nFPQ+3x0GC6bGOJXolyGRF4ztKQ+TyzOUEA8kISEjMsSvif5zXCxI7D9m3/5lKasr8+yCev+s7Q\n",
              "6bqHwDojAravA995w4zRnFr3/hqrokkmxkO7abk6YyV+3GS1hbs2UVpFqfnMgd43D98A7kibf6rj\n",
              "KyGXi3wXl6vVJuGCY7LPltLhxeOdKrouuY/puaMtvf61PSy1gviPXdr7TjB6Ia/SutR8pFCL5mlP\n",
              "pz/h7+kaUTqG6c92s/XS+AoCPVGJ8B7Xt5FSzjoBwpMv0NE8H624MLvN+KXrKpqsKLgoEkrCEhRs\n",
              "n5wSX9hHCz3qXzcD8BBGsGQ6Qm+l+cdkxi/UjrF4FwFCkp6rSN6VStzIVTS9eu4lPFxkixUmem7h\n",
              "qs4klhivFBpwHGZahUq1+HEQpUpJ+JPp1QuXw4nY7zq71ohGHTYKqCjtGLGFXiZ2/3y8fuVHgZE4\n",
              "oIU9arenGnrzuhhTyz6MzqkBwIl258jwqKeywZf73QZkOFUPpgW7n8u/0E6IOZ5t6hWLH5L02/je\n",
              "D+BsSh9rGZVNEfLgQOHg27acph3/BHK2hewX3DCBxq0CUo4abADNHDsPFoNxwFrRBJr74Ul7mFT2\n",
              "Nfh8nY8tUD3z4wAfVEJTZGyAiHMOf4DV5evnOaZip423mWejts5+vrb0x3V3nxWrCQBLLj1Lnofx\n",
              "Arn63/YugOAGvtlIwdfS4tTi6JSKyNxnLId8j2n2yFimOwvnfCsSeYTnSCYgsv238GCA/dgq/w2R\n",
              "vZLH9O7isylYTXNRn3erzxgtNX0cHEc1qc84ElGkTnC0ox+QjyEd74b7Qxe/q9god8NrCNFXJzJM\n",
              "oNe/D/lBPXajI1iVRvd6/lvtxZUjzaNh83sw8V+QiFgt9Dt4SFZSkCwY+bxdyAefpIXYfzjeC/au\n",
              "jNIatfA+8e2JRC4oQTkZ4cVqaWGiO/5KYHuLJXw+eJG+xGcBREauJhRH8E3BUxIIj59+zS3/ialT\n",
              "e7t6v7Orc/CMQXQMdUJqvWJiieYhadhLUWm2LBCsk0mFlz82LcXojgVI0nYQXelB5j5lvQgS24x5\n",
              "uxxESikajM+7xDI3cdlRC9dVE7956XzMUPRNfFtX1Upbc9fmlS5UPTSCahOt08bbUG9KJZXZkYmh\n",
              "ufOAk8OQxyjTDdqmiKiRaI9vvTae4+g0Nl7264bFSjfUzoWWnSOt72h6IyuXctYEAuc1Od2AKfxT\n",
              "gCvvFznutimCphMP8rNp3WVhwxNGTSOGr7vvEf8Q+INCZlsZGupPSdTX7OOQR3PT90bzF0M2T7/X\n",
              "2S1G/KK8l5lr1MnYdSflcCu+4N3ry9GBKMZpC9WKlmgpxc94gOAsUKKx95BrBSKqwZrA+F8Nr0lh\n",
              "ZrdRw/3XHHVDqaDQAz+7BtBnu1wM4ApPwqA/mrkKNNZiwfQDHWatb7sqMDGgK/3+HQlXl5yQtmMK\n",
              "LWizp+UcTUWwyyNA6xiRrZ9EXWcaZ35bIvN3EMtynWkng4Zv5mDyHI3rprHS1sp4Va8X1QPPXjW4\n",
              "T5Bmu4mkZ98ECgd93qTimYNMv4Yy+fFs12ze3k8xLJ3G31EAAAUnQZ6GRREsEP8AHYkh2QQ7TwFj\n",
              "ZqHplP4gA46RwG5GJINrS53g6L5Ld/PVFT3LKQH3A8MZ6pc5hdDXZpbNlt263cWhqAgIj5WbjEjd\n",
              "DygvXwMawTw8bXKYqKCCb8TEdSA94Lga67ZNthXXGGSeot6X07HBIaZBH69S3pe16WADQb3tJ2Cf\n",
              "0MEcc0YrnjzPcQJmqrqFgltz6XnPvkN0Af7ooRi+ZQZRZ/65CpRmi1Md5JmmbP4TXxj8tI8HCBXM\n",
              "xwSeccRPxVQ8PhZIUzSoo0UKxG3k5eWYhfw4ZlBXIT5/xHzgiBwSglVLQLasDOhmHokcdxaknwcC\n",
              "gqsalFqJzV0SqK4A5bDY52e5pdSG1Rif6jXsPS+id1jFKgaDUVmd2WxQ15KQ2HrnipA65BWZjDZ3\n",
              "Fs0aDJVM0i2e1qKotSOdkaMgzzqcOdVoZXSAk7CrAfZjqhtdPoBsCsntmzUSjcizSmBengY0ylG5\n",
              "QJj8IXThrc0oiRold6/7yCwD9tu+6DltWaOGadW3c0vSEAGPOHI9lo1eiuZAJXNtzw4MDB+TjWAm\n",
              "wPXiOuCm/BGQK4/cBUklpYnkkzvMknGmEAXKd5byzHd6Fq2VamyhY7LZO6nkN13VhSp+4+akS0Js\n",
              "i3FTCr1dkA1n2dB1sSEJK0eH5mKa3gBRF3wtfSBOle1w4ITD4M6MWbQN0ALigcjIy407VS88eyRb\n",
              "2zzK/u8RKZ+X8BUkXquPlftzQC0PVj8/p64kIgR13XSfLWeEY7vNP7b8e2n1Yr/fgN+h/G/zJxj/\n",
              "PmoQCR9XHcmL0d40BT0w17g2V2ND4UtuO4vCScMxNKn/J+Nf7OOOu7s/wHUqYf+tbQ67UPQOQckP\n",
              "zYv81sIJHw7A3zP2LWh9symqDqgPj/dvTO2TGO+9gKQGgaKD8Gr07+U3Bvcqvzs76Bm8a5BbFJgh\n",
              "RMn+BRM5v5rM9PaF34DTwlymHin9u/Jc8HYNx7B/JYFEogxA7jDYI+foTdAzHM+eIFmz6vTEJ74F\n",
              "u+YIOXWXNuMMHT4c6pq+vLPIvedq6u30f0AmWRCeEi9pAoPIjpZYpa5mnjIxuuXtmf8NIKQ9Ky7q\n",
              "TJtJN6hawXvLgN2IuUeiLKuB9L5+DzcB5N/HoEGCffo9YUVMYqymu6N1mV19V5CDu+Me2jgCZjAH\n",
              "DTBXfgWnyYTWJK7nVkuC8P/jMz/+0KfhuXLIljK/6A3EGxxXp5EBS6InKilpJD/RSCAe2J/qZIqM\n",
              "zjKn1QayItxTELTvWMmgDfPJT/GdeEz1IooWlwXHv36vdignkYnCxvnsHsBEjvbqHUPclbq+t8ZO\n",
              "uQgQFBTjbC3VC9Xiz5vyn/otaLbnB7Jx243Bj2Wv5v54iyv4oVOcGQRz1+wGqXY1N7xbvYzmdW/s\n",
              "M1+GzOtpTETOsmV3PFlYlhAb77a8ONrrodGmqn/cx3C42+gPOC4JXesTPi4jlrnOP23D9cCo3ndp\n",
              "c0cOWs+xZks8hSShWroH7EjNFl8rsRWcWcRFGhyazuiM1+DkmgooPjn98t9UKQFSf6bwue2IB5H/\n",
              "N1AIzHx5plfBiHAkkw0bs+lKw4ya5AUMSFoeZ5s491M1yCzjbkL4MsDQYYPntXF0M9cvDkumKoxr\n",
              "23aoyLQpvam3rpLzxqSJFcJSOg5qUB5yZXkj1I5UwPOfV0s/XxpK3IPdV96NebjNaW6Ht0LxnRhO\n",
              "rBvo5vfr8Mn2P0IGdITRZ0/HK1pTsZaRwuCg75oyoQLITyx88I7b103w3iPQ2YEAAASvAZ6ldEP/\n",
              "AG+pa2CAoXM1vFUzIuSdfdxithpqFuGPJZ+buEKRRughjr54lR5YU4kJN+tSNZL/jzLkholAfn5P\n",
              "pYUxrspyZNXk9hrHlgQYUf8+XAHznP+y2PbrMSXUcnYGRI26iNEmsKtuyYCXMtdwrQZ9hFjuC+lK\n",
              "CSfIxwcESQz+swEy0rJBWEVYhu8rOWVAsJldV6zbcbRvrk36k8nGoOuQOnHjn8kTpzryto48VAlE\n",
              "A16sRbO4YP/o1Zc427+FCTS205CsQEPuIibqaUaSsEq2QkQPTboICHkCKn3LNllH5WFAxXT1uHOv\n",
              "nsrXqfhHgBUSjft/rSKN1/+j58CGcc/jbzUiTHbGt3pMQ3O0jdh84NiGjXoxhet++W3PTJaULUlh\n",
              "Hs3SapnaH+xoee55kqFkcBZB9FCLgYWYWUy6ElEXstMU3HeZ9DlUxnPYYXd86KNtyctjpJqH14xA\n",
              "tOgBkc6kinVbuxoqjbkO9FkkMDoIZu96oGa5EOi/uWT5NJLkU5o/f0aLEwOFpKJ7Z3v2RAmkVgGa\n",
              "aHS3DjWHV9hu/yr73AjO9hq3UJGhfYPVuOUViiZ6czI/KjRa0HtHuZSYZM7ih2lpSEYicwQawYFV\n",
              "ROUoqhSn+5F5G98+SGof3MZaHsSY2dCSOzkvXZPoMOrb+RTzcmu74Eib9884hTQqArvN1PAuwUV3\n",
              "Q2//TrLWqid2Aq2BG7/cfrVllgxdqoNcx9AQ1QCIrVEkmuqVOSGk14+uF9dtsTf1QAaTHGTzcsJa\n",
              "EcQc2Xd7p4ymJl0exG4gWwvtKhfWynqn731DtzegxzJGXFQT8UKmYaBOXmzlb/Xf4IJ/zaqyDOo1\n",
              "LS1DL2Ld3n58eOCZp4bwBUZQuPrhS0oF+pScpXEwLoxxcTG0MooXu+RqkW7nKnOR17mSx5Ebxmjy\n",
              "gVPnQ8SGqYBEVcxkqHlOzTP4GYCYkE5Ucu4cJMpI/4GrXZIn4mQG4i6mvjSLTK0T09o3p1/DMXDk\n",
              "0Rz5CX7M7YVl0+AvKhGnXLc80pYTMp9IW8CylXWGF8By4zRhgbFSWeqv4nDx6ZWLo4ZKpc6IXR6E\n",
              "f81HjH96dIw7WG3h9XeQRGLvDHIpWp4foNoRommWLVcoWl+Sn5eTdN+dA4X9/9bzrbW3WvOwpFAk\n",
              "2K551dlzHfxSJbsH1XScFAHlN6egT6RVMgcOpldpbmEnQM66zW8YPqcW//A/cKwPvFwnJeu8MHwW\n",
              "1ydgOTKMTbjwz6x1eMjWFxrdjDkS2lmgQlUmW9cnnpCh6yNn9S+NLl0/llUtDrKfhjQ7XZMjlVRf\n",
              "cQlBx8WHrXRM4znnAuGRo7++tUitNkE2XeXX84R4ErdsRvhbfHr14lcEUlyj3swa8WDkj/5vVkhc\n",
              "WH2aOoHCeTOPh4qjzsiLC2WWkpZjT0pAp9vQ13fYaDoosKUniiemHLfpwuuJ4TI3ueuHIVCdq2ry\n",
              "tuuv5w64tj8h2getjXlxpB3/YKsRII7IC/i9m7pFVBByMIbAyHVnJTFIB1AKW9UHaQYifD7CXTcp\n",
              "ZbKV6GjUriBXg+0fJEtrtKJP7bdKtqv8lcPgkhVrDpZoY1Hy+vbYROMJwpLHLZ1Ge7mXCBkAAAPM\n",
              "AZ6nakP/AG+TxS+tg6p0WDXqU2q9UJYiwSWxZw280oNdU3cCBJjhQ5T4rruCnRb8q7qRfJQ3PPJz\n",
              "//wdd5UyszxADsGuZmT/6mym2PFAydx/rYz/N7oyvKJkPAAPxjcvIgsc6c7Y6acQAmc+/KEl2kgI\n",
              "sRhiHyf8w2L7Mhn1ypuxodZSO0761xGa3hkJUIBEbgUAf7cgHKc+7Rb1JGaySejHxxXiFnbWLemU\n",
              "Ck+CYMlWW3FozcCjkhjhH8AV/AqbzrYYODgzBk51a2XXrNwWSFaojVF6TKS61zaAIDtDuhGmK4cA\n",
              "MPVXLYrqqtNABAbJoSqSLm+65AOpvfc6qL5UHs3FibayZB12rr/gtjifoML0mkVD5hzD8EGb4Ama\n",
              "zG1wk121J1ASOso4E34AgxKOHT7W70moY0RLtvJqQJdQuX6PoT5cAeE5lveykI3MMyoUHvuH6iDx\n",
              "k/dpkpHhHNGq9XW5ykwAZonEvdB79yzw5LLD9Rxo3gSlKQswNlXvF9hbcgPrn3QGa8DUV8WDbuhF\n",
              "2/uFLmcnfnVo6NUzRXVa0GBomQ3XU6/w6wmPAKDmVYN25C0eOpvAGyCJNti9GR9Co4bvuCY2+Lye\n",
              "VTqWNHL7breGWnPJkAkV95WE7nBgBQzZr50p+GA00o1KdZmDVeX6gvoh0VPmhuOdY/JIuqSlrFrj\n",
              "cZ0BJ3KOHy1vOTLFBxjyKKobBf8PsKwrshxPueA+P+fOKRYcWHKC/mcDWFlLadf5lmxsgWcgVN5U\n",
              "zy9BDb3dNJzOmqgB9Sxq1XIrMkdVipnOFa2Z4Wm5edA31IvAmsLID72uTYLkTgLIP34xx2vBEie9\n",
              "yA45Udn1A9XftiBY9ZPfK7S8ylxlnuu2vXaRiht/8htJrW4ALm2WOobho1PZY5+GhUburYNlRZ4/\n",
              "iLc5e20tkdS4A46UqI9ysA85a1bGllrg0hnuDrd48RlTmFK1rBXbyVmpUkyfujtv9BqN9qMYlnz9\n",
              "O7kFO4fsOAAw9SFdsJCBWw8mdIq25xhv7qJ/w+852McIrt4JbhqeMPacFCKQ97hGmXLCQnxNbDoY\n",
              "3HHMa/qOx1n1Vueh4uzyrUjFCTSe6WHAztaG6r6y+c7VCePs2aN/oS/oZxNBUcqqlErYRNhG4kGv\n",
              "MAFqdCrl0Ht9r1QCTSV+xd4cKtWpT7Uysg3B2EyGAhPwyKw199PpKkZbnOAZVTaEnpu5hVk4CPEV\n",
              "2E/DfXzIds337tgo2X7FsEdv+PPCjsN1TXkJhSpNb+h9MeFadr/RJBOeSirJCaAwc1K95pTCIXlp\n",
              "ojjgAAAFPkGaqUmoQWyZTAh///6plgDC2bk8NquBB3DIfSxpnM+bcqxKLDdtv/DMq8JdCPBlvqqW\n",
              "qMNvE9yXWHimB44bvci47jNh3G1Df2gakvGTrzMHRBKiX2EtTevp1Y8Xi5KxmNnWCH1HaqgcEnDC\n",
              "PCZQitVgbXuUuDYy88TQXB9axUC6XIBFiZ7YCX9T2NCNelYP3W++k7hQkVaOYjClVmxf4GoqoYdH\n",
              "jIfAr+7aLjvxHCxD63180VLatm0+PxeFhW1tDaK1Ha7wfWfSe9JG9IoBozHH2r6b45uJTrVjrMBX\n",
              "U5N/5PJILFIc0ZZCmDnA3qHU1qCyaXQOJVcfIzH0DEQ1JDXgd39RTGlaHz9BwVo8EZcJ6lA+5Ni2\n",
              "L4xAZxGAWL2lbwHyy91rxh8czij8y8JTVJZz66wvPg7x5W5E6vo3T4O1eP4B7XwqmY5FYVnZmOWI\n",
              "pLz1rcnEFqCVJT5KWM5K0jEzmSLKquV/hNWMlqY7BSYzYhJJ50eUkepBpzW7Y1PCs0VjqhdNiiPU\n",
              "shVfDDnkuKwHyK52Af7dzbJMldqN/XozOAqN2UwkR6daFkPORVS6SNYDq8OkiWgw4kjPKOaarOm6\n",
              "d1hW7OVFdz5nbAw0ZJ1n3TQLmaMETWhH0gA+/Dsfd2M4FdluBWAu5hHy/FzNIm6ivKgf5IoIzRDm\n",
              "HT+K7PXQPI9CXGmFmms8q32hvfTRm6+oAu7JKuS4P/sB5wxwl0Iac6l2qlucdVkCubeYTpQHl3mn\n",
              "sADLTWtKW+RhJIQqy8Hw8WYWDMkRfa0oboMoLqAitwOq4cgh1510k4csx7Jg0dldawxax+F2lFUg\n",
              "ehA2D0cKy+fFmKdC88xIYA9/u/rzgnVraTMa9HXp2O1e4XdYO7gIbgjp3YeJUU1ALmOOIWFvqSUV\n",
              "P9lhqht27P1N2goKQjKm0kTZKCKlCi0W6wSsxdwOr9vvjjZVeM3a5BXJBLDhS9yy5deACuhL3HHP\n",
              "JkvKM+iH36xutPDt10xGYKjO/HD67Yb69uBzqNnXrC+UYq+EbF3APWB1Adk1H5qtgQh9JH+5ZITh\n",
              "rT88pZenEtwRyVSEOafY0aJ5gPPy0qlTwhxvK3B1T0eTmC3TRXI62glU8IcZoJuAHvEgW8ah61/Q\n",
              "IgIL2WXCSAT8/xLy5YLzmHQ5c6mgxis4Llw0sAyAJT8yOq87PNifbVRrOMa0XU/IQWXHQGUepfde\n",
              "kTAUB2mcgUhM0/NzCSal+lmAgl8xfJhsC2YJl8qYjNOUhHxQOwCMQkX/cLiAL/qndLAoTSHwjB7m\n",
              "5quzA9HTrAufmiVlvljfs/RW9yNe37Cv2OeuCs8w2vvhhVRGtTaiz6AI8iOjvEw1cOngMI3jjdqv\n",
              "sZ0lNPCHVvO1hrE7N/Jnu/aXj390eSR1DGFo2zqdXwGZFJipuCJCbwTDLm0bH4D/XUEWVSuUaXNK\n",
              "W2FHqBiPNr22c88ga6GiHbIxsiAg8jJPma/QGTkdlUzFPf8qyGi8PrcuksXsXogX4TKsglGxchaq\n",
              "BUreoiQ6AEvOlR1YJ3Y7rW0szGpwL06ZopxGlerrz398I8f4sn2U9nMhHZIMf5ZVO7K9RUHXrFQE\n",
              "yX+SQUXhhXlUe//1dTPaKDfsCJ+KJUItHWA2yK48G5u1C9J/ywNHRw6N/1ADuueulFLIyJfgbZO6\n",
              "nDtyKOMzQne3pqhIjhA0XRsBoTpjAsGhUXx4lMmLUzmL6a0fd5SUxOGyGNwHduuYeyMcyzG1Gv1O\n",
              "otJGaw4roEQ5Pqndr+P+9jHcsU9C72NcBvhm8EPPGjD0R27k/EAAAAOmbW9vdgAAAGxtdmhkAAAA\n",
              "AAAAAAAAAAAAAAAD6AAAB9AAAQAAAQAAAAAAAAAAAAAAAAEAAAAAAAAAAAAAAAAAAAABAAAAAAAA\n",
              "AAAAAAAAAABAAAAAAAAAAAAAAAAAAAAAAAAAAAAAAAAAAAAAAAAAAgAAAtB0cmFrAAAAXHRraGQA\n",
              "AAADAAAAAAAAAAAAAAABAAAAAAAAB9AAAAAAAAAAAAAAAAAAAAAAAAEAAAAAAAAAAAAAAAAAAAAB\n",
              "AAAAAAAAAAAAAAAAAABAAAAAAbAAAAEgAAAAAAAkZWR0cwAAABxlbHN0AAAAAAAAAAEAAAfQAAAQ\n",
              "AAABAAAAAAJIbWRpYQAAACBtZGhkAAAAAAAAAAAAAAAAAAAoAAAAUABVxAAAAAAALWhkbHIAAAAA\n",
              "AAAAAHZpZGUAAAAAAAAAAAAAAABWaWRlb0hhbmRsZXIAAAAB821pbmYAAAAUdm1oZAAAAAEAAAAA\n",
              "AAAAAAAAACRkaW5mAAAAHGRyZWYAAAAAAAAAAQAAAAx1cmwgAAAAAQAAAbNzdGJsAAAAs3N0c2QA\n",
              "AAAAAAAAAQAAAKNhdmMxAAAAAAAAAAEAAAAAAAAAAAAAAAAAAAAAAbABIABIAAAASAAAAAAAAAAB\n",
              "AAAAAAAAAAAAAAAAAAAAAAAAAAAAAAAAAAAAAAAAAAAAGP//AAAAMWF2Y0MBZAAV/+EAGGdkABWs\n",
              "2UGwloQAAAMABAAAAwAoPFi2WAEABmjr48siwAAAABx1dWlka2hA8l8kT8W6OaUbzwMj8wAAAAAA\n",
              "AAAYc3R0cwAAAAAAAAABAAAACgAACAAAAAAUc3RzcwAAAAAAAAABAAAAAQAAAGBjdHRzAAAAAAAA\n",
              "AAoAAAABAAAQAAAAAAEAACgAAAAAAQAAEAAAAAABAAAAAAAAAAEAAAgAAAAAAQAAKAAAAAABAAAQ\n",
              "AAAAAAEAAAAAAAAAAQAACAAAAAABAAAQAAAAABxzdHNjAAAAAAAAAAEAAAABAAAACgAAAAEAAAA8\n",
              "c3RzegAAAAAAAAAAAAAACgAAE2sAAAbvAAAF0wAABUkAAARZAAAEsQAABSsAAASzAAAD0AAABUIA\n",
              "AAAUc3RjbwAAAAAAAAABAAAALAAAAGJ1ZHRhAAAAWm1ldGEAAAAAAAAAIWhkbHIAAAAAAAAAAG1k\n",
              "aXJhcHBsAAAAAAAAAAAAAAAALWlsc3QAAAAlqXRvbwAAAB1kYXRhAAAAAQAAAABMYXZmNTcuODMu\n",
              "MTAw\n",
              "\">\n",
              "  Your browser does not support the video tag.\n",
              "</video>"
            ],
            "text/plain": [
              "<IPython.core.display.HTML object>"
            ]
          },
          "metadata": {},
          "output_type": "display_data"
        },
        {
          "data": {
            "text/html": [
              "<video width=\"432\" height=\"288\" controls autoplay loop>\n",
              "  <source type=\"video/mp4\" src=\"data:video/mp4;base64,AAAAHGZ0eXBNNFYgAAACAGlzb21pc28yYXZjMQAAAAhmcmVlAAAjVm1kYXQAAAKtBgX//6ncRem9\n",
              "5tlIt5Ys2CDZI+7veDI2NCAtIGNvcmUgMTUyIHIyODU0IGU5YTU5MDMgLSBILjI2NC9NUEVHLTQg\n",
              "QVZDIGNvZGVjIC0gQ29weWxlZnQgMjAwMy0yMDE3IC0gaHR0cDovL3d3dy52aWRlb2xhbi5vcmcv\n",
              "eDI2NC5odG1sIC0gb3B0aW9uczogY2FiYWM9MSByZWY9MyBkZWJsb2NrPTE6MDowIGFuYWx5c2U9\n",
              "MHgzOjB4MTEzIG1lPWhleCBzdWJtZT03IHBzeT0xIHBzeV9yZD0xLjAwOjAuMDAgbWl4ZWRfcmVm\n",
              "PTEgbWVfcmFuZ2U9MTYgY2hyb21hX21lPTEgdHJlbGxpcz0xIDh4OGRjdD0xIGNxbT0wIGRlYWR6\n",
              "b25lPTIxLDExIGZhc3RfcHNraXA9MSBjaHJvbWFfcXBfb2Zmc2V0PS0yIHRocmVhZHM9MyBsb29r\n",
              "YWhlYWRfdGhyZWFkcz0xIHNsaWNlZF90aHJlYWRzPTAgbnI9MCBkZWNpbWF0ZT0xIGludGVybGFj\n",
              "ZWQ9MCBibHVyYXlfY29tcGF0PTAgY29uc3RyYWluZWRfaW50cmE9MCBiZnJhbWVzPTMgYl9weXJh\n",
              "bWlkPTIgYl9hZGFwdD0xIGJfYmlhcz0wIGRpcmVjdD0xIHdlaWdodGI9MSBvcGVuX2dvcD0wIHdl\n",
              "aWdodHA9MiBrZXlpbnQ9MjUwIGtleWludF9taW49NSBzY2VuZWN1dD00MCBpbnRyYV9yZWZyZXNo\n",
              "PTAgcmNfbG9va2FoZWFkPTQwIHJjPWNyZiBtYnRyZWU9MSBjcmY9MjMuMCBxY29tcD0wLjYwIHFw\n",
              "bWluPTAgcXBtYXg9NjkgcXBzdGVwPTQgaXBfcmF0aW89MS40MCBhcT0xOjEuMDAAgAAADvdliIQA\n",
              "Ev/+963fgU3AQO1rulc4tMurlDQ9UfaUpni2SAAAAwADjh6zXRqSe8Zvv9MeXfMARWrHIMlRTMPY\n",
              "gEcB0BZrdo6EcOuQZGuJBFQDIZYWovbrr++cy8gP8CVkO/Q999knMD5GmrWPXD/zVlYJVMGfFKT3\n",
              "/mfeYn2ZkcrB/iUNLhAhCvIQIET+hwjpGnAmKNQVUPgLG7hLNEmRLSjUAF65mzzBBsDphe776B/f\n",
              "VOWxWHhDFnu1B54hJrlLmPTTM5R10rjLEeoyxcE8MQyJv16M63NKeVMDujrYUe+oMyadXmvWi3Fm\n",
              "48DZxOOYKIm1/MvVg1S8hB6WSqtZto+oNvg07URJ5otmZMs/yehkO5COd3wR24qzwG0P1rC+XK+m\n",
              "MCI1dIz3rNoYWm4yMVCU6pHw1gYDfNY3ItPBWHQ/dbHJa4dsNEUazilG/qenU0mvT59po84AhPyG\n",
              "lwsYPvv0OE2USLimpRfX4tqF3vbzcfP4tRt1hlo+SEdT+mJCAH8CBndDwuAPDxtd1U2aKFl6t6/A\n",
              "TW2DifFIVmgNud+g9uwdxXh+TfgT64IyxxDFvnFV9CY3qirpgCheHvkYRB6IVqd8Fdha5mMI3qXu\n",
              "vLfj+IeZpQbHtUV4ByNQOmEkfhEgGEjgqvcSmNdtJIiLdDElpExaUXvHg2tujoWlElbX8gYY5a7D\n",
              "eHbvNhTAWPWXx4+evBmHgHPsxA3QVuxSxqTZs1ojBr5fcN5nhCvVQJFGP2TMgG8bOEQy4bZuGhw5\n",
              "4kwnWme6mmiWcVsWb6kstTV2zBeESxBc9wRQro9Hn9ZeSR8ZPh+Xs6ry9U8SEkt69AGrDlNxTCu9\n",
              "7/y2MIYdKaMambxxDpOEZQUkk0sirokmPo1bWlEsRccRKh5l1KMMdI6t6lrFoTCxGWTjyqY4iIM6\n",
              "n4mRjYzzKxt6IScL0iJelGpq2atMqedzBBDUntwo41mqkZSQJH1C4uSCQuB7gbnzxExCzGGwU1YA\n",
              "6GaPbjdbcp/X09r1kkJ/zAfZy6yWUZ1qbuU1DVv7ldyqYqMZszdtsRUWKnZLvDD+L1e406VcKbnJ\n",
              "/bwPr0eefdprssTtGzvSomPGv9os8iBPiBG1+b9C2DWHEANIPIXAM80fWj26wJAKuyLRHIDqVROu\n",
              "VuZEC40p3tGTF9C00Ql5jdnRqCVqG+K2J05cU06+3quDRhFWmVFeTV8yu8SCLfPXO1FKAYEubiBD\n",
              "3/tsMNME//LQXm2czRKZqp/Qp/o9+8CCysvwmL3N/JF3JXFrygXEaTrGlFhZ/otiLlEYYU/ZjNz+\n",
              "NGC7a8X/qaKxIZNcScSGKVN1apd0ZsCL6S6+JFFhhuJbMF6oBSEx9W9Yri9lcj1IZkqsEonSpt+h\n",
              "/QMQHFPRKMDozY7AJYdtGML7wL1aChTncAyiq31Rwl1+AwBlIkys9EEbbRx2HTSNhDI5XvkCb8A4\n",
              "c3vIMM/SAb/QgRn8yAehYrfoBccBLisZBaf/DvKmhDN4XAfwoNzCRpqzDLQPwPajRuUU3mpRw3kY\n",
              "UUpvOa56sfEFMpjWmJ/2mFGRc0UdYa4zP16DdcMq9oekCuNGA9xfDK9qOcdQJ23eWJvRnP4UzcBG\n",
              "YAcSAT5y/KQkWGijqd3N/XL7BR3ioxc7Iuqt/QPdl55OXp2PbLssJgCrE0az93lMvMIiqxNzaVMR\n",
              "EP4iN1Z2kfBC4A9cHkVf1BvVl9emdyWp1NzMQ7I/okke3pdd26xWHAxXALE8/9P3ZJbDpAouT/Tv\n",
              "gM9IiY2OktHLSta1ZciUsud9Xy70OQWMn2v+MaqTbNUtp7UK5nvU+Ij9GF1xPWwMTq3WbwA0j5w9\n",
              "ckMrqkZ4Xvfuut40wkSrGflhPCOSlnz0ZWDtZo7qbJcSw4phx8kQJ51UMIUjpsA8n0RGWdTbtyBF\n",
              "6XMXkCgHyTqewqwINSBUAw0ul+TmLkuy1/rXsAP5NvII7a8R68JPM72jyHFIV4PwCAgKY0kIYVQo\n",
              "hM/Y1Gu2dmSKVh/szbUOj5Lr4yfKNHMYjfQyAh0K4HsmSd0GT/5UWWHXhslP9UQWF682dayQgDuc\n",
              "1jr0BBqHtWhNWgMImgPyY9hjVFOGmZq1En6v+LMVcPY1KE/UtC6oaxv5TCe9wlOBR8WEjNJiezdf\n",
              "dLAdz+Awh0psCeDz6Ni6z9PFmeDUKHI3k6MB3PCyK6Ry9shy2IR4tbjqU365ptnS1/StBGzo4g84\n",
              "1Qd6HD8STdLszsIN+VW/2GHbm3zXdD9S+jVB/uuvEftC54vWxUYptDon7c5cSQx9r92D2j3QT3Td\n",
              "zOxkluJlWEjMa1NEBpp2jcs856mFrx5AReT/Q2ulj0+DrB/JZjxeLgZdLV8rkBOY6MvH8emzcRQ7\n",
              "9VXX4WBBhad66FS8TeRcF80hFEDIdQMNMt+DhVzPL9EooKhhZKwjOYaMCHxljL72jqHka6P9JC0g\n",
              "21thFUYVnYch1XVSsiTAIoiJlW6tgKd9hFxbTGxbESLA6hC1Fo8/pJTzJihcvy5LBAcBzsR922UA\n",
              "kER+RFzDUB2nWMe5qYSPeiOcLVw8hYVP7FAzhWTFK5tM1JRgAnkZGzii1nl0lZQ6xNBjwtS61oz1\n",
              "iX6T1vEvKxkTX5GmLnF0T2IEbioPmjKdAhFhluOI9YzQ6tJddXELSDYH791EuKs6/YIoXqI3IM8x\n",
              "R1SOCZqHKnPa7tMggme4M1p/EEUCGifIY2AYTqZ2h75GwarX1hu/wZUhpVqQ4XPm4fyo5aRz5wgd\n",
              "eZUUA7vtRE644McWO02VLyQjnBShSWXCMELeaPqKUA23Dm0sVSy+4OHnN5gqoFKboMpG5RLd0Zjz\n",
              "SK3Tt/JjCNAw+3lHFbR98a/0lnlVEddH9hDU2TmQDiAgDLZvo99dKd5UjQAe7TsgzvFCXNWJ4VKQ\n",
              "mxkAv+SBe9JxEc8xVJLjmYBGLtILUMuJC4HXOITG5KQ/X8mRDYOpa0kJevRSJcoV1MRS4w9wPWO0\n",
              "YezNmEbvZ4MSF2RSUlQmzuj/jJsojlkUWE3WcQ2HhBVjJkFuUG1ujkP4GOQWOdV7/+JWITI7r78g\n",
              "lL4sayGJo29NqQ4sL7wOiaEo9YM4YRC0royndTWkNwveit+xtQ2kJD2seGNDgjtLwGv0oiIkj0G3\n",
              "iBGGxfCK6AZ7gWW5TWY9PMkatVMm6W9c3YveonhHnpBz5vTPJFIldQDdG3NPb8HTVhG7kOYAUqUf\n",
              "QZCvoooqrL/WHdVECZf4bo7ItnMnkUGDaOu/4gzK3d/yxYcta36tUG5mhvzUtHVt36iE3CTH85T2\n",
              "aBFtGw/vHJcG097+8EoAoP7Egy/2F0YtUWs49hW78b3zTozop1hSuA7kxy8wRl5+ShCb4ZpwyyEg\n",
              "nhQqzA7ybZqv8tVSLQfuKC+vidlGX6A1CEK7QcIyaocqDpPaFA90yNCVk1atH3j2wWsPJU7EIfsF\n",
              "OKv2ggy204N2oOHv/X95QlM7oAXdVhjDD4WlTz6O4tcySSBGyEGejxmO64GrrjW+GOTfcywJG7F1\n",
              "ZYCYlMD/H8L5UDzIehoKpzpeaENYJBZJiXs5UQayw9eEkwPRuu0uFYvevL5VpImCTZHlB/+Z4WSD\n",
              "457PWDVDavMVLQ/yEthebuT0uqIwxmoDNI5FJhr05D+e5u424cBaPuzYYLeapCfRDfOw4IuGxqHg\n",
              "ZkJ8UO39ovKUMEZ5eo1bHImzGqK0LVml/c9rhoYh04oZ0508Whc/oW4NyJZMEGNCMdXuhO00oIYr\n",
              "Aeq0rGNoUJPRTq1q4emFhw/TGSjFyHbbVYGPG7EYaaDLCoqCD8MacVZAy4bbs2eZ9uH/FEjtBfBi\n",
              "ijayj5RS9Ah8bVzdX5pjRiopzIhCZrkkKA/JbuAEw8FcScDJMgpZEG659tLBEgPD9G88x7QUZeld\n",
              "US2lVCttcJ0RH0n7HPr9C46398PnV7Stn3GPxgSzAjeMZZ3mseI0YR+fKvlUqPd+bziRiZPx5EK6\n",
              "AEzoFM7KmTADTqAOUILzXtcQCAsB24hUUJmLXql/G6TG2D/ma1VHhl9aEKIAxMuLEkTKwSCCpA5C\n",
              "GkOiqiNZ7KiTJlF/JLwNI6Uko1/358oePdEO7udDoukDe4rDxF5nIt/sC8cqnHrpdctqCcVmiMWI\n",
              "mFx+/6aq/tVDiqtyL/zP2vrwGj8krEpc2w8i57ZglqE7rQXUPGckQ8iVP7jvyPnKCbZzV4n2+a3q\n",
              "idwDirBMxYKVFTac5sJMX4dQnsi4qFMfnnH8go73+qThnCLTD/WjNiuGZloteTDeO6gkHVAX6lVa\n",
              "14gLvvEDVCxVRggSXBq8xoqy8S3TY8Wg9c5dFK8o71evLSkClOVpqRyq5poUeZwOolKsdFmiESap\n",
              "DJbhAmTsUfsNfLYPZ000327kBnBz6nukO3tTjoLovUMnvo+nevIJa2rwIjBsn1i6gAYbPtaRk8Zf\n",
              "tcTZzFwBgiLTlhAHC5s6jr3OpH0ISPgWanr2oBR6ur2/sNV7oKqH8SjbtfwhSxVmtXxxS7SPl1rp\n",
              "bcKp7NSvfdnx3FQuI9mLM2mamEx4WFiSqpQW7uM7sVUTff+RKKnIMMKR/BgiCO2SkXZ1My5pzdPh\n",
              "kKehmPfczLFEKKQ9D7lZmw6cWgM4yx3o/5BsoWihanjTRDIW/y4AWGrn/Y7/EE+kwgC2Kkilv35h\n",
              "3A3BbW0YrJ01r3fEQ2x0xAEnUzqAw4NHqOrHSXx///BgQwFGv+J5To9n9vubi4FgWqFkW6oz8d/L\n",
              "1Wt7zKXojg8dIAgdhbYW2x3n9f6GMw4D8dI6bxT1aI+QcQ2HkgRU1Uq77ofGoR4mH/uenJ8a2EFL\n",
              "TSkLdkAHejPcsX9TQ9/MwLT1tvq/N3upnjrqazq6D1Vp3+yfgfAXMgRIJ5mHDxAlCavXlGMogug0\n",
              "Qw8supvXxCuyuxqhkGwEpl9EKYoNurfS4pLV7b8mIU5iTPRchDVfIZ6Z41vRHDnw79iaszWg5Lcm\n",
              "XcP6hDqZTS+Vxgco0hgPgd3eDqzNYsugFWvI7oWvBRHR0/MBBvjUaWOgMpoRFf8a+1XtpUWm6lFC\n",
              "g/kOifvZEJ/qrwruUUjOhaO8HzWfSAVz6xxLA1akQhDQ523HjD1t4myG+Hc+Z7U6W2WKOY4a/r00\n",
              "wgZf7NAAUsEAAALWQZohbEEv/rUqgBx+h/wADVZ2nacZrhaI0oMz7Nx9kD69T7kH9cVbWGD/HAF9\n",
              "lzSh6cgQp9Q9C3KrQFan/i8zYQfywCvMcU+o+ayrmtzyXEBKfDlsVP+sFf35AoG9l5PMUTFS57M6\n",
              "B4nexphEl0Oe3bgD6O+YPlMfnCxyGntxKfLQa5x1MW4iDiqpg//hHNqJoH7BeyACl91YSAR0mjI6\n",
              "RoDO/E2FDowLZ6K7np40V2byZ6KQm/Z887DMFx8arER77v7jXuxPsoR/O6ffvCabjQj9plOQyFqt\n",
              "DQCQxZfDp9uXqFtPOvycTtJnPUMNkeC4K3yMEibm7Rn89FNn6qfT1T49WYGCLcWodNr0XeAtuUzn\n",
              "rNpdXLMAngfbWQOSmWyJqPK+X4GZl6iN7KyDRLpex1ki1ryraBWzSIyvyDzMpsiYIemBFWGZOQlg\n",
              "CVKbljLIyc9rZiSRqhZlI2sKxfnCUBv1GUfR2VMJuEug32kcTUqbq+LF+Bj5GzFd0TkjR64fTVvm\n",
              "yVVHY7D2jjJExmjEJiarmZGgXWegdcq8q2PWKmshFg4ANqmHz/8e0dh9OB/tS7H9Kfjy9IdXfL4x\n",
              "GfdMhs9JYE5Qb+hHkEDeoTVLfHnF3OZiiIXPtUR+vNUXT82WjaVLYEKBa8VWmDhhY6nAYETVOJeI\n",
              "Sk130oOKquQZrOx/yzfbuH/eNP/SQocpvNAA5SA2amvU0GNEWlFsJLDcDVFPWo4ZPt9JH3NQ1mc1\n",
              "z8UiWkL6WTA1YBJtjqnvndd+TGwGe5FO2Z/EiD5iortkd0cUoUZstO6xxaVM0kNH1D321GgpQAft\n",
              "MWGzorRFyAblL5DDlUqjl9cbYEeei7RaDmF/Ft8rMqQtjzk1AV8vJWo4AN6XI7SIL/teMQtn/4JT\n",
              "8bfeY/rqtQZAnPCNwCefiDWPij0A/ol4lWJcbBSPtc3CJY7V9NyQhVLsy3fYsyqCWqAea2dKAAAB\n",
              "bUGaQjwhkymEEv/+tSqACy/hTy/iHEzSp9UeYmIgAHNuBUdQDVmS128JIj7iYRsWcomE7K1ySCEs\n",
              "kt5NzRuS3YIz/Hef+ORlyK2zwZR3PTu1BHvpjIQGohMQVRwFNuxP8+w9CI/Z7xKRmkx9Comu5Fjd\n",
              "YaSoLUqpIUPdb6VuB8CQWja2WjVtVaedfgqi4R7PVZb3IHCa+/umVN6G9g6eRk7SZ3mD/AHPm0Y3\n",
              "bs//MxDp3zCDPraHwn059/nqknOEoJQ55hYlb7zkvFvs8rOVMM5WkjA1P+MOjhFwyJ9DNftdEykP\n",
              "YnnQ5nJhds1DUSZqNE3AvD2ynq8XGwD/bWqBheNv0vpxg2KFdgakP6oFqq+tp5VFueScPStCEQCk\n",
              "W3iflHMvAZpx0MUPJanhFQtpkqUWRy+M8t6Fw3MMouvu+lDRVb9YzoYsLzZI+qbmbaRLObLiMTV6\n",
              "ifj9hc3aBkSgyiBiOvUwTwnh0Rqh9j7ZAAABYUGaY0nhDyZTAgl//rUqgBbsrr/CV6EkSy/Xk/dv\n",
              "74H6LElh+keoO/uTNmbKEy2aNgApX3pOmFQNJwYcpaTRBTZAN+LewJVSrsggOqgf+dJbZyp5UD+8\n",
              "grQZ9lWuPGQR6dGFySxoAGG+zF6cnaCNyGchwxh1+UvhScOM303+XOsZscP6EC7zVrI6uYOicBFe\n",
              "ab16PVwKh+v71KiPpP4+qfyXV/y15Lzi7U5meZlVl5BEt4Qe413nWfeiLH7oYrcZdVf0ABVBwOGP\n",
              "0NqUwepcUVLCmQORGcB5o5lw5R4Cn6bHftkX8MCaWXkIB7ZnEXZRkWKi6T1juPLMFQci7El9FRTe\n",
              "kNiUckPlwOUnFlAWYjeUgZs1hER6YeMwTwO4p9aYX+0x2Rdjp2GdtdFgaGsvAJwsx0DLVVoqexkZ\n",
              "KyJ8SCpfkJuilZgSUKIBpNZNhhNxfcyR/7j6zW8udZxmwHs3sZ/AAAABxEGahEnhDyZTAgl//rUq\n",
              "gAsuRHrjhGwchuAD+OmToBu6g+aLbT0mkN9iVDe1J2e7jBPNMFKRw/iGCaxXUUIm/p18SIbjlOXf\n",
              "AgDQ69LrQ7EMdaevGdczT6gBkuO1nrxBh3tGfo6eSBNXh8M+ZK6ZQNnmrndrP7Lshs9x330BjCpn\n",
              "luD4i32FzsGvhSoBRx37fEuZ/7pRtfgJRKnmJtOFExWGJaX3VMCTr4rCM/bqVF+QLTirbaI8fzDb\n",
              "8Sg+hKXMCmrJao/9AHCm4Jch43cTTFYMyDamq6OGH5jfydPfH0fnEU5dQVbmlAg+dpAm1p4OUV/c\n",
              "ZiMU1zcWNlQZNKrvVscoszfI0cpuEaILAYmiWEdd63NuAvhiczuyXsMd8v3TvCXlgYcqH2GdHRJp\n",
              "AMJyHGl8HST6PWAKgTmATGuTBBjXPwhrLa5T7/0PN+c5QvMEfpL0oOqsVN/52bfeM2oPFClAtc7I\n",
              "NhCgy3gYKktserkDghDBkwxnaf9H8jjLRDyynFPSuRliiTM0c02bewfVrpWzvzwC41AquX4oOHJg\n",
              "2Cb+SKHfjfCgFxGBc1Qkec8FLDopUk8156SDRXueRphALlOuZduBAAACPEGapUnhDyZTAgl//rUq\n",
              "gAs3RvZvNG51ZrmRd+cAB18OSDuT3tfOpRgh3KxqB9T+KotiQibSteEh/GP5MNPrn2oOz4HsHIdI\n",
              "vQSZ3WlyXO/vJQtUx8IYfe0uxvbUAjazl5jyBKieNJMu5h7uKFbqOrRGAY0y9h5uDfufpVCYDkC7\n",
              "JNnrONHs+UcET8X0FitJ43h0S3xxnqN/NhgCkrQsHF4rQc3ohnh9tM7D9y08AQvMOAWBi/8BNbGL\n",
              "VObpDoMvnKxsQ6l4AXBFij22v2SltGMyMRLF6TeOFCPWl+2Lpv314dHEkrRxC0WyDejUvJTZsNi/\n",
              "w0qo79C/v56+Hp0E2gyVcfy1CCOysvFEmLaykJJBjfzErjMedj/gUGnFqwyTxUvrINQ8ufESqZA+\n",
              "9MAv+M7RcKRax9pGbwnkD3z0bIwgv8cD9ABHGfdxqYXdEK5imJLniFOmHXwoQbIyf2v7HfZzxsgO\n",
              "DFlppF+QpsYaX6QD/gm0jtYIVSwHVJN/n4wX5hbSCBtoc437fhUmVtb859xEKWauAHTHHNGLm77O\n",
              "pHP9qzjJZ0ff03PmcA5HWnRpJm8AGXeQy+YQv6TUIPT2mtGL5MKa0UBW7JqMjkVG44otAvVXnNzU\n",
              "NWSYeo4JeGDwUObzCJlAbtPASrroLVvr/Zib4GGt9y/TvsngJLIjRF7dRM79DOXWIYzJ9Szf69Oy\n",
              "wF1nnr2Hz0UW/5ifeK60TWXW3tBtLV/32wmpFkrBBS4y+VKFvEzOqExZG26BAAAC5kGax0nhDyZT\n",
              "BRE8Ef/+tSqABZvoMMvZsPuWoyg2ERRNPMAHEms++KJEzbx4Wd4FPYwHrxVefcB9LuEiMoAc6lRk\n",
              "JtK9F95DfSwXtufOU/fhvNMrsneym4hvjjWTqN8FoH6J8KRv4p2s9SBWii4OalL9eDFouUI+4taT\n",
              "OVhA5iiskWyJlLgiNXoFP1k2MfgyYimrWJDu3P0WBqJmts7NCd4LePUNiDATHRSXsQd/1vOmgFWR\n",
              "+m+ZD6iPgKrq66LQ0LZNu3DDWlGpegj2AJZ55lmfeHSw8hi1YSIHuCz7eQL9kIBKAz5/jqr/EzVi\n",
              "dasuOFN6HMLMjXH4vd+FXb50wHPjDeRqLaFc4o8IK0HKOb8s4Z2/yQdfDxP8Yf5wTR86j7A29c5/\n",
              "z5BDZzzZcPcuwzinT3RM8K3agRLgXMyr7o5jbKQf3eEv+xDlEwC3l9hjHjiNocWgereyIKlj8AAn\n",
              "qvd3gSwu81K7RSSq4ojIAVPVOYGfcqxl/7cuqD891ozWypVWs1BkEMUTCleGc3Q6smQJUrMNcDOZ\n",
              "ZzCfweN56L6mz07Kz5mB/PMnaMoYVGA6+R5jkS63dOAW11HTeEWKhq0+NNLXcnYxlgCyl4q4NCDK\n",
              "9Jc1HOz9xkH/cthWua4ZqFQdklKos9gVullFjQfwMfaJYdh/CfHjWHkdEgMWkdoBzZDy5D1MhzMP\n",
              "vkZds8oFD/VOZK6BEIk78TtOsk2IbUIs9jW4QLoyPMwRcaZ9DeaxFRF0ILX4ELkN9+Xc21C4xAbG\n",
              "OugSXS2BwMfN1ArhZ+MAHPeCsq3o+Bs2uTQhoGbKFD0SjowhzgSwgrBPtytkw+jGMDiec9eXuM/t\n",
              "MJIGU2RYYksdZnrbGkMgjxe1ZmPLtUrLrf2Qy6Cv3VuJtfC3TGkB/nhfo6LBurnEe188QYtC+da8\n",
              "eYbWFnBMMhLfYnZguT9+g1hf4mICVOuJDQRhjhPFFajSUjRlQpCmsJBFyaKiN5JtqykAAAG3AZ7m\n",
              "akP/AA8uEJ+h/qVbMB6RN95cnAA5clS7j5c/bmSbv2jlE71x5wIdNQ6+fnwjA7oEGeF9R6YL43vd\n",
              "JtjFdaKRpSceGb/rp9aivgvLruGB+X2MxF31wG9Fn8qZcuaEXKxF3fXJrZnsrcRzDpBWu35Fpf1D\n",
              "1ussrHVOXu39yuz7Em/zmcpvn/kzVvnagsZx+zPpZWt27YpC1v6cIqsAJkCj13RZGGdA3A5BLoDs\n",
              "tpsi5WwTEMpPZiG+qbwZodLajph2pk6/POA5Qq1dwP61Bjt5Wv8+2w14MfnM0x7QvDT+UMbXpD7u\n",
              "ZkDHtjh/BQdQkSKIHs3HhbMkotUK1/nlcMC3fQ9OcVkvRccIT+BAEWRubH7sjpD2j1QWeHkvJbQY\n",
              "3KRfpz4DRhOahNp7jHGLfi5LuGD8zUE1m8fxNzYsl3wpjgXK+sd+ct3UVn4gzUOp2Xj3VfU7F0Pv\n",
              "Xbp1A9vDCjl8j9fK6YesiRZksLA5R9VeoiC3hqAO/kwpJGviflZaQy9VMC95zq79DBNy3eObzDki\n",
              "DNBaJE3ZA9P9PgTIt9gvMNKrFhVvHu/qUpeKToXVSW/YrvEdkQAAAX9BmuhJ4Q8mUwIIf/6qVQAF\n",
              "m+L16sNLS/Ii0IQH/a/JtaYeSvKxRofj7y+b0endrYJ4BiyEGR0q+qxJoTngr1KOTJr7bMqPo79w\n",
              "Ala7LDU6NmRimTe/WPPBz2S+gP+iLut9XAABBM1MT6g3qbmm34WUW3vsz35OuiI8vod5uQxh3fB/\n",
              "/y8ddqN/G8KtRUFY7m4amMBKrKYgm+lK4RLBgLkINYOisadxe/uQha8FPLKyjjEg+/0mYI3kVaWq\n",
              "MntXAVJtGb4A5d1lQOYHZuriLunZ6+wbEofjGxPpOnGdC+PjxZJRcv/MCteVZHYR3ZOiAcUbhuhI\n",
              "i5iJhHv2ZX0+MdsceymaSHo+k/MkLN87McALxRrFRKnEPdP8l5GGsHFH2pKEKt3aHcUe48WVp5ZU\n",
              "HEpXySoRmhOQRO9KcQc75MwnNdbhZnmTMMqn5K4isYwWJ5+T1s3x8clVf4xFjXfClSFQ/8dRrFiE\n",
              "ANSqTOueBJen58X5mD+u6Mt9KmViO8mJYAAAAb5BmwlJ4Q8mUwIf//6plgALN8K2vD1Db3kPvNx9\n",
              "wSClv9pk1yrm+boXNE5VSAB+c+mX2MqGNJv+AAB2YVGU8ElwAFD/YsuJFCye/fbGXzCCfD/MiWLZ\n",
              "Zen/VY3FMrnfvm3N8msDNDOLPTRSBAN0XmuTxR+Uc9P3StIdxiLEWjfHovMdzHlxGBI+7W4bQr+N\n",
              "ndBARpHk+Hq4leOO64mScq6n4LWwLi4pVcZ/h4b7VyICkqdJJAGYs8aBMu7SmJVmnvPG1kABFckD\n",
              "lVzJtxFrVrpqcV2owaaBFsXOCoivkHXmjdQYUcsJVRfk4T3J4L1/LPq74NXBFCwwhroGsO7vHuGy\n",
              "Qjg3Wn12sGsiYRVFkrw1L0HVKQ7fomSgJrorFwPkGS7W0uAP+ZGMeXJM2+N6SUpEZGhrPnTGh96t\n",
              "4edaQGharJ5BgrFlYEMi8phUe1lMVJ0x9hjLJ2UHrJy1GMRPua+ilCGEyjWXUtcZJdTcvdkZUfCf\n",
              "npc2Lcl2x7PJcBYO7ZThbmw8GLO777x4Cp7EZak/qFckV4o8HHfBU3MLG+uqQggquYoHcJiPREFe\n",
              "ti7/dgUi3bH46a5w6VWLI8wc0AAAA3Ztb292AAAAbG12aGQAAAAAAAAAAAAAAAAAAAPoAAAH0AAB\n",
              "AAABAAAAAAAAAAAAAAAAAQAAAAAAAAAAAAAAAAAAAAEAAAAAAAAAAAAAAAAAAEAAAAAAAAAAAAAA\n",
              "AAAAAAAAAAAAAAAAAAAAAAAAAAACAAACoHRyYWsAAABcdGtoZAAAAAMAAAAAAAAAAAAAAAEAAAAA\n",
              "AAAH0AAAAAAAAAAAAAAAAAAAAAAAAQAAAAAAAAAAAAAAAAAAAAEAAAAAAAAAAAAAAAAAAEAAAAAB\n",
              "sAAAASAAAAAAACRlZHRzAAAAHGVsc3QAAAAAAAAAAQAAB9AAABAAAAEAAAAAAhhtZGlhAAAAIG1k\n",
              "aGQAAAAAAAAAAAAAAAAAACgAAABQAFXEAAAAAAAtaGRscgAAAAAAAAAAdmlkZQAAAAAAAAAAAAAA\n",
              "AFZpZGVvSGFuZGxlcgAAAAHDbWluZgAAABR2bWhkAAAAAQAAAAAAAAAAAAAAJGRpbmYAAAAcZHJl\n",
              "ZgAAAAAAAAABAAAADHVybCAAAAABAAABg3N0YmwAAACzc3RzZAAAAAAAAAABAAAAo2F2YzEAAAAA\n",
              "AAAAAQAAAAAAAAAAAAAAAAAAAAABsAEgAEgAAABIAAAAAAAAAAEAAAAAAAAAAAAAAAAAAAAAAAAA\n",
              "AAAAAAAAAAAAAAAAAAAY//8AAAAxYXZjQwFkABX/4QAYZ2QAFazZQbCWhAAAAwAEAAADACg8WLZY\n",
              "AQAGaOvjyyLAAAAAHHV1aWRraEDyXyRPxbo5pRvPAyPzAAAAAAAAABhzdHRzAAAAAAAAAAEAAAAK\n",
              "AAAIAAAAABRzdHNzAAAAAAAAAAEAAAABAAAAMGN0dHMAAAAAAAAABAAAAAYAABAAAAAAAQAAGAAA\n",
              "AAABAAAIAAAAAAIAABAAAAAAHHN0c2MAAAAAAAAAAQAAAAEAAAAKAAAAAQAAADxzdHN6AAAAAAAA\n",
              "AAAAAAAKAAARrAAAAtoAAAFxAAABZQAAAcgAAAJAAAAC6gAAAbsAAAGDAAABwgAAABRzdGNvAAAA\n",
              "AAAAAAEAAAAsAAAAYnVkdGEAAABabWV0YQAAAAAAAAAhaGRscgAAAAAAAAAAbWRpcmFwcGwAAAAA\n",
              "AAAAAAAAAAAtaWxzdAAAACWpdG9vAAAAHWRhdGEAAAABAAAAAExhdmY1Ny44My4xMDA=\n",
              "\">\n",
              "  Your browser does not support the video tag.\n",
              "</video>"
            ],
            "text/plain": [
              "<IPython.core.display.HTML object>"
            ]
          },
          "metadata": {},
          "output_type": "display_data"
        },
        {
          "data": {
            "image/png": "[encoded data removed]",
            "text/plain": [
              "<Figure size 432x288 with 1 Axes>"
            ]
          },
          "metadata": {
            "needs_background": "light"
          },
          "output_type": "display_data"
        },
        {
          "data": {
            "image/png": "[encoded data removed]",
            "text/plain": [
              "<Figure size 432x288 with 1 Axes>"
            ]
          },
          "metadata": {
            "needs_background": "light"
          },
          "output_type": "display_data"
        }
      ],
      "source": [
        "from IPython.display import display, HTML\n",
        "import matplotlib.animation as animation\n",
        "\n",
        "def make_video(seq, *, title=None):\n",
        "  \"\"\"\n",
        "  Display an iterable of frames.\n",
        "  \"\"\"\n",
        "  fig = plt.figure()\n",
        "\n",
        "  def plot_frame(frame, *args):\n",
        "      im = plt.imshow(frame, cmap='gray')\n",
        "      im.axes.set_title(title)\n",
        "      return im,\n",
        "\n",
        "  ani = animation.FuncAnimation(fig, plot_frame, frames=seq, blit=True)\n",
        "  return HTML(ani.to_html5_video())\n",
        "\n",
        "# Display prediction video.\n",
        "display(make_video(Y_pred, title='prediction'))\n",
        "display(make_video(Y_true, title='ground truth'))\n",
        "# View the videos on Colab: https://colab.research.google.com/drive/1kyzTM0SWSJkRx1j5pStyH3mIBTLwox_V?usp=sharing"
      ]
    },
    {
      "cell_type": "markdown",
      "metadata": {
        "id": "rTtAIBhYCVUe"
      },
      "source": [
        "### [C14]"
      ]
    },
    {
      "cell_type": "code",
      "execution_count": 71,
      "metadata": {
        "colab": {
          "base_uri": "https://localhost:8080/",
          "height": 305
        },
        "id": "bmh-6k2GOaOn",
        "outputId": "366cf4b3-729f-4a42-ba92-6c996987615e"
      },
      "outputs": [
        {
          "data": {
            "image/png": "[encoded data removed]",
            "text/plain": [
              "<Figure size 432x288 with 15 Axes>"
            ]
          },
          "metadata": {
            "needs_background": "light"
          },
          "output_type": "display_data"
        }
      ],
      "source": [
        "fig, axs = plt.subplots(3, 5)\n",
        "fig.suptitle(f'Comparison of Sample {sample_index}')\n",
        "for i in range(5):\n",
        "  axs[0, i].imshow(Y_pred[i*2], cmap=plt.cm.binary)\n",
        "  axs[1, i].imshow(Y_true[i*2], cmap=plt.cm.binary)\n",
        "  axs[2, i].imshow(Y_true[i*2] - Y_pred[i*2], cmap=plt.cm.binary)\n",
        "  axs[2, i].set_xlabel(f'frame {10+2*i}')\n",
        "\n",
        "axs[0, 0].set_ylabel('pred')\n",
        "axs[1, 0].set_ylabel('true')\n",
        "axs[2, 0].set_ylabel('diff')\n",
        "None"
      ]
    },
    {
      "cell_type": "markdown",
      "metadata": {
        "id": "UeLVMw4FVGiG"
      },
      "source": [
        "### [Q10]\n",
        "\n",
        "The predicted output is fairly accurate for the first 3-5 frames. The general position of clusters are fairly accurate (as can be seen in the cloudy differences), but the details are fuzzy and lacking."
      ]
    }
  ],
  "metadata": {
    "accelerator": "GPU",
    "colab": {
      "collapsed_sections": [],
      "provenance": [],
      "toc_visible": true
    },
    "kernelspec": {
      "display_name": "Python 3.8.13 ('dsci')",
      "language": "python",
      "name": "python3"
    },
    "language_info": {
      "codemirror_mode": {
        "name": "ipython",
        "version": 3
      },
      "file_extension": ".py",
      "mimetype": "text/x-python",
      "name": "python",
      "nbconvert_exporter": "python",
      "pygments_lexer": "ipython3",
      "version": "3.8.13"
    },
    "vscode": {
      "interpreter": {
        "hash": "931c56722b38fbd6591360a758567581219cff8ed5c77b3f3200c21ee3222739"
      }
    }
  },
  "nbformat": 4,
  "nbformat_minor": 0
}
